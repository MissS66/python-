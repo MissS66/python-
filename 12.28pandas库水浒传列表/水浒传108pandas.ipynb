{
 "cells": [
  {
   "cell_type": "code",
   "execution_count": 1,
   "id": "b8fcdb30",
   "metadata": {},
   "outputs": [
    {
     "data": {
      "text/html": [
       "<div>\n",
       "<style scoped>\n",
       "    .dataframe tbody tr th:only-of-type {\n",
       "        vertical-align: middle;\n",
       "    }\n",
       "\n",
       "    .dataframe tbody tr th {\n",
       "        vertical-align: top;\n",
       "    }\n",
       "\n",
       "    .dataframe thead th {\n",
       "        text-align: right;\n",
       "    }\n",
       "</style>\n",
       "<table border=\"1\" class=\"dataframe\">\n",
       "  <thead>\n",
       "    <tr style=\"text-align: right;\">\n",
       "      <th></th>\n",
       "      <th>座次</th>\n",
       "      <th>姓名</th>\n",
       "      <th>绰号</th>\n",
       "      <th>星宿</th>\n",
       "      <th>梁山泊职位</th>\n",
       "    </tr>\n",
       "  </thead>\n",
       "  <tbody>\n",
       "    <tr>\n",
       "      <th>0</th>\n",
       "      <td>1</td>\n",
       "      <td>宋江</td>\n",
       "      <td>呼保义/及时雨</td>\n",
       "      <td>天魁星</td>\n",
       "      <td>总督兵马大元帅</td>\n",
       "    </tr>\n",
       "    <tr>\n",
       "      <th>1</th>\n",
       "      <td>2</td>\n",
       "      <td>卢俊义</td>\n",
       "      <td>玉麒麟</td>\n",
       "      <td>天罡星</td>\n",
       "      <td>总督兵马副元帅</td>\n",
       "    </tr>\n",
       "    <tr>\n",
       "      <th>2</th>\n",
       "      <td>3</td>\n",
       "      <td>吴用</td>\n",
       "      <td>智多星</td>\n",
       "      <td>天机星</td>\n",
       "      <td>掌管机密正军师</td>\n",
       "    </tr>\n",
       "    <tr>\n",
       "      <th>3</th>\n",
       "      <td>4</td>\n",
       "      <td>公孙胜</td>\n",
       "      <td>入云龙</td>\n",
       "      <td>天闲星</td>\n",
       "      <td>掌管机密副军师</td>\n",
       "    </tr>\n",
       "    <tr>\n",
       "      <th>4</th>\n",
       "      <td>5</td>\n",
       "      <td>关胜</td>\n",
       "      <td>大刀</td>\n",
       "      <td>天勇星</td>\n",
       "      <td>马军五虎将之首兼左军大将领正东旱寨守尉主将</td>\n",
       "    </tr>\n",
       "    <tr>\n",
       "      <th>...</th>\n",
       "      <td>...</td>\n",
       "      <td>...</td>\n",
       "      <td>...</td>\n",
       "      <td>...</td>\n",
       "      <td>...</td>\n",
       "    </tr>\n",
       "    <tr>\n",
       "      <th>103</th>\n",
       "      <td>104</td>\n",
       "      <td>王定六</td>\n",
       "      <td>活闪婆</td>\n",
       "      <td>地劣星</td>\n",
       "      <td>内务处迎宾八使之八兼北山酒店副掌店</td>\n",
       "    </tr>\n",
       "    <tr>\n",
       "      <th>104</th>\n",
       "      <td>105</td>\n",
       "      <td>郁保四</td>\n",
       "      <td>险道神</td>\n",
       "      <td>地健星</td>\n",
       "      <td>内务处十六监造十六兼掌旗营指挥知专捧帅字旗帜事</td>\n",
       "    </tr>\n",
       "    <tr>\n",
       "      <th>105</th>\n",
       "      <td>106</td>\n",
       "      <td>白胜</td>\n",
       "      <td>白日鼠</td>\n",
       "      <td>地耗星</td>\n",
       "      <td>走报机密四校之二兼细作队都统制</td>\n",
       "    </tr>\n",
       "    <tr>\n",
       "      <th>106</th>\n",
       "      <td>107</td>\n",
       "      <td>时迁</td>\n",
       "      <td>鼓上蚤</td>\n",
       "      <td>地贼星</td>\n",
       "      <td>走报机密四校之三兼侦查队都统制</td>\n",
       "    </tr>\n",
       "    <tr>\n",
       "      <th>107</th>\n",
       "      <td>108</td>\n",
       "      <td>段景住</td>\n",
       "      <td>金毛犬</td>\n",
       "      <td>地狗星</td>\n",
       "      <td>走报机密四校之四兼斥候队都统制</td>\n",
       "    </tr>\n",
       "  </tbody>\n",
       "</table>\n",
       "<p>108 rows × 5 columns</p>\n",
       "</div>"
      ],
      "text/plain": [
       "      座次   姓名       绰号   星宿                    梁山泊职位\n",
       "0      1   宋江  呼保义/及时雨  天魁星                  总督兵马大元帅\n",
       "1      2  卢俊义      玉麒麟  天罡星                  总督兵马副元帅\n",
       "2      3   吴用      智多星  天机星                  掌管机密正军师\n",
       "3      4  公孙胜      入云龙  天闲星                  掌管机密副军师\n",
       "4      5   关胜       大刀  天勇星    马军五虎将之首兼左军大将领正东旱寨守尉主将\n",
       "..   ...  ...      ...  ...                      ...\n",
       "103  104  王定六      活闪婆  地劣星        内务处迎宾八使之八兼北山酒店副掌店\n",
       "104  105  郁保四      险道神  地健星  内务处十六监造十六兼掌旗营指挥知专捧帅字旗帜事\n",
       "105  106   白胜      白日鼠  地耗星          走报机密四校之二兼细作队都统制\n",
       "106  107   时迁      鼓上蚤  地贼星          走报机密四校之三兼侦查队都统制\n",
       "107  108  段景住      金毛犬  地狗星          走报机密四校之四兼斥候队都统制\n",
       "\n",
       "[108 rows x 5 columns]"
      ]
     },
     "execution_count": 1,
     "metadata": {},
     "output_type": "execute_result"
    }
   ],
   "source": [
    "#对比excel学习pandas\n",
    "import pandas as pd\n",
    "df=pd.read_excel(\"D:/Python/课堂/14次/14-pandas（2）/data/梁山108将.xlsx\")\n",
    "df"
   ]
  },
  {
   "cell_type": "code",
   "execution_count": 2,
   "id": "27585a81",
   "metadata": {},
   "outputs": [
    {
     "name": "stdout",
     "output_type": "stream",
     "text": [
      "<class 'pandas.core.frame.DataFrame'>\n"
     ]
    }
   ],
   "source": [
    "print(type(df))   #打印数据的数据结构"
   ]
  },
  {
   "cell_type": "code",
   "execution_count": 4,
   "id": "834b9cff",
   "metadata": {},
   "outputs": [
    {
     "name": "stdout",
     "output_type": "stream",
     "text": [
      "(108, 5)\n"
     ]
    }
   ],
   "source": [
    "print(df.shape)   #显示数据的形状"
   ]
  },
  {
   "cell_type": "code",
   "execution_count": 5,
   "id": "f92ffe0d",
   "metadata": {},
   "outputs": [
    {
     "data": {
      "text/plain": [
       "Index(['座次', '姓名', '绰号', '星宿', '梁山泊职位'], dtype='object')"
      ]
     },
     "execution_count": 5,
     "metadata": {},
     "output_type": "execute_result"
    }
   ],
   "source": [
    "df.columns  #显示每一列的索引"
   ]
  },
  {
   "cell_type": "code",
   "execution_count": 6,
   "id": "44616afe",
   "metadata": {},
   "outputs": [
    {
     "data": {
      "text/plain": [
       "0       宋江\n",
       "1      卢俊义\n",
       "2       吴用\n",
       "3      公孙胜\n",
       "4       关胜\n",
       "      ... \n",
       "103    王定六\n",
       "104    郁保四\n",
       "105     白胜\n",
       "106     时迁\n",
       "107    段景住\n",
       "Name: 姓名, Length: 108, dtype: object"
      ]
     },
     "execution_count": 6,
     "metadata": {},
     "output_type": "execute_result"
    }
   ],
   "source": [
    "df[\"姓名\"]  #通过索引输出一列"
   ]
  },
  {
   "cell_type": "code",
   "execution_count": 7,
   "id": "5d7988d8",
   "metadata": {},
   "outputs": [
    {
     "name": "stdout",
     "output_type": "stream",
     "text": [
      "<class 'pandas.core.series.Series'>\n"
     ]
    }
   ],
   "source": [
    "s1=df[\"姓名\"]\n",
    "print(type(s1))  #查看该列数据类型，为series，可以看出dataframe是由多个series组成的。"
   ]
  },
  {
   "cell_type": "code",
   "execution_count": 8,
   "id": "b2d0cd0f",
   "metadata": {},
   "outputs": [
    {
     "data": {
      "text/plain": [
       "0       宋江\n",
       "1      卢俊义\n",
       "2       吴用\n",
       "3      公孙胜\n",
       "4       关胜\n",
       "      ... \n",
       "103    王定六\n",
       "104    郁保四\n",
       "105     白胜\n",
       "106     时迁\n",
       "107    段景住\n",
       "Name: 姓名, Length: 108, dtype: object"
      ]
     },
     "execution_count": 8,
     "metadata": {},
     "output_type": "execute_result"
    }
   ],
   "source": [
    "s1"
   ]
  },
  {
   "cell_type": "code",
   "execution_count": 10,
   "id": "e2f708a0",
   "metadata": {},
   "outputs": [
    {
     "data": {
      "text/plain": [
       "0    1\n",
       "1    2\n",
       "2    3\n",
       "3    4\n",
       "dtype: int64"
      ]
     },
     "execution_count": 10,
     "metadata": {},
     "output_type": "execute_result"
    }
   ],
   "source": [
    "pd.Series([1,2,3,4])  #通过列表创建Series"
   ]
  },
  {
   "cell_type": "code",
   "execution_count": 11,
   "id": "a9eb2e84",
   "metadata": {},
   "outputs": [
    {
     "name": "stdout",
     "output_type": "stream",
     "text": [
      "RangeIndex(start=0, stop=4, step=1)\n",
      "[1 2 3 4]\n"
     ]
    }
   ],
   "source": [
    "s=pd.Series([1,2,3,4])\n",
    "#获取索引\n",
    "print(s.index)\n",
    "#获取值\n",
    "print(s.values)"
   ]
  },
  {
   "cell_type": "code",
   "execution_count": 12,
   "id": "a6b84090",
   "metadata": {},
   "outputs": [
    {
     "name": "stdout",
     "output_type": "stream",
     "text": [
      "Index(['a', 'b', 'c', 'd'], dtype='object')\n",
      "[1 2 3 4]\n"
     ]
    }
   ],
   "source": [
    "s=pd.Series([1,2,3,4],index=['a','b','c','d'])  #创建自定义索引\n",
    "#获取索引\n",
    "print(s.index)\n",
    "#获取值\n",
    "print(s.values)"
   ]
  },
  {
   "cell_type": "code",
   "execution_count": 24,
   "id": "0b95ce94",
   "metadata": {},
   "outputs": [
    {
     "name": "stdout",
     "output_type": "stream",
     "text": [
      "c    3\n",
      "d    4\n",
      "dtype: int64\n"
     ]
    }
   ],
   "source": [
    "#pandas中可以使用numpy中的功能\n",
    "#获取值大于2的\n",
    "print(s[s>2])"
   ]
  },
  {
   "cell_type": "code",
   "execution_count": 22,
   "id": "23c24685",
   "metadata": {},
   "outputs": [
    {
     "name": "stdout",
     "output_type": "stream",
     "text": [
      "1     宋江\n",
      "2    卢俊义\n",
      "3     吴用\n",
      "dtype: object\n"
     ]
    }
   ],
   "source": [
    "#传递字典参数\n",
    "dict_value={'1':'宋江','2':'卢俊义','3':'吴用'}\n",
    "s2=pd.Series(dict_value)\n",
    "print(s2)"
   ]
  },
  {
   "cell_type": "code",
   "execution_count": 23,
   "id": "497ac4cc",
   "metadata": {
    "scrolled": true
   },
   "outputs": [
    {
     "name": "stdout",
     "output_type": "stream",
     "text": [
      "Index(['1', '2', '3'], dtype='object')\n"
     ]
    }
   ],
   "source": [
    "print(s2.index)"
   ]
  },
  {
   "cell_type": "code",
   "execution_count": 25,
   "id": "f29c689b",
   "metadata": {},
   "outputs": [
    {
     "name": "stdout",
     "output_type": "stream",
     "text": [
      "座次\n",
      "1     宋江\n",
      "2    卢俊义\n",
      "3     吴用\n",
      "dtype: object\n"
     ]
    }
   ],
   "source": [
    "#添加自定义索引\n",
    "s2.index.name = '座次'\n",
    "print(s2)"
   ]
  },
  {
   "cell_type": "code",
   "execution_count": 26,
   "id": "ae3210d6",
   "metadata": {},
   "outputs": [
    {
     "name": "stdout",
     "output_type": "stream",
     "text": [
      "   0    1\n",
      "0  1   宋江\n",
      "1  2  卢俊义\n",
      "2  3   吴用\n",
      "<class 'pandas.core.frame.DataFrame'>\n"
     ]
    }
   ],
   "source": [
    "import pandas as pd\n",
    "data=[['1','宋江'],['2','卢俊义'],['3','吴用']]\n",
    "df=pd.DataFrame(data)\n",
    "print(df)\n",
    "print(type(df))"
   ]
  },
  {
   "cell_type": "code",
   "execution_count": 27,
   "id": "c3cbc02c",
   "metadata": {},
   "outputs": [
    {
     "name": "stdout",
     "output_type": "stream",
     "text": [
      "      座次   姓名\n",
      "rank1  1   宋江\n",
      "rank2  2  卢俊义\n",
      "rank3  3   吴用\n"
     ]
    }
   ],
   "source": [
    "df=pd.DataFrame(data,index=['rank1','rank2','rank3'],columns=['座次','姓名'])\n",
    "print(df)"
   ]
  },
  {
   "cell_type": "code",
   "execution_count": 28,
   "id": "3520f46c",
   "metadata": {},
   "outputs": [
    {
     "name": "stdout",
     "output_type": "stream",
     "text": [
      "      座次   姓名\n",
      "rank1  1   宋江\n",
      "rank2  2  卢俊义\n",
      "rank3  3   吴用\n"
     ]
    }
   ],
   "source": [
    "data={'座次':['1','2','3'],'姓名':['宋江','卢俊义','吴用']}\n",
    "df=pd.DataFrame(data,index=['rank1','rank2','rank3'])\n",
    "print(df)"
   ]
  },
  {
   "cell_type": "code",
   "execution_count": 30,
   "id": "6cc42230",
   "metadata": {},
   "outputs": [
    {
     "name": "stdout",
     "output_type": "stream",
     "text": [
      "      座次   姓名\n",
      "rank1  1   宋江\n",
      "rank2  2  卢俊义\n",
      "rank3  3   吴用\n"
     ]
    }
   ],
   "source": [
    "#使用列表字典\n",
    "data = [{'座次':'1','姓名':'宋江'},{'座次':'2','姓名':'卢俊义'},{'座次':'3','姓名':'吴用'}]\n",
    "df = pd.DataFrame(data,index=['rank1','rank2','rank3'])\n",
    "print(df)"
   ]
  },
  {
   "cell_type": "code",
   "execution_count": 31,
   "id": "0c3cbd64",
   "metadata": {},
   "outputs": [
    {
     "name": "stdout",
     "output_type": "stream",
     "text": [
      "       0    1\n",
      "rank1  1   宋江\n",
      "rank2  2  卢俊义\n",
      "rank3  3   吴用\n"
     ]
    }
   ],
   "source": [
    "#使用series\n",
    "s1 = pd.Series(['1','宋江'])\n",
    "s2 = pd.Series(['2','卢俊义'])\n",
    "s3 = pd.Series(['3','吴用'])\n",
    "data = [s1,s2,s3]\n",
    "df = pd.DataFrame(data,index=['rank1','rank2','rank3'])\n",
    "print(df)"
   ]
  },
  {
   "cell_type": "code",
   "execution_count": 32,
   "id": "2aea7d18",
   "metadata": {},
   "outputs": [
    {
     "data": {
      "text/html": [
       "<div>\n",
       "<style scoped>\n",
       "    .dataframe tbody tr th:only-of-type {\n",
       "        vertical-align: middle;\n",
       "    }\n",
       "\n",
       "    .dataframe tbody tr th {\n",
       "        vertical-align: top;\n",
       "    }\n",
       "\n",
       "    .dataframe thead th {\n",
       "        text-align: right;\n",
       "    }\n",
       "</style>\n",
       "<table border=\"1\" class=\"dataframe\">\n",
       "  <thead>\n",
       "    <tr style=\"text-align: right;\">\n",
       "      <th></th>\n",
       "      <th>座次</th>\n",
       "      <th>姓名</th>\n",
       "      <th>绰号</th>\n",
       "      <th>星宿</th>\n",
       "      <th>梁山泊职位</th>\n",
       "    </tr>\n",
       "  </thead>\n",
       "  <tbody>\n",
       "    <tr>\n",
       "      <th>0</th>\n",
       "      <td>1</td>\n",
       "      <td>宋江</td>\n",
       "      <td>呼保义/及时雨</td>\n",
       "      <td>天魁星</td>\n",
       "      <td>总督兵马大元帅</td>\n",
       "    </tr>\n",
       "    <tr>\n",
       "      <th>1</th>\n",
       "      <td>2</td>\n",
       "      <td>卢俊义</td>\n",
       "      <td>玉麒麟</td>\n",
       "      <td>天罡星</td>\n",
       "      <td>总督兵马副元帅</td>\n",
       "    </tr>\n",
       "    <tr>\n",
       "      <th>2</th>\n",
       "      <td>3</td>\n",
       "      <td>吴用</td>\n",
       "      <td>智多星</td>\n",
       "      <td>天机星</td>\n",
       "      <td>掌管机密正军师</td>\n",
       "    </tr>\n",
       "    <tr>\n",
       "      <th>3</th>\n",
       "      <td>4</td>\n",
       "      <td>公孙胜</td>\n",
       "      <td>入云龙</td>\n",
       "      <td>天闲星</td>\n",
       "      <td>掌管机密副军师</td>\n",
       "    </tr>\n",
       "    <tr>\n",
       "      <th>4</th>\n",
       "      <td>5</td>\n",
       "      <td>关胜</td>\n",
       "      <td>大刀</td>\n",
       "      <td>天勇星</td>\n",
       "      <td>马军五虎将之首兼左军大将领正东旱寨守尉主将</td>\n",
       "    </tr>\n",
       "    <tr>\n",
       "      <th>...</th>\n",
       "      <td>...</td>\n",
       "      <td>...</td>\n",
       "      <td>...</td>\n",
       "      <td>...</td>\n",
       "      <td>...</td>\n",
       "    </tr>\n",
       "    <tr>\n",
       "      <th>103</th>\n",
       "      <td>104</td>\n",
       "      <td>王定六</td>\n",
       "      <td>活闪婆</td>\n",
       "      <td>地劣星</td>\n",
       "      <td>内务处迎宾八使之八兼北山酒店副掌店</td>\n",
       "    </tr>\n",
       "    <tr>\n",
       "      <th>104</th>\n",
       "      <td>105</td>\n",
       "      <td>郁保四</td>\n",
       "      <td>险道神</td>\n",
       "      <td>地健星</td>\n",
       "      <td>内务处十六监造十六兼掌旗营指挥知专捧帅字旗帜事</td>\n",
       "    </tr>\n",
       "    <tr>\n",
       "      <th>105</th>\n",
       "      <td>106</td>\n",
       "      <td>白胜</td>\n",
       "      <td>白日鼠</td>\n",
       "      <td>地耗星</td>\n",
       "      <td>走报机密四校之二兼细作队都统制</td>\n",
       "    </tr>\n",
       "    <tr>\n",
       "      <th>106</th>\n",
       "      <td>107</td>\n",
       "      <td>时迁</td>\n",
       "      <td>鼓上蚤</td>\n",
       "      <td>地贼星</td>\n",
       "      <td>走报机密四校之三兼侦查队都统制</td>\n",
       "    </tr>\n",
       "    <tr>\n",
       "      <th>107</th>\n",
       "      <td>108</td>\n",
       "      <td>段景住</td>\n",
       "      <td>金毛犬</td>\n",
       "      <td>地狗星</td>\n",
       "      <td>走报机密四校之四兼斥候队都统制</td>\n",
       "    </tr>\n",
       "  </tbody>\n",
       "</table>\n",
       "<p>108 rows × 5 columns</p>\n",
       "</div>"
      ],
      "text/plain": [
       "      座次   姓名       绰号   星宿                    梁山泊职位\n",
       "0      1   宋江  呼保义/及时雨  天魁星                  总督兵马大元帅\n",
       "1      2  卢俊义      玉麒麟  天罡星                  总督兵马副元帅\n",
       "2      3   吴用      智多星  天机星                  掌管机密正军师\n",
       "3      4  公孙胜      入云龙  天闲星                  掌管机密副军师\n",
       "4      5   关胜       大刀  天勇星    马军五虎将之首兼左军大将领正东旱寨守尉主将\n",
       "..   ...  ...      ...  ...                      ...\n",
       "103  104  王定六      活闪婆  地劣星        内务处迎宾八使之八兼北山酒店副掌店\n",
       "104  105  郁保四      险道神  地健星  内务处十六监造十六兼掌旗营指挥知专捧帅字旗帜事\n",
       "105  106   白胜      白日鼠  地耗星          走报机密四校之二兼细作队都统制\n",
       "106  107   时迁      鼓上蚤  地贼星          走报机密四校之三兼侦查队都统制\n",
       "107  108  段景住      金毛犬  地狗星          走报机密四校之四兼斥候队都统制\n",
       "\n",
       "[108 rows x 5 columns]"
      ]
     },
     "execution_count": 32,
     "metadata": {},
     "output_type": "execute_result"
    }
   ],
   "source": [
    "df=pd.read_excel(\"D:/Python/课堂/14次/14-pandas（2）/data/梁山108将.xlsx\")\n",
    "df"
   ]
  },
  {
   "cell_type": "code",
   "execution_count": 33,
   "id": "e393c5a2",
   "metadata": {},
   "outputs": [
    {
     "name": "stdout",
     "output_type": "stream",
     "text": [
      "      座次   姓名\n",
      "rank1  1   宋江\n",
      "rank2  2  卢俊义\n",
      "rank3  3   吴用\n"
     ]
    }
   ],
   "source": [
    "data = [{'座次':'1','姓名':'宋江'},{'座次':'2','姓名':'卢俊义'},{'座次':'3','姓名':'吴用'}]\n",
    "df = pd.DataFrame(data,index=['rank1','rank2','rank3'])\n",
    "print(df)\n"
   ]
  },
  {
   "cell_type": "code",
   "execution_count": 34,
   "id": "2ef5f78c",
   "metadata": {},
   "outputs": [
    {
     "data": {
      "text/html": [
       "<div>\n",
       "<style scoped>\n",
       "    .dataframe tbody tr th:only-of-type {\n",
       "        vertical-align: middle;\n",
       "    }\n",
       "\n",
       "    .dataframe tbody tr th {\n",
       "        vertical-align: top;\n",
       "    }\n",
       "\n",
       "    .dataframe thead th {\n",
       "        text-align: right;\n",
       "    }\n",
       "</style>\n",
       "<table border=\"1\" class=\"dataframe\">\n",
       "  <thead>\n",
       "    <tr style=\"text-align: right;\">\n",
       "      <th></th>\n",
       "      <th>座次</th>\n",
       "      <th>姓名</th>\n",
       "      <th>绰号</th>\n",
       "    </tr>\n",
       "  </thead>\n",
       "  <tbody>\n",
       "    <tr>\n",
       "      <th>rank1</th>\n",
       "      <td>1</td>\n",
       "      <td>宋江</td>\n",
       "      <td>及时雨</td>\n",
       "    </tr>\n",
       "    <tr>\n",
       "      <th>rank2</th>\n",
       "      <td>2</td>\n",
       "      <td>卢俊义</td>\n",
       "      <td>玉麒麟</td>\n",
       "    </tr>\n",
       "    <tr>\n",
       "      <th>rank3</th>\n",
       "      <td>3</td>\n",
       "      <td>吴用</td>\n",
       "      <td>智多星</td>\n",
       "    </tr>\n",
       "  </tbody>\n",
       "</table>\n",
       "</div>"
      ],
      "text/plain": [
       "      座次   姓名   绰号\n",
       "rank1  1   宋江  及时雨\n",
       "rank2  2  卢俊义  玉麒麟\n",
       "rank3  3   吴用  智多星"
      ]
     },
     "execution_count": 34,
     "metadata": {},
     "output_type": "execute_result"
    }
   ],
   "source": [
    "#新增列\n",
    "df['绰号']=['及时雨','玉麒麟','智多星']\n",
    "df"
   ]
  },
  {
   "cell_type": "code",
   "execution_count": 51,
   "id": "0b987e35",
   "metadata": {},
   "outputs": [
    {
     "name": "stdout",
     "output_type": "stream",
     "text": [
      "      座次   姓名   绰号\n",
      "rank1  1   宋江  呼保义\n",
      "rank2  2  卢俊义  玉麒麟\n",
      "rank3  3   吴用  智多星\n"
     ]
    }
   ],
   "source": [
    "#修改列\n",
    "df['绰号'] = ['呼保义','玉麒麟','智多星']\n",
    "print(df)"
   ]
  },
  {
   "cell_type": "code",
   "execution_count": 42,
   "id": "e4a2a64b",
   "metadata": {},
   "outputs": [
    {
     "data": {
      "text/plain": [
       "rank1     宋江\n",
       "rank2    卢俊义\n",
       "rank3     吴用\n",
       "Name: 姓名, dtype: object"
      ]
     },
     "execution_count": 42,
     "metadata": {},
     "output_type": "execute_result"
    }
   ],
   "source": [
    "#获取一列\n",
    "df['姓名']"
   ]
  },
  {
   "cell_type": "code",
   "execution_count": 43,
   "id": "6c9af143",
   "metadata": {},
   "outputs": [
    {
     "name": "stdout",
     "output_type": "stream",
     "text": [
      "<class 'pandas.core.series.Series'>\n"
     ]
    }
   ],
   "source": [
    "print(type(df['姓名']))"
   ]
  },
  {
   "cell_type": "code",
   "execution_count": 44,
   "id": "3de0b953",
   "metadata": {},
   "outputs": [],
   "source": [
    "#删除列\n",
    "del df['绰号']"
   ]
  },
  {
   "cell_type": "code",
   "execution_count": 45,
   "id": "a170a95e",
   "metadata": {},
   "outputs": [
    {
     "data": {
      "text/html": [
       "<div>\n",
       "<style scoped>\n",
       "    .dataframe tbody tr th:only-of-type {\n",
       "        vertical-align: middle;\n",
       "    }\n",
       "\n",
       "    .dataframe tbody tr th {\n",
       "        vertical-align: top;\n",
       "    }\n",
       "\n",
       "    .dataframe thead th {\n",
       "        text-align: right;\n",
       "    }\n",
       "</style>\n",
       "<table border=\"1\" class=\"dataframe\">\n",
       "  <thead>\n",
       "    <tr style=\"text-align: right;\">\n",
       "      <th></th>\n",
       "      <th>座次</th>\n",
       "      <th>姓名</th>\n",
       "    </tr>\n",
       "  </thead>\n",
       "  <tbody>\n",
       "    <tr>\n",
       "      <th>rank1</th>\n",
       "      <td>1</td>\n",
       "      <td>宋江</td>\n",
       "    </tr>\n",
       "    <tr>\n",
       "      <th>rank2</th>\n",
       "      <td>2</td>\n",
       "      <td>卢俊义</td>\n",
       "    </tr>\n",
       "    <tr>\n",
       "      <th>rank3</th>\n",
       "      <td>3</td>\n",
       "      <td>吴用</td>\n",
       "    </tr>\n",
       "  </tbody>\n",
       "</table>\n",
       "</div>"
      ],
      "text/plain": [
       "      座次   姓名\n",
       "rank1  1   宋江\n",
       "rank2  2  卢俊义\n",
       "rank3  3   吴用"
      ]
     },
     "execution_count": 45,
     "metadata": {},
     "output_type": "execute_result"
    }
   ],
   "source": [
    "df"
   ]
  },
  {
   "cell_type": "code",
   "execution_count": 48,
   "id": "a462f48a",
   "metadata": {},
   "outputs": [
    {
     "data": {
      "text/plain": [
       "rank1    呼保义\n",
       "rank2    玉麒麟\n",
       "rank3    智多星\n",
       "Name: 绰号, dtype: object"
      ]
     },
     "execution_count": 48,
     "metadata": {},
     "output_type": "execute_result"
    }
   ],
   "source": [
    "df.pop('绰号')"
   ]
  },
  {
   "cell_type": "code",
   "execution_count": 49,
   "id": "51829524",
   "metadata": {},
   "outputs": [
    {
     "data": {
      "text/html": [
       "<div>\n",
       "<style scoped>\n",
       "    .dataframe tbody tr th:only-of-type {\n",
       "        vertical-align: middle;\n",
       "    }\n",
       "\n",
       "    .dataframe tbody tr th {\n",
       "        vertical-align: top;\n",
       "    }\n",
       "\n",
       "    .dataframe thead th {\n",
       "        text-align: right;\n",
       "    }\n",
       "</style>\n",
       "<table border=\"1\" class=\"dataframe\">\n",
       "  <thead>\n",
       "    <tr style=\"text-align: right;\">\n",
       "      <th></th>\n",
       "      <th>座次</th>\n",
       "      <th>姓名</th>\n",
       "    </tr>\n",
       "  </thead>\n",
       "  <tbody>\n",
       "    <tr>\n",
       "      <th>rank1</th>\n",
       "      <td>1</td>\n",
       "      <td>宋江</td>\n",
       "    </tr>\n",
       "    <tr>\n",
       "      <th>rank2</th>\n",
       "      <td>2</td>\n",
       "      <td>卢俊义</td>\n",
       "    </tr>\n",
       "    <tr>\n",
       "      <th>rank3</th>\n",
       "      <td>3</td>\n",
       "      <td>吴用</td>\n",
       "    </tr>\n",
       "  </tbody>\n",
       "</table>\n",
       "</div>"
      ],
      "text/plain": [
       "      座次   姓名\n",
       "rank1  1   宋江\n",
       "rank2  2  卢俊义\n",
       "rank3  3   吴用"
      ]
     },
     "execution_count": 49,
     "metadata": {},
     "output_type": "execute_result"
    }
   ],
   "source": [
    "df"
   ]
  },
  {
   "cell_type": "code",
   "execution_count": 52,
   "id": "899debf1",
   "metadata": {},
   "outputs": [
    {
     "data": {
      "text/html": [
       "<div>\n",
       "<style scoped>\n",
       "    .dataframe tbody tr th:only-of-type {\n",
       "        vertical-align: middle;\n",
       "    }\n",
       "\n",
       "    .dataframe tbody tr th {\n",
       "        vertical-align: top;\n",
       "    }\n",
       "\n",
       "    .dataframe thead th {\n",
       "        text-align: right;\n",
       "    }\n",
       "</style>\n",
       "<table border=\"1\" class=\"dataframe\">\n",
       "  <thead>\n",
       "    <tr style=\"text-align: right;\">\n",
       "      <th></th>\n",
       "      <th>座次</th>\n",
       "      <th>姓名</th>\n",
       "    </tr>\n",
       "  </thead>\n",
       "  <tbody>\n",
       "    <tr>\n",
       "      <th>rank1</th>\n",
       "      <td>1</td>\n",
       "      <td>宋江</td>\n",
       "    </tr>\n",
       "    <tr>\n",
       "      <th>rank2</th>\n",
       "      <td>2</td>\n",
       "      <td>卢俊义</td>\n",
       "    </tr>\n",
       "    <tr>\n",
       "      <th>rank3</th>\n",
       "      <td>3</td>\n",
       "      <td>吴用</td>\n",
       "    </tr>\n",
       "  </tbody>\n",
       "</table>\n",
       "</div>"
      ],
      "text/plain": [
       "      座次   姓名\n",
       "rank1  1   宋江\n",
       "rank2  2  卢俊义\n",
       "rank3  3   吴用"
      ]
     },
     "execution_count": 52,
     "metadata": {},
     "output_type": "execute_result"
    }
   ],
   "source": [
    "df.drop(columns=['绰号'])"
   ]
  },
  {
   "cell_type": "code",
   "execution_count": 53,
   "id": "83351993",
   "metadata": {},
   "outputs": [
    {
     "data": {
      "text/html": [
       "<div>\n",
       "<style scoped>\n",
       "    .dataframe tbody tr th:only-of-type {\n",
       "        vertical-align: middle;\n",
       "    }\n",
       "\n",
       "    .dataframe tbody tr th {\n",
       "        vertical-align: top;\n",
       "    }\n",
       "\n",
       "    .dataframe thead th {\n",
       "        text-align: right;\n",
       "    }\n",
       "</style>\n",
       "<table border=\"1\" class=\"dataframe\">\n",
       "  <thead>\n",
       "    <tr style=\"text-align: right;\">\n",
       "      <th></th>\n",
       "      <th>座次</th>\n",
       "      <th>姓名</th>\n",
       "      <th>绰号</th>\n",
       "    </tr>\n",
       "  </thead>\n",
       "  <tbody>\n",
       "    <tr>\n",
       "      <th>rank1</th>\n",
       "      <td>1</td>\n",
       "      <td>宋江</td>\n",
       "      <td>呼保义</td>\n",
       "    </tr>\n",
       "    <tr>\n",
       "      <th>rank2</th>\n",
       "      <td>2</td>\n",
       "      <td>卢俊义</td>\n",
       "      <td>玉麒麟</td>\n",
       "    </tr>\n",
       "    <tr>\n",
       "      <th>rank3</th>\n",
       "      <td>3</td>\n",
       "      <td>吴用</td>\n",
       "      <td>智多星</td>\n",
       "    </tr>\n",
       "  </tbody>\n",
       "</table>\n",
       "</div>"
      ],
      "text/plain": [
       "      座次   姓名   绰号\n",
       "rank1  1   宋江  呼保义\n",
       "rank2  2  卢俊义  玉麒麟\n",
       "rank3  3   吴用  智多星"
      ]
     },
     "execution_count": 53,
     "metadata": {},
     "output_type": "execute_result"
    }
   ],
   "source": [
    "df"
   ]
  },
  {
   "cell_type": "code",
   "execution_count": null,
   "id": "c0f47536",
   "metadata": {},
   "outputs": [],
   "source": [
    "#删除列总结\n",
    "#del 直接删除源数据，没有返回值\n",
    "#df.pop() 直接删除源数据，返回删除的series\n",
    "#df.drop() 不删除源数据"
   ]
  },
  {
   "cell_type": "code",
   "execution_count": 54,
   "id": "3be8b52e",
   "metadata": {},
   "outputs": [
    {
     "data": {
      "text/plain": [
       "座次      1\n",
       "姓名     宋江\n",
       "绰号    呼保义\n",
       "Name: rank1, dtype: object"
      ]
     },
     "execution_count": 54,
     "metadata": {},
     "output_type": "execute_result"
    }
   ],
   "source": [
    "# 获取行\n",
    "df.loc['rank1'] #返回的是转置后的series，为了方便操作。"
   ]
  },
  {
   "cell_type": "code",
   "execution_count": 55,
   "id": "5085f1cf",
   "metadata": {},
   "outputs": [
    {
     "name": "stdout",
     "output_type": "stream",
     "text": [
      "座次      2\n",
      "姓名    卢俊义\n",
      "绰号    玉麒麟\n",
      "Name: rank2, dtype: object\n"
     ]
    }
   ],
   "source": [
    "#iloc 通过整数值索引\n",
    "rank2 = df.iloc[1]\n",
    "print(rank2)"
   ]
  },
  {
   "cell_type": "code",
   "execution_count": 56,
   "id": "5446aa63",
   "metadata": {},
   "outputs": [
    {
     "name": "stdout",
     "output_type": "stream",
     "text": [
      "      座次   姓名   绰号\n",
      "rank1  1   宋江  呼保义\n",
      "rank2  2  卢俊义  玉麒麟\n",
      "rank3  3   吴用  智多星\n",
      "rank4  4  公孙胜  入云龙\n"
     ]
    }
   ],
   "source": [
    "#添加行\n",
    "df.loc['rank4'] = ['4','公孙胜','入云龙']\n",
    "print(df)"
   ]
  },
  {
   "cell_type": "code",
   "execution_count": 57,
   "id": "d79d63d5",
   "metadata": {},
   "outputs": [
    {
     "name": "stdout",
     "output_type": "stream",
     "text": [
      "      座次   姓名   绰号\n",
      "rank1  1   宋江  呼保义\n",
      "rank2  2  卢俊义  玉麒麟\n",
      "rank3  3   吴用  智多星\n",
      "rank4  4  公孙胜  入云龙\n",
      "rank5  5   关胜   大刀\n"
     ]
    }
   ],
   "source": [
    "df.loc['rank5'] = {'姓名':'关胜','绰号':'大刀','座次':'5'}\n",
    "print(df)"
   ]
  },
  {
   "cell_type": "code",
   "execution_count": 58,
   "id": "252c4a24",
   "metadata": {},
   "outputs": [
    {
     "name": "stdout",
     "output_type": "stream",
     "text": [
      "      座次   姓名    绰号\n",
      "rank1  1   宋江   呼保义\n",
      "rank2  2  卢俊义   玉麒麟\n",
      "rank3  3   吴用   智多星\n",
      "rank4  4  公孙胜   入云龙\n",
      "rank5  5   关胜  大刀关胜\n"
     ]
    }
   ],
   "source": [
    "#修改行\n",
    "df.loc['rank5'] = ['5','关胜','大刀关胜']\n",
    "print(df)"
   ]
  },
  {
   "cell_type": "code",
   "execution_count": 59,
   "id": "ab3d643e",
   "metadata": {},
   "outputs": [
    {
     "name": "stdout",
     "output_type": "stream",
     "text": [
      "      座次   姓名   绰号\n",
      "rank1  1   宋江  呼保义\n",
      "rank2  2  卢俊义  玉麒麟\n",
      "rank4  4  公孙胜  入云龙\n",
      "      座次   姓名    绰号\n",
      "rank1  1   宋江   呼保义\n",
      "rank2  2  卢俊义   玉麒麟\n",
      "rank3  3   吴用   智多星\n",
      "rank4  4  公孙胜   入云龙\n",
      "rank5  5   关胜  大刀关胜\n"
     ]
    }
   ],
   "source": [
    "#删除行\n",
    "df1 = df.drop(index = ['rank3','rank5'])\n",
    "print(df1)\n",
    "print(df)\n",
    "#drop方法会保留源数据"
   ]
  },
  {
   "cell_type": "code",
   "execution_count": 60,
   "id": "30e54d60",
   "metadata": {},
   "outputs": [
    {
     "name": "stdout",
     "output_type": "stream",
     "text": [
      "None\n",
      "      座次   姓名   绰号\n",
      "rank1  1   宋江  呼保义\n",
      "rank2  2  卢俊义  玉麒麟\n",
      "rank4  4  公孙胜  入云龙\n"
     ]
    }
   ],
   "source": [
    "df1 = df.drop(index = ['rank3','rank5'],inplace=True) #不保留原始数据\n",
    "print(df1)\n",
    "print(df)"
   ]
  },
  {
   "cell_type": "code",
   "execution_count": 4,
   "id": "0e3743af",
   "metadata": {},
   "outputs": [
    {
     "data": {
      "text/html": [
       "<div>\n",
       "<style scoped>\n",
       "    .dataframe tbody tr th:only-of-type {\n",
       "        vertical-align: middle;\n",
       "    }\n",
       "\n",
       "    .dataframe tbody tr th {\n",
       "        vertical-align: top;\n",
       "    }\n",
       "\n",
       "    .dataframe thead th {\n",
       "        text-align: right;\n",
       "    }\n",
       "</style>\n",
       "<table border=\"1\" class=\"dataframe\">\n",
       "  <thead>\n",
       "    <tr style=\"text-align: right;\">\n",
       "      <th></th>\n",
       "      <th>座次</th>\n",
       "      <th>姓名</th>\n",
       "      <th>绰号</th>\n",
       "      <th>星宿</th>\n",
       "      <th>梁山泊职位</th>\n",
       "    </tr>\n",
       "  </thead>\n",
       "  <tbody>\n",
       "    <tr>\n",
       "      <th>0</th>\n",
       "      <td>1</td>\n",
       "      <td>宋江</td>\n",
       "      <td>呼保义/及时雨</td>\n",
       "      <td>天魁星</td>\n",
       "      <td>总督兵马大元帅</td>\n",
       "    </tr>\n",
       "    <tr>\n",
       "      <th>1</th>\n",
       "      <td>2</td>\n",
       "      <td>卢俊义</td>\n",
       "      <td>玉麒麟</td>\n",
       "      <td>天罡星</td>\n",
       "      <td>总督兵马副元帅</td>\n",
       "    </tr>\n",
       "    <tr>\n",
       "      <th>2</th>\n",
       "      <td>3</td>\n",
       "      <td>吴用</td>\n",
       "      <td>智多星</td>\n",
       "      <td>天机星</td>\n",
       "      <td>掌管机密正军师</td>\n",
       "    </tr>\n",
       "    <tr>\n",
       "      <th>3</th>\n",
       "      <td>4</td>\n",
       "      <td>公孙胜</td>\n",
       "      <td>入云龙</td>\n",
       "      <td>天闲星</td>\n",
       "      <td>掌管机密副军师</td>\n",
       "    </tr>\n",
       "    <tr>\n",
       "      <th>4</th>\n",
       "      <td>5</td>\n",
       "      <td>关胜</td>\n",
       "      <td>大刀</td>\n",
       "      <td>天勇星</td>\n",
       "      <td>马军五虎将之首兼左军大将领正东旱寨守尉主将</td>\n",
       "    </tr>\n",
       "    <tr>\n",
       "      <th>...</th>\n",
       "      <td>...</td>\n",
       "      <td>...</td>\n",
       "      <td>...</td>\n",
       "      <td>...</td>\n",
       "      <td>...</td>\n",
       "    </tr>\n",
       "    <tr>\n",
       "      <th>103</th>\n",
       "      <td>104</td>\n",
       "      <td>王定六</td>\n",
       "      <td>活闪婆</td>\n",
       "      <td>地劣星</td>\n",
       "      <td>内务处迎宾八使之八兼北山酒店副掌店</td>\n",
       "    </tr>\n",
       "    <tr>\n",
       "      <th>104</th>\n",
       "      <td>105</td>\n",
       "      <td>郁保四</td>\n",
       "      <td>险道神</td>\n",
       "      <td>地健星</td>\n",
       "      <td>内务处十六监造十六兼掌旗营指挥知专捧帅字旗帜事</td>\n",
       "    </tr>\n",
       "    <tr>\n",
       "      <th>105</th>\n",
       "      <td>106</td>\n",
       "      <td>白胜</td>\n",
       "      <td>白日鼠</td>\n",
       "      <td>地耗星</td>\n",
       "      <td>走报机密四校之二兼细作队都统制</td>\n",
       "    </tr>\n",
       "    <tr>\n",
       "      <th>106</th>\n",
       "      <td>107</td>\n",
       "      <td>时迁</td>\n",
       "      <td>鼓上蚤</td>\n",
       "      <td>地贼星</td>\n",
       "      <td>走报机密四校之三兼侦查队都统制</td>\n",
       "    </tr>\n",
       "    <tr>\n",
       "      <th>107</th>\n",
       "      <td>108</td>\n",
       "      <td>段景住</td>\n",
       "      <td>金毛犬</td>\n",
       "      <td>地狗星</td>\n",
       "      <td>走报机密四校之四兼斥候队都统制</td>\n",
       "    </tr>\n",
       "  </tbody>\n",
       "</table>\n",
       "<p>108 rows × 5 columns</p>\n",
       "</div>"
      ],
      "text/plain": [
       "      座次   姓名       绰号   星宿                    梁山泊职位\n",
       "0      1   宋江  呼保义/及时雨  天魁星                  总督兵马大元帅\n",
       "1      2  卢俊义      玉麒麟  天罡星                  总督兵马副元帅\n",
       "2      3   吴用      智多星  天机星                  掌管机密正军师\n",
       "3      4  公孙胜      入云龙  天闲星                  掌管机密副军师\n",
       "4      5   关胜       大刀  天勇星    马军五虎将之首兼左军大将领正东旱寨守尉主将\n",
       "..   ...  ...      ...  ...                      ...\n",
       "103  104  王定六      活闪婆  地劣星        内务处迎宾八使之八兼北山酒店副掌店\n",
       "104  105  郁保四      险道神  地健星  内务处十六监造十六兼掌旗营指挥知专捧帅字旗帜事\n",
       "105  106   白胜      白日鼠  地耗星          走报机密四校之二兼细作队都统制\n",
       "106  107   时迁      鼓上蚤  地贼星          走报机密四校之三兼侦查队都统制\n",
       "107  108  段景住      金毛犬  地狗星          走报机密四校之四兼斥候队都统制\n",
       "\n",
       "[108 rows x 5 columns]"
      ]
     },
     "execution_count": 4,
     "metadata": {},
     "output_type": "execute_result"
    }
   ],
   "source": [
    "df=pd.read_excel(\"D:/Python/课堂/14次/14-pandas（2）/data/梁山108将.xlsx\")\n",
    "df"
   ]
  },
  {
   "cell_type": "code",
   "execution_count": 5,
   "id": "1ea363c4",
   "metadata": {},
   "outputs": [
    {
     "data": {
      "text/html": [
       "<div>\n",
       "<style scoped>\n",
       "    .dataframe tbody tr th:only-of-type {\n",
       "        vertical-align: middle;\n",
       "    }\n",
       "\n",
       "    .dataframe tbody tr th {\n",
       "        vertical-align: top;\n",
       "    }\n",
       "\n",
       "    .dataframe thead th {\n",
       "        text-align: right;\n",
       "    }\n",
       "</style>\n",
       "<table border=\"1\" class=\"dataframe\">\n",
       "  <thead>\n",
       "    <tr style=\"text-align: right;\">\n",
       "      <th></th>\n",
       "      <th>座次</th>\n",
       "      <th>姓名</th>\n",
       "      <th>绰号</th>\n",
       "      <th>星宿</th>\n",
       "      <th>梁山泊职位</th>\n",
       "    </tr>\n",
       "  </thead>\n",
       "  <tbody>\n",
       "    <tr>\n",
       "      <th>0</th>\n",
       "      <td>1</td>\n",
       "      <td>宋江</td>\n",
       "      <td>呼保义/及时雨</td>\n",
       "      <td>天魁星</td>\n",
       "      <td>总督兵马大元帅</td>\n",
       "    </tr>\n",
       "    <tr>\n",
       "      <th>1</th>\n",
       "      <td>2</td>\n",
       "      <td>卢俊义</td>\n",
       "      <td>玉麒麟</td>\n",
       "      <td>天罡星</td>\n",
       "      <td>总督兵马副元帅</td>\n",
       "    </tr>\n",
       "    <tr>\n",
       "      <th>2</th>\n",
       "      <td>3</td>\n",
       "      <td>吴用</td>\n",
       "      <td>智多星</td>\n",
       "      <td>天机星</td>\n",
       "      <td>掌管机密正军师</td>\n",
       "    </tr>\n",
       "    <tr>\n",
       "      <th>3</th>\n",
       "      <td>4</td>\n",
       "      <td>公孙胜</td>\n",
       "      <td>入云龙</td>\n",
       "      <td>天闲星</td>\n",
       "      <td>掌管机密副军师</td>\n",
       "    </tr>\n",
       "    <tr>\n",
       "      <th>4</th>\n",
       "      <td>5</td>\n",
       "      <td>关胜</td>\n",
       "      <td>大刀</td>\n",
       "      <td>天勇星</td>\n",
       "      <td>马军五虎将之首兼左军大将领正东旱寨守尉主将</td>\n",
       "    </tr>\n",
       "  </tbody>\n",
       "</table>\n",
       "</div>"
      ],
      "text/plain": [
       "   座次   姓名       绰号   星宿                  梁山泊职位\n",
       "0   1   宋江  呼保义/及时雨  天魁星                总督兵马大元帅\n",
       "1   2  卢俊义      玉麒麟  天罡星                总督兵马副元帅\n",
       "2   3   吴用      智多星  天机星                掌管机密正军师\n",
       "3   4  公孙胜      入云龙  天闲星                掌管机密副军师\n",
       "4   5   关胜       大刀  天勇星  马军五虎将之首兼左军大将领正东旱寨守尉主将"
      ]
     },
     "execution_count": 5,
     "metadata": {},
     "output_type": "execute_result"
    }
   ],
   "source": [
    "df.head()"
   ]
  },
  {
   "cell_type": "code",
   "execution_count": 6,
   "id": "03f0f844",
   "metadata": {},
   "outputs": [
    {
     "data": {
      "text/html": [
       "<div>\n",
       "<style scoped>\n",
       "    .dataframe tbody tr th:only-of-type {\n",
       "        vertical-align: middle;\n",
       "    }\n",
       "\n",
       "    .dataframe tbody tr th {\n",
       "        vertical-align: top;\n",
       "    }\n",
       "\n",
       "    .dataframe thead th {\n",
       "        text-align: right;\n",
       "    }\n",
       "</style>\n",
       "<table border=\"1\" class=\"dataframe\">\n",
       "  <thead>\n",
       "    <tr style=\"text-align: right;\">\n",
       "      <th></th>\n",
       "      <th>座次</th>\n",
       "      <th>姓名</th>\n",
       "      <th>绰号</th>\n",
       "      <th>星宿</th>\n",
       "      <th>梁山泊职位</th>\n",
       "    </tr>\n",
       "  </thead>\n",
       "  <tbody>\n",
       "    <tr>\n",
       "      <th>103</th>\n",
       "      <td>104</td>\n",
       "      <td>王定六</td>\n",
       "      <td>活闪婆</td>\n",
       "      <td>地劣星</td>\n",
       "      <td>内务处迎宾八使之八兼北山酒店副掌店</td>\n",
       "    </tr>\n",
       "    <tr>\n",
       "      <th>104</th>\n",
       "      <td>105</td>\n",
       "      <td>郁保四</td>\n",
       "      <td>险道神</td>\n",
       "      <td>地健星</td>\n",
       "      <td>内务处十六监造十六兼掌旗营指挥知专捧帅字旗帜事</td>\n",
       "    </tr>\n",
       "    <tr>\n",
       "      <th>105</th>\n",
       "      <td>106</td>\n",
       "      <td>白胜</td>\n",
       "      <td>白日鼠</td>\n",
       "      <td>地耗星</td>\n",
       "      <td>走报机密四校之二兼细作队都统制</td>\n",
       "    </tr>\n",
       "    <tr>\n",
       "      <th>106</th>\n",
       "      <td>107</td>\n",
       "      <td>时迁</td>\n",
       "      <td>鼓上蚤</td>\n",
       "      <td>地贼星</td>\n",
       "      <td>走报机密四校之三兼侦查队都统制</td>\n",
       "    </tr>\n",
       "    <tr>\n",
       "      <th>107</th>\n",
       "      <td>108</td>\n",
       "      <td>段景住</td>\n",
       "      <td>金毛犬</td>\n",
       "      <td>地狗星</td>\n",
       "      <td>走报机密四校之四兼斥候队都统制</td>\n",
       "    </tr>\n",
       "  </tbody>\n",
       "</table>\n",
       "</div>"
      ],
      "text/plain": [
       "      座次   姓名   绰号   星宿                    梁山泊职位\n",
       "103  104  王定六  活闪婆  地劣星        内务处迎宾八使之八兼北山酒店副掌店\n",
       "104  105  郁保四  险道神  地健星  内务处十六监造十六兼掌旗营指挥知专捧帅字旗帜事\n",
       "105  106   白胜  白日鼠  地耗星          走报机密四校之二兼细作队都统制\n",
       "106  107   时迁  鼓上蚤  地贼星          走报机密四校之三兼侦查队都统制\n",
       "107  108  段景住  金毛犬  地狗星          走报机密四校之四兼斥候队都统制"
      ]
     },
     "execution_count": 6,
     "metadata": {},
     "output_type": "execute_result"
    }
   ],
   "source": [
    "df.tail()"
   ]
  },
  {
   "cell_type": "code",
   "execution_count": 7,
   "id": "e8ec1722",
   "metadata": {},
   "outputs": [
    {
     "data": {
      "text/plain": [
       "RangeIndex(start=0, stop=108, step=1)"
      ]
     },
     "execution_count": 7,
     "metadata": {},
     "output_type": "execute_result"
    }
   ],
   "source": [
    "df.index#行索引"
   ]
  },
  {
   "cell_type": "code",
   "execution_count": 8,
   "id": "781b5236",
   "metadata": {},
   "outputs": [
    {
     "data": {
      "text/plain": [
       "Index(['座次', '姓名', '绰号', '星宿', '梁山泊职位'], dtype='object')"
      ]
     },
     "execution_count": 8,
     "metadata": {},
     "output_type": "execute_result"
    }
   ],
   "source": [
    "df.columns#列索引"
   ]
  },
  {
   "cell_type": "code",
   "execution_count": 9,
   "id": "892b1231",
   "metadata": {},
   "outputs": [
    {
     "data": {
      "text/html": [
       "<div>\n",
       "<style scoped>\n",
       "    .dataframe tbody tr th:only-of-type {\n",
       "        vertical-align: middle;\n",
       "    }\n",
       "\n",
       "    .dataframe tbody tr th {\n",
       "        vertical-align: top;\n",
       "    }\n",
       "\n",
       "    .dataframe thead th {\n",
       "        text-align: right;\n",
       "    }\n",
       "</style>\n",
       "<table border=\"1\" class=\"dataframe\">\n",
       "  <thead>\n",
       "    <tr style=\"text-align: right;\">\n",
       "      <th></th>\n",
       "      <th>座次</th>\n",
       "      <th>姓名</th>\n",
       "      <th>绰号</th>\n",
       "      <th>星宿</th>\n",
       "      <th>梁山泊职位</th>\n",
       "    </tr>\n",
       "  </thead>\n",
       "  <tbody>\n",
       "    <tr>\n",
       "      <th>0</th>\n",
       "      <td>1</td>\n",
       "      <td>宋江</td>\n",
       "      <td>呼保义/及时雨</td>\n",
       "      <td>天魁星</td>\n",
       "      <td>总督兵马大元帅</td>\n",
       "    </tr>\n",
       "    <tr>\n",
       "      <th>1</th>\n",
       "      <td>2</td>\n",
       "      <td>卢俊义</td>\n",
       "      <td>玉麒麟</td>\n",
       "      <td>天罡星</td>\n",
       "      <td>总督兵马副元帅</td>\n",
       "    </tr>\n",
       "    <tr>\n",
       "      <th>2</th>\n",
       "      <td>3</td>\n",
       "      <td>吴用</td>\n",
       "      <td>智多星</td>\n",
       "      <td>天机星</td>\n",
       "      <td>掌管机密正军师</td>\n",
       "    </tr>\n",
       "    <tr>\n",
       "      <th>3</th>\n",
       "      <td>4</td>\n",
       "      <td>公孙胜</td>\n",
       "      <td>入云龙</td>\n",
       "      <td>天闲星</td>\n",
       "      <td>掌管机密副军师</td>\n",
       "    </tr>\n",
       "    <tr>\n",
       "      <th>4</th>\n",
       "      <td>5</td>\n",
       "      <td>关胜</td>\n",
       "      <td>大刀</td>\n",
       "      <td>天勇星</td>\n",
       "      <td>马军五虎将之首兼左军大将领正东旱寨守尉主将</td>\n",
       "    </tr>\n",
       "    <tr>\n",
       "      <th>5</th>\n",
       "      <td>6</td>\n",
       "      <td>林冲</td>\n",
       "      <td>豹子头</td>\n",
       "      <td>天雄星</td>\n",
       "      <td>马军五虎将之二兼右军大将领正西旱寨守尉主将</td>\n",
       "    </tr>\n",
       "    <tr>\n",
       "      <th>6</th>\n",
       "      <td>7</td>\n",
       "      <td>秦明</td>\n",
       "      <td>霹雳火</td>\n",
       "      <td>天猛星</td>\n",
       "      <td>马军五虎将之三兼先锋大将领正南旱寨守尉主将</td>\n",
       "    </tr>\n",
       "    <tr>\n",
       "      <th>7</th>\n",
       "      <td>8</td>\n",
       "      <td>呼延灼</td>\n",
       "      <td>双鞭</td>\n",
       "      <td>天威星</td>\n",
       "      <td>马军五虎将之四兼合后大将领正北旱寨守尉主将</td>\n",
       "    </tr>\n",
       "    <tr>\n",
       "      <th>8</th>\n",
       "      <td>9</td>\n",
       "      <td>花荣</td>\n",
       "      <td>小李广</td>\n",
       "      <td>天英星</td>\n",
       "      <td>马军八骠骑兼先锋使之首领寨外讨虏游尉主将</td>\n",
       "    </tr>\n",
       "    <tr>\n",
       "      <th>9</th>\n",
       "      <td>10</td>\n",
       "      <td>柴进</td>\n",
       "      <td>小旋风</td>\n",
       "      <td>天贵星</td>\n",
       "      <td>内务处大总管兼钱银库都监</td>\n",
       "    </tr>\n",
       "    <tr>\n",
       "      <th>10</th>\n",
       "      <td>11</td>\n",
       "      <td>李应</td>\n",
       "      <td>扑天雕</td>\n",
       "      <td>天富星</td>\n",
       "      <td>内务处副总管兼粮草库都监</td>\n",
       "    </tr>\n",
       "  </tbody>\n",
       "</table>\n",
       "</div>"
      ],
      "text/plain": [
       "    座次   姓名       绰号   星宿                  梁山泊职位\n",
       "0    1   宋江  呼保义/及时雨  天魁星                总督兵马大元帅\n",
       "1    2  卢俊义      玉麒麟  天罡星                总督兵马副元帅\n",
       "2    3   吴用      智多星  天机星                掌管机密正军师\n",
       "3    4  公孙胜      入云龙  天闲星                掌管机密副军师\n",
       "4    5   关胜       大刀  天勇星  马军五虎将之首兼左军大将领正东旱寨守尉主将\n",
       "5    6   林冲      豹子头  天雄星  马军五虎将之二兼右军大将领正西旱寨守尉主将\n",
       "6    7   秦明      霹雳火  天猛星  马军五虎将之三兼先锋大将领正南旱寨守尉主将\n",
       "7    8  呼延灼       双鞭  天威星  马军五虎将之四兼合后大将领正北旱寨守尉主将\n",
       "8    9   花荣      小李广  天英星   马军八骠骑兼先锋使之首领寨外讨虏游尉主将\n",
       "9   10   柴进      小旋风  天贵星           内务处大总管兼钱银库都监\n",
       "10  11   李应      扑天雕  天富星           内务处副总管兼粮草库都监"
      ]
     },
     "execution_count": 9,
     "metadata": {},
     "output_type": "execute_result"
    }
   ],
   "source": [
    "#获取前10行数据\n",
    "df[0:11]"
   ]
  },
  {
   "cell_type": "code",
   "execution_count": 10,
   "id": "d4d68223",
   "metadata": {},
   "outputs": [
    {
     "data": {
      "text/plain": [
       "0       宋江\n",
       "1      卢俊义\n",
       "2       吴用\n",
       "3      公孙胜\n",
       "4       关胜\n",
       "      ... \n",
       "103    王定六\n",
       "104    郁保四\n",
       "105     白胜\n",
       "106     时迁\n",
       "107    段景住\n",
       "Name: 姓名, Length: 108, dtype: object"
      ]
     },
     "execution_count": 10,
     "metadata": {},
     "output_type": "execute_result"
    }
   ],
   "source": [
    "#获取一列\n",
    "df['姓名']"
   ]
  },
  {
   "cell_type": "code",
   "execution_count": 11,
   "id": "b3798508",
   "metadata": {},
   "outputs": [
    {
     "data": {
      "text/html": [
       "<div>\n",
       "<style scoped>\n",
       "    .dataframe tbody tr th:only-of-type {\n",
       "        vertical-align: middle;\n",
       "    }\n",
       "\n",
       "    .dataframe tbody tr th {\n",
       "        vertical-align: top;\n",
       "    }\n",
       "\n",
       "    .dataframe thead th {\n",
       "        text-align: right;\n",
       "    }\n",
       "</style>\n",
       "<table border=\"1\" class=\"dataframe\">\n",
       "  <thead>\n",
       "    <tr style=\"text-align: right;\">\n",
       "      <th></th>\n",
       "      <th>姓名</th>\n",
       "      <th>绰号</th>\n",
       "      <th>梁山泊职位</th>\n",
       "    </tr>\n",
       "  </thead>\n",
       "  <tbody>\n",
       "    <tr>\n",
       "      <th>0</th>\n",
       "      <td>宋江</td>\n",
       "      <td>呼保义/及时雨</td>\n",
       "      <td>总督兵马大元帅</td>\n",
       "    </tr>\n",
       "    <tr>\n",
       "      <th>1</th>\n",
       "      <td>卢俊义</td>\n",
       "      <td>玉麒麟</td>\n",
       "      <td>总督兵马副元帅</td>\n",
       "    </tr>\n",
       "    <tr>\n",
       "      <th>2</th>\n",
       "      <td>吴用</td>\n",
       "      <td>智多星</td>\n",
       "      <td>掌管机密正军师</td>\n",
       "    </tr>\n",
       "    <tr>\n",
       "      <th>3</th>\n",
       "      <td>公孙胜</td>\n",
       "      <td>入云龙</td>\n",
       "      <td>掌管机密副军师</td>\n",
       "    </tr>\n",
       "    <tr>\n",
       "      <th>4</th>\n",
       "      <td>关胜</td>\n",
       "      <td>大刀</td>\n",
       "      <td>马军五虎将之首兼左军大将领正东旱寨守尉主将</td>\n",
       "    </tr>\n",
       "    <tr>\n",
       "      <th>...</th>\n",
       "      <td>...</td>\n",
       "      <td>...</td>\n",
       "      <td>...</td>\n",
       "    </tr>\n",
       "    <tr>\n",
       "      <th>103</th>\n",
       "      <td>王定六</td>\n",
       "      <td>活闪婆</td>\n",
       "      <td>内务处迎宾八使之八兼北山酒店副掌店</td>\n",
       "    </tr>\n",
       "    <tr>\n",
       "      <th>104</th>\n",
       "      <td>郁保四</td>\n",
       "      <td>险道神</td>\n",
       "      <td>内务处十六监造十六兼掌旗营指挥知专捧帅字旗帜事</td>\n",
       "    </tr>\n",
       "    <tr>\n",
       "      <th>105</th>\n",
       "      <td>白胜</td>\n",
       "      <td>白日鼠</td>\n",
       "      <td>走报机密四校之二兼细作队都统制</td>\n",
       "    </tr>\n",
       "    <tr>\n",
       "      <th>106</th>\n",
       "      <td>时迁</td>\n",
       "      <td>鼓上蚤</td>\n",
       "      <td>走报机密四校之三兼侦查队都统制</td>\n",
       "    </tr>\n",
       "    <tr>\n",
       "      <th>107</th>\n",
       "      <td>段景住</td>\n",
       "      <td>金毛犬</td>\n",
       "      <td>走报机密四校之四兼斥候队都统制</td>\n",
       "    </tr>\n",
       "  </tbody>\n",
       "</table>\n",
       "<p>108 rows × 3 columns</p>\n",
       "</div>"
      ],
      "text/plain": [
       "      姓名       绰号                    梁山泊职位\n",
       "0     宋江  呼保义/及时雨                  总督兵马大元帅\n",
       "1    卢俊义      玉麒麟                  总督兵马副元帅\n",
       "2     吴用      智多星                  掌管机密正军师\n",
       "3    公孙胜      入云龙                  掌管机密副军师\n",
       "4     关胜       大刀    马军五虎将之首兼左军大将领正东旱寨守尉主将\n",
       "..   ...      ...                      ...\n",
       "103  王定六      活闪婆        内务处迎宾八使之八兼北山酒店副掌店\n",
       "104  郁保四      险道神  内务处十六监造十六兼掌旗营指挥知专捧帅字旗帜事\n",
       "105   白胜      白日鼠          走报机密四校之二兼细作队都统制\n",
       "106   时迁      鼓上蚤          走报机密四校之三兼侦查队都统制\n",
       "107  段景住      金毛犬          走报机密四校之四兼斥候队都统制\n",
       "\n",
       "[108 rows x 3 columns]"
      ]
     },
     "execution_count": 11,
     "metadata": {},
     "output_type": "execute_result"
    }
   ],
   "source": [
    "#获取多列\n",
    "df[['姓名','绰号','梁山泊职位']]"
   ]
  },
  {
   "cell_type": "code",
   "execution_count": 12,
   "id": "8cd9e504",
   "metadata": {},
   "outputs": [
    {
     "data": {
      "text/html": [
       "<div>\n",
       "<style scoped>\n",
       "    .dataframe tbody tr th:only-of-type {\n",
       "        vertical-align: middle;\n",
       "    }\n",
       "\n",
       "    .dataframe tbody tr th {\n",
       "        vertical-align: top;\n",
       "    }\n",
       "\n",
       "    .dataframe thead th {\n",
       "        text-align: right;\n",
       "    }\n",
       "</style>\n",
       "<table border=\"1\" class=\"dataframe\">\n",
       "  <thead>\n",
       "    <tr style=\"text-align: right;\">\n",
       "      <th></th>\n",
       "      <th>姓名</th>\n",
       "      <th>绰号</th>\n",
       "    </tr>\n",
       "  </thead>\n",
       "  <tbody>\n",
       "    <tr>\n",
       "      <th>5</th>\n",
       "      <td>林冲</td>\n",
       "      <td>豹子头</td>\n",
       "    </tr>\n",
       "    <tr>\n",
       "      <th>6</th>\n",
       "      <td>秦明</td>\n",
       "      <td>霹雳火</td>\n",
       "    </tr>\n",
       "    <tr>\n",
       "      <th>7</th>\n",
       "      <td>呼延灼</td>\n",
       "      <td>双鞭</td>\n",
       "    </tr>\n",
       "    <tr>\n",
       "      <th>8</th>\n",
       "      <td>花荣</td>\n",
       "      <td>小李广</td>\n",
       "    </tr>\n",
       "    <tr>\n",
       "      <th>9</th>\n",
       "      <td>柴进</td>\n",
       "      <td>小旋风</td>\n",
       "    </tr>\n",
       "    <tr>\n",
       "      <th>10</th>\n",
       "      <td>李应</td>\n",
       "      <td>扑天雕</td>\n",
       "    </tr>\n",
       "  </tbody>\n",
       "</table>\n",
       "</div>"
      ],
      "text/plain": [
       "     姓名   绰号\n",
       "5    林冲  豹子头\n",
       "6    秦明  霹雳火\n",
       "7   呼延灼   双鞭\n",
       "8    花荣  小李广\n",
       "9    柴进  小旋风\n",
       "10   李应  扑天雕"
      ]
     },
     "execution_count": 12,
     "metadata": {},
     "output_type": "execute_result"
    }
   ],
   "source": [
    "df.loc[5:10,['姓名','绰号']] #获取指定行列信息"
   ]
  },
  {
   "cell_type": "code",
   "execution_count": 13,
   "id": "d60292ff",
   "metadata": {},
   "outputs": [
    {
     "data": {
      "text/html": [
       "<div>\n",
       "<style scoped>\n",
       "    .dataframe tbody tr th:only-of-type {\n",
       "        vertical-align: middle;\n",
       "    }\n",
       "\n",
       "    .dataframe tbody tr th {\n",
       "        vertical-align: top;\n",
       "    }\n",
       "\n",
       "    .dataframe thead th {\n",
       "        text-align: right;\n",
       "    }\n",
       "</style>\n",
       "<table border=\"1\" class=\"dataframe\">\n",
       "  <thead>\n",
       "    <tr style=\"text-align: right;\">\n",
       "      <th></th>\n",
       "      <th>姓名</th>\n",
       "      <th>绰号</th>\n",
       "      <th>星宿</th>\n",
       "      <th>梁山泊职位</th>\n",
       "    </tr>\n",
       "  </thead>\n",
       "  <tbody>\n",
       "    <tr>\n",
       "      <th>5</th>\n",
       "      <td>林冲</td>\n",
       "      <td>豹子头</td>\n",
       "      <td>天雄星</td>\n",
       "      <td>马军五虎将之二兼右军大将领正西旱寨守尉主将</td>\n",
       "    </tr>\n",
       "    <tr>\n",
       "      <th>6</th>\n",
       "      <td>秦明</td>\n",
       "      <td>霹雳火</td>\n",
       "      <td>天猛星</td>\n",
       "      <td>马军五虎将之三兼先锋大将领正南旱寨守尉主将</td>\n",
       "    </tr>\n",
       "    <tr>\n",
       "      <th>7</th>\n",
       "      <td>呼延灼</td>\n",
       "      <td>双鞭</td>\n",
       "      <td>天威星</td>\n",
       "      <td>马军五虎将之四兼合后大将领正北旱寨守尉主将</td>\n",
       "    </tr>\n",
       "    <tr>\n",
       "      <th>8</th>\n",
       "      <td>花荣</td>\n",
       "      <td>小李广</td>\n",
       "      <td>天英星</td>\n",
       "      <td>马军八骠骑兼先锋使之首领寨外讨虏游尉主将</td>\n",
       "    </tr>\n",
       "    <tr>\n",
       "      <th>9</th>\n",
       "      <td>柴进</td>\n",
       "      <td>小旋风</td>\n",
       "      <td>天贵星</td>\n",
       "      <td>内务处大总管兼钱银库都监</td>\n",
       "    </tr>\n",
       "    <tr>\n",
       "      <th>10</th>\n",
       "      <td>李应</td>\n",
       "      <td>扑天雕</td>\n",
       "      <td>天富星</td>\n",
       "      <td>内务处副总管兼粮草库都监</td>\n",
       "    </tr>\n",
       "  </tbody>\n",
       "</table>\n",
       "</div>"
      ],
      "text/plain": [
       "     姓名   绰号   星宿                  梁山泊职位\n",
       "5    林冲  豹子头  天雄星  马军五虎将之二兼右军大将领正西旱寨守尉主将\n",
       "6    秦明  霹雳火  天猛星  马军五虎将之三兼先锋大将领正南旱寨守尉主将\n",
       "7   呼延灼   双鞭  天威星  马军五虎将之四兼合后大将领正北旱寨守尉主将\n",
       "8    花荣  小李广  天英星   马军八骠骑兼先锋使之首领寨外讨虏游尉主将\n",
       "9    柴进  小旋风  天贵星           内务处大总管兼钱银库都监\n",
       "10   李应  扑天雕  天富星           内务处副总管兼粮草库都监"
      ]
     },
     "execution_count": 13,
     "metadata": {},
     "output_type": "execute_result"
    }
   ],
   "source": [
    "df.loc[5:10,'姓名':'梁山泊职位'] "
   ]
  },
  {
   "cell_type": "code",
   "execution_count": 14,
   "id": "23b1c404",
   "metadata": {},
   "outputs": [
    {
     "data": {
      "text/html": [
       "<div>\n",
       "<style scoped>\n",
       "    .dataframe tbody tr th:only-of-type {\n",
       "        vertical-align: middle;\n",
       "    }\n",
       "\n",
       "    .dataframe tbody tr th {\n",
       "        vertical-align: top;\n",
       "    }\n",
       "\n",
       "    .dataframe thead th {\n",
       "        text-align: right;\n",
       "    }\n",
       "</style>\n",
       "<table border=\"1\" class=\"dataframe\">\n",
       "  <thead>\n",
       "    <tr style=\"text-align: right;\">\n",
       "      <th></th>\n",
       "      <th>座次</th>\n",
       "      <th>姓名</th>\n",
       "      <th>绰号</th>\n",
       "    </tr>\n",
       "  </thead>\n",
       "  <tbody>\n",
       "    <tr>\n",
       "      <th>5</th>\n",
       "      <td>6</td>\n",
       "      <td>林冲</td>\n",
       "      <td>豹子头</td>\n",
       "    </tr>\n",
       "    <tr>\n",
       "      <th>6</th>\n",
       "      <td>7</td>\n",
       "      <td>秦明</td>\n",
       "      <td>霹雳火</td>\n",
       "    </tr>\n",
       "    <tr>\n",
       "      <th>7</th>\n",
       "      <td>8</td>\n",
       "      <td>呼延灼</td>\n",
       "      <td>双鞭</td>\n",
       "    </tr>\n",
       "    <tr>\n",
       "      <th>8</th>\n",
       "      <td>9</td>\n",
       "      <td>花荣</td>\n",
       "      <td>小李广</td>\n",
       "    </tr>\n",
       "    <tr>\n",
       "      <th>9</th>\n",
       "      <td>10</td>\n",
       "      <td>柴进</td>\n",
       "      <td>小旋风</td>\n",
       "    </tr>\n",
       "  </tbody>\n",
       "</table>\n",
       "</div>"
      ],
      "text/plain": [
       "   座次   姓名   绰号\n",
       "5   6   林冲  豹子头\n",
       "6   7   秦明  霹雳火\n",
       "7   8  呼延灼   双鞭\n",
       "8   9   花荣  小李广\n",
       "9  10   柴进  小旋风"
      ]
     },
     "execution_count": 14,
     "metadata": {},
     "output_type": "execute_result"
    }
   ],
   "source": [
    "df.iloc[5:10,0:3] #注意loc和iloc的区别，loc包含最后一个，iloc不包含。"
   ]
  },
  {
   "cell_type": "code",
   "execution_count": 15,
   "id": "54cda4a1",
   "metadata": {},
   "outputs": [
    {
     "data": {
      "text/html": [
       "<div>\n",
       "<style scoped>\n",
       "    .dataframe tbody tr th:only-of-type {\n",
       "        vertical-align: middle;\n",
       "    }\n",
       "\n",
       "    .dataframe tbody tr th {\n",
       "        vertical-align: top;\n",
       "    }\n",
       "\n",
       "    .dataframe thead th {\n",
       "        text-align: right;\n",
       "    }\n",
       "</style>\n",
       "<table border=\"1\" class=\"dataframe\">\n",
       "  <thead>\n",
       "    <tr style=\"text-align: right;\">\n",
       "      <th></th>\n",
       "      <th>座次</th>\n",
       "      <th>姓名</th>\n",
       "      <th>绰号</th>\n",
       "      <th>星宿</th>\n",
       "      <th>梁山泊职位</th>\n",
       "    </tr>\n",
       "  </thead>\n",
       "  <tbody>\n",
       "    <tr>\n",
       "      <th>5</th>\n",
       "      <td>6</td>\n",
       "      <td>林冲</td>\n",
       "      <td>豹子头</td>\n",
       "      <td>天雄星</td>\n",
       "      <td>马军五虎将之二兼右军大将领正西旱寨守尉主将</td>\n",
       "    </tr>\n",
       "  </tbody>\n",
       "</table>\n",
       "</div>"
      ],
      "text/plain": [
       "   座次  姓名   绰号   星宿                  梁山泊职位\n",
       "5   6  林冲  豹子头  天雄星  马军五虎将之二兼右军大将领正西旱寨守尉主将"
      ]
     },
     "execution_count": 15,
     "metadata": {},
     "output_type": "execute_result"
    }
   ],
   "source": [
    "#索引值的过滤\n",
    "df[df['姓名'] == '林冲']"
   ]
  },
  {
   "cell_type": "code",
   "execution_count": 16,
   "id": "b5405524",
   "metadata": {},
   "outputs": [
    {
     "data": {
      "text/html": [
       "<div>\n",
       "<style scoped>\n",
       "    .dataframe tbody tr th:only-of-type {\n",
       "        vertical-align: middle;\n",
       "    }\n",
       "\n",
       "    .dataframe tbody tr th {\n",
       "        vertical-align: top;\n",
       "    }\n",
       "\n",
       "    .dataframe thead th {\n",
       "        text-align: right;\n",
       "    }\n",
       "</style>\n",
       "<table border=\"1\" class=\"dataframe\">\n",
       "  <thead>\n",
       "    <tr style=\"text-align: right;\">\n",
       "      <th></th>\n",
       "      <th>姓名</th>\n",
       "      <th>绰号</th>\n",
       "    </tr>\n",
       "  </thead>\n",
       "  <tbody>\n",
       "    <tr>\n",
       "      <th>0</th>\n",
       "      <td>宋江</td>\n",
       "      <td>呼保义/及时雨</td>\n",
       "    </tr>\n",
       "    <tr>\n",
       "      <th>1</th>\n",
       "      <td>卢俊义</td>\n",
       "      <td>玉麒麟</td>\n",
       "    </tr>\n",
       "    <tr>\n",
       "      <th>2</th>\n",
       "      <td>吴用</td>\n",
       "      <td>智多星</td>\n",
       "    </tr>\n",
       "    <tr>\n",
       "      <th>3</th>\n",
       "      <td>公孙胜</td>\n",
       "      <td>入云龙</td>\n",
       "    </tr>\n",
       "    <tr>\n",
       "      <th>4</th>\n",
       "      <td>关胜</td>\n",
       "      <td>大刀</td>\n",
       "    </tr>\n",
       "    <tr>\n",
       "      <th>...</th>\n",
       "      <td>...</td>\n",
       "      <td>...</td>\n",
       "    </tr>\n",
       "    <tr>\n",
       "      <th>103</th>\n",
       "      <td>王定六</td>\n",
       "      <td>活闪婆</td>\n",
       "    </tr>\n",
       "    <tr>\n",
       "      <th>104</th>\n",
       "      <td>郁保四</td>\n",
       "      <td>险道神</td>\n",
       "    </tr>\n",
       "    <tr>\n",
       "      <th>105</th>\n",
       "      <td>白胜</td>\n",
       "      <td>白日鼠</td>\n",
       "    </tr>\n",
       "    <tr>\n",
       "      <th>106</th>\n",
       "      <td>时迁</td>\n",
       "      <td>鼓上蚤</td>\n",
       "    </tr>\n",
       "    <tr>\n",
       "      <th>107</th>\n",
       "      <td>段景住</td>\n",
       "      <td>金毛犬</td>\n",
       "    </tr>\n",
       "  </tbody>\n",
       "</table>\n",
       "<p>108 rows × 2 columns</p>\n",
       "</div>"
      ],
      "text/plain": [
       "      姓名       绰号\n",
       "0     宋江  呼保义/及时雨\n",
       "1    卢俊义      玉麒麟\n",
       "2     吴用      智多星\n",
       "3    公孙胜      入云龙\n",
       "4     关胜       大刀\n",
       "..   ...      ...\n",
       "103  王定六      活闪婆\n",
       "104  郁保四      险道神\n",
       "105   白胜      白日鼠\n",
       "106   时迁      鼓上蚤\n",
       "107  段景住      金毛犬\n",
       "\n",
       "[108 rows x 2 columns]"
      ]
     },
     "execution_count": 16,
     "metadata": {},
     "output_type": "execute_result"
    }
   ],
   "source": [
    "df.reindex(columns=['姓名','绰号']) "
   ]
  },
  {
   "cell_type": "code",
   "execution_count": 17,
   "id": "b358dc1d",
   "metadata": {},
   "outputs": [
    {
     "data": {
      "text/html": [
       "<div>\n",
       "<style scoped>\n",
       "    .dataframe tbody tr th:only-of-type {\n",
       "        vertical-align: middle;\n",
       "    }\n",
       "\n",
       "    .dataframe tbody tr th {\n",
       "        vertical-align: top;\n",
       "    }\n",
       "\n",
       "    .dataframe thead th {\n",
       "        text-align: right;\n",
       "    }\n",
       "</style>\n",
       "<table border=\"1\" class=\"dataframe\">\n",
       "  <thead>\n",
       "    <tr style=\"text-align: right;\">\n",
       "      <th></th>\n",
       "      <th>绰号</th>\n",
       "      <th>姓名</th>\n",
       "    </tr>\n",
       "  </thead>\n",
       "  <tbody>\n",
       "    <tr>\n",
       "      <th>9</th>\n",
       "      <td>小旋风</td>\n",
       "      <td>柴进</td>\n",
       "    </tr>\n",
       "    <tr>\n",
       "      <th>99</th>\n",
       "      <td>小尉迟</td>\n",
       "      <td>孙新</td>\n",
       "    </tr>\n",
       "  </tbody>\n",
       "</table>\n",
       "</div>"
      ],
      "text/plain": [
       "     绰号  姓名\n",
       "9   小旋风  柴进\n",
       "99  小尉迟  孙新"
      ]
     },
     "execution_count": 17,
     "metadata": {},
     "output_type": "execute_result"
    }
   ],
   "source": [
    "df.reindex(index=[9,99],columns=['绰号','姓名'])"
   ]
  },
  {
   "cell_type": "code",
   "execution_count": 18,
   "id": "2fe35673",
   "metadata": {},
   "outputs": [
    {
     "name": "stdout",
     "output_type": "stream",
     "text": [
      "a    12\n",
      "b    14\n",
      "c    16\n",
      "d    18\n",
      "e    20\n",
      "dtype: int64\n"
     ]
    }
   ],
   "source": [
    "s1 = pd.Series([1,2,3,4,5],index=['a','b','c','d','e'])\n",
    "s2 = pd.Series([11,12,13,14,15],index=['a','b','c','d','e'])\n",
    "print(s1+s2)"
   ]
  },
  {
   "cell_type": "code",
   "execution_count": 19,
   "id": "cdaf5cd5",
   "metadata": {},
   "outputs": [
    {
     "name": "stdout",
     "output_type": "stream",
     "text": [
      "a    12.0\n",
      "b    14.0\n",
      "c    16.0\n",
      "d    18.0\n",
      "e     NaN\n",
      "f     NaN\n",
      "dtype: float64\n"
     ]
    }
   ],
   "source": [
    "s1 = pd.Series([1,2,3,4,5],index=['a','b','c','d','e'])\n",
    "s2 = pd.Series([11,12,13,14,15],index=['a','b','c','d','f'])\n",
    "print(s1+s2)"
   ]
  },
  {
   "cell_type": "code",
   "execution_count": 20,
   "id": "fd46709d",
   "metadata": {},
   "outputs": [
    {
     "name": "stdout",
     "output_type": "stream",
     "text": [
      "    语文  数学  英语\n",
      "宋江   0   1   2\n",
      "李逵   3   4   5\n",
      "武松   6   7   8\n"
     ]
    }
   ],
   "source": [
    "import numpy as np\n",
    "df1 = pd.DataFrame(np.arange(9).reshape(3,3),index=['宋江','李逵','武松'],columns=['语文','数学','英语'])\n",
    "print(df1)"
   ]
  },
  {
   "cell_type": "code",
   "execution_count": 21,
   "id": "8dc666d0",
   "metadata": {},
   "outputs": [
    {
     "name": "stdout",
     "output_type": "stream",
     "text": [
      "    语文  数学  英语  总成绩\n",
      "宋江   0   1   2    3\n",
      "李逵   3   4   5   12\n",
      "武松   6   7   8   21\n"
     ]
    }
   ],
   "source": [
    "df1['总成绩'] = df1['语文'] + df1['数学'] + df1['英语']\n",
    "print(df1)"
   ]
  },
  {
   "cell_type": "code",
   "execution_count": 22,
   "id": "3d718571",
   "metadata": {},
   "outputs": [
    {
     "name": "stdout",
     "output_type": "stream",
     "text": [
      "    总成绩  数学  物理  英语  语文\n",
      "宋江  NaN   2 NaN NaN   0\n",
      "李逵  NaN   8 NaN NaN   6\n",
      "武松  NaN  14 NaN NaN  12\n"
     ]
    }
   ],
   "source": [
    "df2 = pd.DataFrame(np.arange(9).reshape(3,3),index=['宋江','李逵','武松'],columns=['语文','数学','物理'])\n",
    "print(df1+df2)\n"
   ]
  },
  {
   "cell_type": "code",
   "execution_count": 23,
   "id": "272f7f50",
   "metadata": {},
   "outputs": [
    {
     "name": "stdout",
     "output_type": "stream",
     "text": [
      "    语文  数学  英语  总成绩\n",
      "宋江   0   1   2    3\n",
      "李逵   3   4   5   12\n",
      "武松   6   7   8   21\n",
      "    语文  数学  物理\n",
      "宋江   0   1   2\n",
      "李逵   3   4   5\n",
      "武松   6   7   8\n",
      "     总成绩  数学   物理   英语  语文\n",
      "宋江   3.0   2  2.0  2.0   0\n",
      "李逵  12.0   8  5.0  5.0   6\n",
      "武松  21.0  14  8.0  8.0  12\n"
     ]
    }
   ],
   "source": [
    "#加法add，减法sub，乘法mul，除法 div\n",
    "print(df1)\n",
    "print(df2)\n",
    "df = df1.add(df2,fill_value=0) #为空的地方赋值为0\n",
    "print(df)"
   ]
  },
  {
   "cell_type": "code",
   "execution_count": 28,
   "id": "4fff6422",
   "metadata": {},
   "outputs": [
    {
     "name": "stdout",
     "output_type": "stream",
     "text": [
      "    语文  数学  英语\n",
      "宋江   0   1   2\n",
      "李逵   3   4   5\n",
      "武松   6   7   8\n"
     ]
    }
   ],
   "source": [
    "import numpy as np\n",
    "import pandas as pd\n",
    "df1=pd.DataFrame(np.arange(9).reshape(3,3),index=['宋江','李逵','武松'],columns=['语文','数学','英语'])\n",
    "print(df1)"
   ]
  },
  {
   "cell_type": "code",
   "execution_count": 29,
   "id": "76d823d6",
   "metadata": {},
   "outputs": [
    {
     "name": "stderr",
     "output_type": "stream",
     "text": [
      "E:\\anaconda\\Lib\\site-packages\\numpy\\core\\fromnumeric.py:84: FutureWarning: In a future version, DataFrame.max(axis=None) will return a scalar max over the entire DataFrame. To retain the old behavior, use 'frame.max(axis=0)' or just 'frame.max()'\n",
      "  return reduction(axis=axis, out=out, **passkwargs)\n"
     ]
    },
    {
     "data": {
      "text/plain": [
       "语文    6\n",
       "数学    7\n",
       "英语    8\n",
       "dtype: int32"
      ]
     },
     "execution_count": 29,
     "metadata": {},
     "output_type": "execute_result"
    }
   ],
   "source": [
    "np.max(df1)"
   ]
  },
  {
   "cell_type": "code",
   "execution_count": 30,
   "id": "92602d31",
   "metadata": {},
   "outputs": [
    {
     "data": {
      "text/plain": [
       "宋江    2\n",
       "李逵    5\n",
       "武松    8\n",
       "dtype: int32"
      ]
     },
     "execution_count": 30,
     "metadata": {},
     "output_type": "execute_result"
    }
   ],
   "source": [
    "np.max(df1,axis=1)"
   ]
  },
  {
   "cell_type": "code",
   "execution_count": 31,
   "id": "5a99222e",
   "metadata": {},
   "outputs": [
    {
     "data": {
      "text/plain": [
       "语文    6\n",
       "数学    6\n",
       "英语    6\n",
       "dtype: int64"
      ]
     },
     "execution_count": 31,
     "metadata": {},
     "output_type": "execute_result"
    }
   ],
   "source": [
    "def text(df):\n",
    "    return df.max()-df.min()\n",
    "\n",
    "df1.apply(text)  "
   ]
  },
  {
   "cell_type": "code",
   "execution_count": 32,
   "id": "7aee662a",
   "metadata": {},
   "outputs": [
    {
     "data": {
      "text/plain": [
       "宋江    2\n",
       "李逵    2\n",
       "武松    2\n",
       "dtype: int64"
      ]
     },
     "execution_count": 32,
     "metadata": {},
     "output_type": "execute_result"
    }
   ],
   "source": [
    "df1.apply(text,axis=1)  "
   ]
  },
  {
   "cell_type": "code",
   "execution_count": 33,
   "id": "1f72b492",
   "metadata": {},
   "outputs": [
    {
     "data": {
      "text/plain": [
       "语文    6\n",
       "数学    6\n",
       "英语    6\n",
       "dtype: int64"
      ]
     },
     "execution_count": 33,
     "metadata": {},
     "output_type": "execute_result"
    }
   ],
   "source": [
    "df1.apply(lambda x:x.max() - x.min())  "
   ]
  },
  {
   "cell_type": "code",
   "execution_count": 34,
   "id": "115da966",
   "metadata": {},
   "outputs": [
    {
     "data": {
      "text/html": [
       "<div>\n",
       "<style scoped>\n",
       "    .dataframe tbody tr th:only-of-type {\n",
       "        vertical-align: middle;\n",
       "    }\n",
       "\n",
       "    .dataframe tbody tr th {\n",
       "        vertical-align: top;\n",
       "    }\n",
       "\n",
       "    .dataframe thead th {\n",
       "        text-align: right;\n",
       "    }\n",
       "</style>\n",
       "<table border=\"1\" class=\"dataframe\">\n",
       "  <thead>\n",
       "    <tr style=\"text-align: right;\">\n",
       "      <th></th>\n",
       "      <th>语文</th>\n",
       "      <th>数学</th>\n",
       "      <th>英语</th>\n",
       "      <th>总分</th>\n",
       "    </tr>\n",
       "  </thead>\n",
       "  <tbody>\n",
       "    <tr>\n",
       "      <th>宋江</th>\n",
       "      <td>0</td>\n",
       "      <td>1</td>\n",
       "      <td>2</td>\n",
       "      <td>3</td>\n",
       "    </tr>\n",
       "    <tr>\n",
       "      <th>李逵</th>\n",
       "      <td>3</td>\n",
       "      <td>4</td>\n",
       "      <td>5</td>\n",
       "      <td>12</td>\n",
       "    </tr>\n",
       "    <tr>\n",
       "      <th>武松</th>\n",
       "      <td>6</td>\n",
       "      <td>7</td>\n",
       "      <td>8</td>\n",
       "      <td>21</td>\n",
       "    </tr>\n",
       "  </tbody>\n",
       "</table>\n",
       "</div>"
      ],
      "text/plain": [
       "    语文  数学  英语  总分\n",
       "宋江   0   1   2   3\n",
       "李逵   3   4   5  12\n",
       "武松   6   7   8  21"
      ]
     },
     "execution_count": 34,
     "metadata": {},
     "output_type": "execute_result"
    }
   ],
   "source": [
    "def total(df1):\n",
    "    df1['总分'] = df1['语文'] + df1['数学'] + df1['英语']\n",
    "    return df1\n",
    "df1.apply(total,axis = 1)"
   ]
  },
  {
   "cell_type": "code",
   "execution_count": 35,
   "id": "05c72336",
   "metadata": {},
   "outputs": [
    {
     "data": {
      "text/html": [
       "<div>\n",
       "<style scoped>\n",
       "    .dataframe tbody tr th:only-of-type {\n",
       "        vertical-align: middle;\n",
       "    }\n",
       "\n",
       "    .dataframe tbody tr th {\n",
       "        vertical-align: top;\n",
       "    }\n",
       "\n",
       "    .dataframe thead th {\n",
       "        text-align: right;\n",
       "    }\n",
       "</style>\n",
       "<table border=\"1\" class=\"dataframe\">\n",
       "  <thead>\n",
       "    <tr style=\"text-align: right;\">\n",
       "      <th></th>\n",
       "      <th>语文</th>\n",
       "      <th>数学</th>\n",
       "      <th>英语</th>\n",
       "    </tr>\n",
       "  </thead>\n",
       "  <tbody>\n",
       "    <tr>\n",
       "      <th>宋江</th>\n",
       "      <td>0</td>\n",
       "      <td>1</td>\n",
       "      <td>2</td>\n",
       "    </tr>\n",
       "    <tr>\n",
       "      <th>李逵</th>\n",
       "      <td>3</td>\n",
       "      <td>4</td>\n",
       "      <td>5</td>\n",
       "    </tr>\n",
       "    <tr>\n",
       "      <th>武松</th>\n",
       "      <td>6</td>\n",
       "      <td>7</td>\n",
       "      <td>8</td>\n",
       "    </tr>\n",
       "  </tbody>\n",
       "</table>\n",
       "</div>"
      ],
      "text/plain": [
       "    语文  数学  英语\n",
       "宋江   0   1   2\n",
       "李逵   3   4   5\n",
       "武松   6   7   8"
      ]
     },
     "execution_count": 35,
     "metadata": {},
     "output_type": "execute_result"
    }
   ],
   "source": [
    "df1"
   ]
  },
  {
   "cell_type": "code",
   "execution_count": 36,
   "id": "3b38a54d",
   "metadata": {},
   "outputs": [
    {
     "data": {
      "text/html": [
       "<div>\n",
       "<style scoped>\n",
       "    .dataframe tbody tr th:only-of-type {\n",
       "        vertical-align: middle;\n",
       "    }\n",
       "\n",
       "    .dataframe tbody tr th {\n",
       "        vertical-align: top;\n",
       "    }\n",
       "\n",
       "    .dataframe thead th {\n",
       "        text-align: right;\n",
       "    }\n",
       "</style>\n",
       "<table border=\"1\" class=\"dataframe\">\n",
       "  <thead>\n",
       "    <tr style=\"text-align: right;\">\n",
       "      <th></th>\n",
       "      <th>语文</th>\n",
       "      <th>数学</th>\n",
       "      <th>英语</th>\n",
       "    </tr>\n",
       "  </thead>\n",
       "  <tbody>\n",
       "    <tr>\n",
       "      <th>songjiang</th>\n",
       "      <td>0</td>\n",
       "      <td>1</td>\n",
       "      <td>2</td>\n",
       "    </tr>\n",
       "    <tr>\n",
       "      <th>likui</th>\n",
       "      <td>3</td>\n",
       "      <td>4</td>\n",
       "      <td>5</td>\n",
       "    </tr>\n",
       "    <tr>\n",
       "      <th>wusong</th>\n",
       "      <td>6</td>\n",
       "      <td>7</td>\n",
       "      <td>8</td>\n",
       "    </tr>\n",
       "  </tbody>\n",
       "</table>\n",
       "</div>"
      ],
      "text/plain": [
       "           语文  数学  英语\n",
       "songjiang   0   1   2\n",
       "likui       3   4   5\n",
       "wusong      6   7   8"
      ]
     },
     "execution_count": 36,
     "metadata": {},
     "output_type": "execute_result"
    }
   ],
   "source": [
    "df1.rename({'宋江':'songjiang','李逵':'likui','武松':'wusong'},axis='index')\n"
   ]
  },
  {
   "cell_type": "code",
   "execution_count": 37,
   "id": "bd65731b",
   "metadata": {},
   "outputs": [
    {
     "data": {
      "text/html": [
       "<div>\n",
       "<style scoped>\n",
       "    .dataframe tbody tr th:only-of-type {\n",
       "        vertical-align: middle;\n",
       "    }\n",
       "\n",
       "    .dataframe tbody tr th {\n",
       "        vertical-align: top;\n",
       "    }\n",
       "\n",
       "    .dataframe thead th {\n",
       "        text-align: right;\n",
       "    }\n",
       "</style>\n",
       "<table border=\"1\" class=\"dataframe\">\n",
       "  <thead>\n",
       "    <tr style=\"text-align: right;\">\n",
       "      <th></th>\n",
       "      <th>语文</th>\n",
       "      <th>数学</th>\n",
       "      <th>英语</th>\n",
       "    </tr>\n",
       "  </thead>\n",
       "  <tbody>\n",
       "    <tr>\n",
       "      <th>宋江</th>\n",
       "      <td>0</td>\n",
       "      <td>1</td>\n",
       "      <td>2</td>\n",
       "    </tr>\n",
       "    <tr>\n",
       "      <th>李逵</th>\n",
       "      <td>3</td>\n",
       "      <td>4</td>\n",
       "      <td>5</td>\n",
       "    </tr>\n",
       "    <tr>\n",
       "      <th>武松</th>\n",
       "      <td>6</td>\n",
       "      <td>7</td>\n",
       "      <td>8</td>\n",
       "    </tr>\n",
       "  </tbody>\n",
       "</table>\n",
       "</div>"
      ],
      "text/plain": [
       "    语文  数学  英语\n",
       "宋江   0   1   2\n",
       "李逵   3   4   5\n",
       "武松   6   7   8"
      ]
     },
     "execution_count": 37,
     "metadata": {},
     "output_type": "execute_result"
    }
   ],
   "source": [
    "df1"
   ]
  },
  {
   "cell_type": "code",
   "execution_count": 39,
   "id": "6a4cffd0",
   "metadata": {},
   "outputs": [
    {
     "data": {
      "text/html": [
       "<div>\n",
       "<style scoped>\n",
       "    .dataframe tbody tr th:only-of-type {\n",
       "        vertical-align: middle;\n",
       "    }\n",
       "\n",
       "    .dataframe tbody tr th {\n",
       "        vertical-align: top;\n",
       "    }\n",
       "\n",
       "    .dataframe thead th {\n",
       "        text-align: right;\n",
       "    }\n",
       "</style>\n",
       "<table border=\"1\" class=\"dataframe\">\n",
       "  <thead>\n",
       "    <tr style=\"text-align: right;\">\n",
       "      <th></th>\n",
       "      <th>语文</th>\n",
       "      <th>数学</th>\n",
       "      <th>英语</th>\n",
       "    </tr>\n",
       "  </thead>\n",
       "  <tbody>\n",
       "    <tr>\n",
       "      <th>songjiang</th>\n",
       "      <td>0</td>\n",
       "      <td>1</td>\n",
       "      <td>2</td>\n",
       "    </tr>\n",
       "    <tr>\n",
       "      <th>likui</th>\n",
       "      <td>3</td>\n",
       "      <td>4</td>\n",
       "      <td>5</td>\n",
       "    </tr>\n",
       "    <tr>\n",
       "      <th>wusong</th>\n",
       "      <td>6</td>\n",
       "      <td>7</td>\n",
       "      <td>8</td>\n",
       "    </tr>\n",
       "  </tbody>\n",
       "</table>\n",
       "</div>"
      ],
      "text/plain": [
       "           语文  数学  英语\n",
       "songjiang   0   1   2\n",
       "likui       3   4   5\n",
       "wusong      6   7   8"
      ]
     },
     "execution_count": 39,
     "metadata": {},
     "output_type": "execute_result"
    }
   ],
   "source": [
    "df1.rename({'宋江':'songjiang','李逵':'likui','武松':'wusong'},axis=0,inplace=True)\n",
    "df1"
   ]
  },
  {
   "cell_type": "code",
   "execution_count": 40,
   "id": "8458fb57",
   "metadata": {},
   "outputs": [
    {
     "data": {
      "text/html": [
       "<div>\n",
       "<style scoped>\n",
       "    .dataframe tbody tr th:only-of-type {\n",
       "        vertical-align: middle;\n",
       "    }\n",
       "\n",
       "    .dataframe tbody tr th {\n",
       "        vertical-align: top;\n",
       "    }\n",
       "\n",
       "    .dataframe thead th {\n",
       "        text-align: right;\n",
       "    }\n",
       "</style>\n",
       "<table border=\"1\" class=\"dataframe\">\n",
       "  <thead>\n",
       "    <tr style=\"text-align: right;\">\n",
       "      <th></th>\n",
       "      <th>语文</th>\n",
       "      <th>数学</th>\n",
       "      <th>英语</th>\n",
       "    </tr>\n",
       "  </thead>\n",
       "  <tbody>\n",
       "    <tr>\n",
       "      <th>likui</th>\n",
       "      <td>3</td>\n",
       "      <td>4</td>\n",
       "      <td>5</td>\n",
       "    </tr>\n",
       "    <tr>\n",
       "      <th>songjiang</th>\n",
       "      <td>0</td>\n",
       "      <td>1</td>\n",
       "      <td>2</td>\n",
       "    </tr>\n",
       "    <tr>\n",
       "      <th>wusong</th>\n",
       "      <td>6</td>\n",
       "      <td>7</td>\n",
       "      <td>8</td>\n",
       "    </tr>\n",
       "  </tbody>\n",
       "</table>\n",
       "</div>"
      ],
      "text/plain": [
       "           语文  数学  英语\n",
       "likui       3   4   5\n",
       "songjiang   0   1   2\n",
       "wusong      6   7   8"
      ]
     },
     "execution_count": 40,
     "metadata": {},
     "output_type": "execute_result"
    }
   ],
   "source": [
    "df1.sort_index()"
   ]
  },
  {
   "cell_type": "code",
   "execution_count": 41,
   "id": "1e02fddb",
   "metadata": {},
   "outputs": [
    {
     "data": {
      "text/html": [
       "<div>\n",
       "<style scoped>\n",
       "    .dataframe tbody tr th:only-of-type {\n",
       "        vertical-align: middle;\n",
       "    }\n",
       "\n",
       "    .dataframe tbody tr th {\n",
       "        vertical-align: top;\n",
       "    }\n",
       "\n",
       "    .dataframe thead th {\n",
       "        text-align: right;\n",
       "    }\n",
       "</style>\n",
       "<table border=\"1\" class=\"dataframe\">\n",
       "  <thead>\n",
       "    <tr style=\"text-align: right;\">\n",
       "      <th></th>\n",
       "      <th>语文</th>\n",
       "      <th>数学</th>\n",
       "      <th>英语</th>\n",
       "    </tr>\n",
       "  </thead>\n",
       "  <tbody>\n",
       "    <tr>\n",
       "      <th>wusong</th>\n",
       "      <td>6</td>\n",
       "      <td>7</td>\n",
       "      <td>8</td>\n",
       "    </tr>\n",
       "    <tr>\n",
       "      <th>songjiang</th>\n",
       "      <td>0</td>\n",
       "      <td>1</td>\n",
       "      <td>2</td>\n",
       "    </tr>\n",
       "    <tr>\n",
       "      <th>likui</th>\n",
       "      <td>3</td>\n",
       "      <td>4</td>\n",
       "      <td>5</td>\n",
       "    </tr>\n",
       "  </tbody>\n",
       "</table>\n",
       "</div>"
      ],
      "text/plain": [
       "           语文  数学  英语\n",
       "wusong      6   7   8\n",
       "songjiang   0   1   2\n",
       "likui       3   4   5"
      ]
     },
     "execution_count": 41,
     "metadata": {},
     "output_type": "execute_result"
    }
   ],
   "source": [
    "df1.sort_index(ascending=False)"
   ]
  },
  {
   "cell_type": "code",
   "execution_count": 43,
   "id": "b9c57418",
   "metadata": {},
   "outputs": [
    {
     "data": {
      "text/html": [
       "<div>\n",
       "<style scoped>\n",
       "    .dataframe tbody tr th:only-of-type {\n",
       "        vertical-align: middle;\n",
       "    }\n",
       "\n",
       "    .dataframe tbody tr th {\n",
       "        vertical-align: top;\n",
       "    }\n",
       "\n",
       "    .dataframe thead th {\n",
       "        text-align: right;\n",
       "    }\n",
       "</style>\n",
       "<table border=\"1\" class=\"dataframe\">\n",
       "  <thead>\n",
       "    <tr style=\"text-align: right;\">\n",
       "      <th></th>\n",
       "      <th>yuwen</th>\n",
       "      <th>shuxue</th>\n",
       "      <th>yingyu</th>\n",
       "    </tr>\n",
       "  </thead>\n",
       "  <tbody>\n",
       "    <tr>\n",
       "      <th>songjiang</th>\n",
       "      <td>0</td>\n",
       "      <td>1</td>\n",
       "      <td>2</td>\n",
       "    </tr>\n",
       "    <tr>\n",
       "      <th>likui</th>\n",
       "      <td>3</td>\n",
       "      <td>4</td>\n",
       "      <td>5</td>\n",
       "    </tr>\n",
       "    <tr>\n",
       "      <th>wusong</th>\n",
       "      <td>6</td>\n",
       "      <td>7</td>\n",
       "      <td>8</td>\n",
       "    </tr>\n",
       "  </tbody>\n",
       "</table>\n",
       "</div>"
      ],
      "text/plain": [
       "           yuwen  shuxue  yingyu\n",
       "songjiang      0       1       2\n",
       "likui          3       4       5\n",
       "wusong         6       7       8"
      ]
     },
     "execution_count": 43,
     "metadata": {},
     "output_type": "execute_result"
    }
   ],
   "source": [
    "df1.rename({'语文':'yuwen','数学':'shuxue','英语':'yingyu'},axis=1,inplace=True)\n",
    "df1"
   ]
  },
  {
   "cell_type": "code",
   "execution_count": 44,
   "id": "ef71196b",
   "metadata": {},
   "outputs": [
    {
     "data": {
      "text/html": [
       "<div>\n",
       "<style scoped>\n",
       "    .dataframe tbody tr th:only-of-type {\n",
       "        vertical-align: middle;\n",
       "    }\n",
       "\n",
       "    .dataframe tbody tr th {\n",
       "        vertical-align: top;\n",
       "    }\n",
       "\n",
       "    .dataframe thead th {\n",
       "        text-align: right;\n",
       "    }\n",
       "</style>\n",
       "<table border=\"1\" class=\"dataframe\">\n",
       "  <thead>\n",
       "    <tr style=\"text-align: right;\">\n",
       "      <th></th>\n",
       "      <th>shuxue</th>\n",
       "      <th>yingyu</th>\n",
       "      <th>yuwen</th>\n",
       "    </tr>\n",
       "  </thead>\n",
       "  <tbody>\n",
       "    <tr>\n",
       "      <th>songjiang</th>\n",
       "      <td>1</td>\n",
       "      <td>2</td>\n",
       "      <td>0</td>\n",
       "    </tr>\n",
       "    <tr>\n",
       "      <th>likui</th>\n",
       "      <td>4</td>\n",
       "      <td>5</td>\n",
       "      <td>3</td>\n",
       "    </tr>\n",
       "    <tr>\n",
       "      <th>wusong</th>\n",
       "      <td>7</td>\n",
       "      <td>8</td>\n",
       "      <td>6</td>\n",
       "    </tr>\n",
       "  </tbody>\n",
       "</table>\n",
       "</div>"
      ],
      "text/plain": [
       "           shuxue  yingyu  yuwen\n",
       "songjiang       1       2      0\n",
       "likui           4       5      3\n",
       "wusong          7       8      6"
      ]
     },
     "execution_count": 44,
     "metadata": {},
     "output_type": "execute_result"
    }
   ],
   "source": [
    "df1.sort_index(axis=1)"
   ]
  },
  {
   "cell_type": "code",
   "execution_count": 48,
   "id": "e9ff8133",
   "metadata": {},
   "outputs": [
    {
     "data": {
      "text/html": [
       "<div>\n",
       "<style scoped>\n",
       "    .dataframe tbody tr th:only-of-type {\n",
       "        vertical-align: middle;\n",
       "    }\n",
       "\n",
       "    .dataframe tbody tr th {\n",
       "        vertical-align: top;\n",
       "    }\n",
       "\n",
       "    .dataframe thead th {\n",
       "        text-align: right;\n",
       "    }\n",
       "</style>\n",
       "<table border=\"1\" class=\"dataframe\">\n",
       "  <thead>\n",
       "    <tr style=\"text-align: right;\">\n",
       "      <th></th>\n",
       "      <th>yuwen</th>\n",
       "      <th>yingyu</th>\n",
       "      <th>shuxue</th>\n",
       "    </tr>\n",
       "  </thead>\n",
       "  <tbody>\n",
       "    <tr>\n",
       "      <th>songjiang</th>\n",
       "      <td>0</td>\n",
       "      <td>2</td>\n",
       "      <td>1</td>\n",
       "    </tr>\n",
       "    <tr>\n",
       "      <th>likui</th>\n",
       "      <td>3</td>\n",
       "      <td>5</td>\n",
       "      <td>4</td>\n",
       "    </tr>\n",
       "    <tr>\n",
       "      <th>wusong</th>\n",
       "      <td>6</td>\n",
       "      <td>8</td>\n",
       "      <td>7</td>\n",
       "    </tr>\n",
       "  </tbody>\n",
       "</table>\n",
       "</div>"
      ],
      "text/plain": [
       "           yuwen  yingyu  shuxue\n",
       "songjiang      0       2       1\n",
       "likui          3       5       4\n",
       "wusong         6       8       7"
      ]
     },
     "execution_count": 48,
     "metadata": {},
     "output_type": "execute_result"
    }
   ],
   "source": [
    "df1.sort_index(axis=1,ascending=False)"
   ]
  },
  {
   "cell_type": "code",
   "execution_count": 49,
   "id": "d511d70d",
   "metadata": {},
   "outputs": [
    {
     "data": {
      "text/html": [
       "<div>\n",
       "<style scoped>\n",
       "    .dataframe tbody tr th:only-of-type {\n",
       "        vertical-align: middle;\n",
       "    }\n",
       "\n",
       "    .dataframe tbody tr th {\n",
       "        vertical-align: top;\n",
       "    }\n",
       "\n",
       "    .dataframe thead th {\n",
       "        text-align: right;\n",
       "    }\n",
       "</style>\n",
       "<table border=\"1\" class=\"dataframe\">\n",
       "  <thead>\n",
       "    <tr style=\"text-align: right;\">\n",
       "      <th></th>\n",
       "      <th>yuwen</th>\n",
       "      <th>shuxue</th>\n",
       "      <th>yingyu</th>\n",
       "    </tr>\n",
       "  </thead>\n",
       "  <tbody>\n",
       "    <tr>\n",
       "      <th>songjiang</th>\n",
       "      <td>0</td>\n",
       "      <td>1</td>\n",
       "      <td>2</td>\n",
       "    </tr>\n",
       "    <tr>\n",
       "      <th>likui</th>\n",
       "      <td>3</td>\n",
       "      <td>4</td>\n",
       "      <td>5</td>\n",
       "    </tr>\n",
       "    <tr>\n",
       "      <th>wusong</th>\n",
       "      <td>6</td>\n",
       "      <td>7</td>\n",
       "      <td>8</td>\n",
       "    </tr>\n",
       "  </tbody>\n",
       "</table>\n",
       "</div>"
      ],
      "text/plain": [
       "           yuwen  shuxue  yingyu\n",
       "songjiang      0       1       2\n",
       "likui          3       4       5\n",
       "wusong         6       7       8"
      ]
     },
     "execution_count": 49,
     "metadata": {},
     "output_type": "execute_result"
    }
   ],
   "source": [
    "df1.sort_values(by=['shuxue'])"
   ]
  },
  {
   "cell_type": "code",
   "execution_count": 50,
   "id": "5d240d11",
   "metadata": {},
   "outputs": [
    {
     "data": {
      "text/html": [
       "<div>\n",
       "<style scoped>\n",
       "    .dataframe tbody tr th:only-of-type {\n",
       "        vertical-align: middle;\n",
       "    }\n",
       "\n",
       "    .dataframe tbody tr th {\n",
       "        vertical-align: top;\n",
       "    }\n",
       "\n",
       "    .dataframe thead th {\n",
       "        text-align: right;\n",
       "    }\n",
       "</style>\n",
       "<table border=\"1\" class=\"dataframe\">\n",
       "  <thead>\n",
       "    <tr style=\"text-align: right;\">\n",
       "      <th></th>\n",
       "      <th>yuwen</th>\n",
       "      <th>shuxue</th>\n",
       "      <th>yingyu</th>\n",
       "    </tr>\n",
       "  </thead>\n",
       "  <tbody>\n",
       "    <tr>\n",
       "      <th>songjiang</th>\n",
       "      <td>0</td>\n",
       "      <td>1</td>\n",
       "      <td>2</td>\n",
       "    </tr>\n",
       "    <tr>\n",
       "      <th>likui</th>\n",
       "      <td>3</td>\n",
       "      <td>4</td>\n",
       "      <td>5</td>\n",
       "    </tr>\n",
       "    <tr>\n",
       "      <th>wusong</th>\n",
       "      <td>6</td>\n",
       "      <td>7</td>\n",
       "      <td>8</td>\n",
       "    </tr>\n",
       "  </tbody>\n",
       "</table>\n",
       "</div>"
      ],
      "text/plain": [
       "           yuwen  shuxue  yingyu\n",
       "songjiang      0       1       2\n",
       "likui          3       4       5\n",
       "wusong         6       7       8"
      ]
     },
     "execution_count": 50,
     "metadata": {},
     "output_type": "execute_result"
    }
   ],
   "source": [
    "df1.sort_values(by=['shuxue','yingyu'])"
   ]
  },
  {
   "cell_type": "code",
   "execution_count": 51,
   "id": "f5375f8d",
   "metadata": {},
   "outputs": [
    {
     "data": {
      "text/html": [
       "<div>\n",
       "<style scoped>\n",
       "    .dataframe tbody tr th:only-of-type {\n",
       "        vertical-align: middle;\n",
       "    }\n",
       "\n",
       "    .dataframe tbody tr th {\n",
       "        vertical-align: top;\n",
       "    }\n",
       "\n",
       "    .dataframe thead th {\n",
       "        text-align: right;\n",
       "    }\n",
       "</style>\n",
       "<table border=\"1\" class=\"dataframe\">\n",
       "  <thead>\n",
       "    <tr style=\"text-align: right;\">\n",
       "      <th></th>\n",
       "      <th>yuwen</th>\n",
       "      <th>shuxue</th>\n",
       "      <th>yingyu</th>\n",
       "    </tr>\n",
       "  </thead>\n",
       "  <tbody>\n",
       "    <tr>\n",
       "      <th>songjiang</th>\n",
       "      <td>0</td>\n",
       "      <td>1</td>\n",
       "      <td>2</td>\n",
       "    </tr>\n",
       "    <tr>\n",
       "      <th>likui</th>\n",
       "      <td>3</td>\n",
       "      <td>4</td>\n",
       "      <td>5</td>\n",
       "    </tr>\n",
       "    <tr>\n",
       "      <th>wusong</th>\n",
       "      <td>6</td>\n",
       "      <td>7</td>\n",
       "      <td>8</td>\n",
       "    </tr>\n",
       "  </tbody>\n",
       "</table>\n",
       "</div>"
      ],
      "text/plain": [
       "           yuwen  shuxue  yingyu\n",
       "songjiang      0       1       2\n",
       "likui          3       4       5\n",
       "wusong         6       7       8"
      ]
     },
     "execution_count": 51,
     "metadata": {},
     "output_type": "execute_result"
    }
   ],
   "source": [
    "df1"
   ]
  },
  {
   "cell_type": "code",
   "execution_count": 52,
   "id": "a33f1af6",
   "metadata": {},
   "outputs": [
    {
     "data": {
      "text/plain": [
       "yuwen     3\n",
       "shuxue    3\n",
       "yingyu    3\n",
       "dtype: int64"
      ]
     },
     "execution_count": 52,
     "metadata": {},
     "output_type": "execute_result"
    }
   ],
   "source": [
    "df1.count()"
   ]
  },
  {
   "cell_type": "code",
   "execution_count": 53,
   "id": "93fff9fe",
   "metadata": {},
   "outputs": [
    {
     "data": {
      "text/plain": [
       "yuwen     6\n",
       "shuxue    7\n",
       "yingyu    8\n",
       "dtype: int32"
      ]
     },
     "execution_count": 53,
     "metadata": {},
     "output_type": "execute_result"
    }
   ],
   "source": [
    "df1.max()"
   ]
  },
  {
   "cell_type": "code",
   "execution_count": 54,
   "id": "1627e892",
   "metadata": {},
   "outputs": [
    {
     "data": {
      "text/plain": [
       "yuwen      9\n",
       "shuxue    12\n",
       "yingyu    15\n",
       "dtype: int64"
      ]
     },
     "execution_count": 54,
     "metadata": {},
     "output_type": "execute_result"
    }
   ],
   "source": [
    "df1.sum()"
   ]
  },
  {
   "cell_type": "code",
   "execution_count": 55,
   "id": "59ffcde9",
   "metadata": {},
   "outputs": [
    {
     "data": {
      "text/plain": [
       "songjiang     3\n",
       "likui        12\n",
       "wusong       21\n",
       "dtype: int64"
      ]
     },
     "execution_count": 55,
     "metadata": {},
     "output_type": "execute_result"
    }
   ],
   "source": [
    "df1.sum(axis = 1)"
   ]
  },
  {
   "cell_type": "code",
   "execution_count": 56,
   "id": "48f8ae10",
   "metadata": {},
   "outputs": [
    {
     "data": {
      "text/html": [
       "<div>\n",
       "<style scoped>\n",
       "    .dataframe tbody tr th:only-of-type {\n",
       "        vertical-align: middle;\n",
       "    }\n",
       "\n",
       "    .dataframe tbody tr th {\n",
       "        vertical-align: top;\n",
       "    }\n",
       "\n",
       "    .dataframe thead th {\n",
       "        text-align: right;\n",
       "    }\n",
       "</style>\n",
       "<table border=\"1\" class=\"dataframe\">\n",
       "  <thead>\n",
       "    <tr style=\"text-align: right;\">\n",
       "      <th></th>\n",
       "      <th>yuwen</th>\n",
       "      <th>shuxue</th>\n",
       "      <th>yingyu</th>\n",
       "    </tr>\n",
       "  </thead>\n",
       "  <tbody>\n",
       "    <tr>\n",
       "      <th>count</th>\n",
       "      <td>3.0</td>\n",
       "      <td>3.0</td>\n",
       "      <td>3.0</td>\n",
       "    </tr>\n",
       "    <tr>\n",
       "      <th>mean</th>\n",
       "      <td>3.0</td>\n",
       "      <td>4.0</td>\n",
       "      <td>5.0</td>\n",
       "    </tr>\n",
       "    <tr>\n",
       "      <th>std</th>\n",
       "      <td>3.0</td>\n",
       "      <td>3.0</td>\n",
       "      <td>3.0</td>\n",
       "    </tr>\n",
       "    <tr>\n",
       "      <th>min</th>\n",
       "      <td>0.0</td>\n",
       "      <td>1.0</td>\n",
       "      <td>2.0</td>\n",
       "    </tr>\n",
       "    <tr>\n",
       "      <th>25%</th>\n",
       "      <td>1.5</td>\n",
       "      <td>2.5</td>\n",
       "      <td>3.5</td>\n",
       "    </tr>\n",
       "    <tr>\n",
       "      <th>50%</th>\n",
       "      <td>3.0</td>\n",
       "      <td>4.0</td>\n",
       "      <td>5.0</td>\n",
       "    </tr>\n",
       "    <tr>\n",
       "      <th>75%</th>\n",
       "      <td>4.5</td>\n",
       "      <td>5.5</td>\n",
       "      <td>6.5</td>\n",
       "    </tr>\n",
       "    <tr>\n",
       "      <th>max</th>\n",
       "      <td>6.0</td>\n",
       "      <td>7.0</td>\n",
       "      <td>8.0</td>\n",
       "    </tr>\n",
       "  </tbody>\n",
       "</table>\n",
       "</div>"
      ],
      "text/plain": [
       "       yuwen  shuxue  yingyu\n",
       "count    3.0     3.0     3.0\n",
       "mean     3.0     4.0     5.0\n",
       "std      3.0     3.0     3.0\n",
       "min      0.0     1.0     2.0\n",
       "25%      1.5     2.5     3.5\n",
       "50%      3.0     4.0     5.0\n",
       "75%      4.5     5.5     6.5\n",
       "max      6.0     7.0     8.0"
      ]
     },
     "execution_count": 56,
     "metadata": {},
     "output_type": "execute_result"
    }
   ],
   "source": [
    "df1.describe()"
   ]
  },
  {
   "cell_type": "code",
   "execution_count": 57,
   "id": "512057d6",
   "metadata": {},
   "outputs": [
    {
     "name": "stdout",
     "output_type": "stream",
     "text": [
      "    name age\n",
      "0   andy  18\n",
      "1  jacky  20\n",
      "        name age\n",
      "count      2   2\n",
      "unique     2   2\n",
      "top     andy  18\n",
      "freq       1   1\n"
     ]
    }
   ],
   "source": [
    "data = {'name':['andy','jacky'],'age':['18','20']}\n",
    "df = pd.DataFrame(data)\n",
    "print(df)\n",
    "print(df.describe())"
   ]
  },
  {
   "cell_type": "code",
   "execution_count": 58,
   "id": "ad813071",
   "metadata": {},
   "outputs": [
    {
     "data": {
      "text/html": [
       "<div>\n",
       "<style scoped>\n",
       "    .dataframe tbody tr th:only-of-type {\n",
       "        vertical-align: middle;\n",
       "    }\n",
       "\n",
       "    .dataframe tbody tr th {\n",
       "        vertical-align: top;\n",
       "    }\n",
       "\n",
       "    .dataframe thead th {\n",
       "        text-align: right;\n",
       "    }\n",
       "</style>\n",
       "<table border=\"1\" class=\"dataframe\">\n",
       "  <thead>\n",
       "    <tr style=\"text-align: right;\">\n",
       "      <th></th>\n",
       "      <th>yuwen</th>\n",
       "      <th>shuxue</th>\n",
       "      <th>yingyu</th>\n",
       "    </tr>\n",
       "  </thead>\n",
       "  <tbody>\n",
       "    <tr>\n",
       "      <th>songjiang</th>\n",
       "      <td>0</td>\n",
       "      <td>1</td>\n",
       "      <td>NaN</td>\n",
       "    </tr>\n",
       "    <tr>\n",
       "      <th>likui</th>\n",
       "      <td>3</td>\n",
       "      <td>4</td>\n",
       "      <td>5.0</td>\n",
       "    </tr>\n",
       "    <tr>\n",
       "      <th>wusong</th>\n",
       "      <td>6</td>\n",
       "      <td>7</td>\n",
       "      <td>8.0</td>\n",
       "    </tr>\n",
       "  </tbody>\n",
       "</table>\n",
       "</div>"
      ],
      "text/plain": [
       "           yuwen  shuxue  yingyu\n",
       "songjiang      0       1     NaN\n",
       "likui          3       4     5.0\n",
       "wusong         6       7     8.0"
      ]
     },
     "execution_count": 58,
     "metadata": {},
     "output_type": "execute_result"
    }
   ],
   "source": [
    "df1['yingyu'] = [np.nan,5,8]\n",
    "df1"
   ]
  },
  {
   "cell_type": "code",
   "execution_count": 59,
   "id": "3b5da7c3",
   "metadata": {},
   "outputs": [
    {
     "data": {
      "text/plain": [
       "yuwen      9.0\n",
       "shuxue    12.0\n",
       "yingyu    13.0\n",
       "dtype: float64"
      ]
     },
     "execution_count": 59,
     "metadata": {},
     "output_type": "execute_result"
    }
   ],
   "source": [
    "df1.sum()"
   ]
  },
  {
   "cell_type": "code",
   "execution_count": 60,
   "id": "5d750ba2",
   "metadata": {},
   "outputs": [
    {
     "data": {
      "text/html": [
       "<div>\n",
       "<style scoped>\n",
       "    .dataframe tbody tr th:only-of-type {\n",
       "        vertical-align: middle;\n",
       "    }\n",
       "\n",
       "    .dataframe tbody tr th {\n",
       "        vertical-align: top;\n",
       "    }\n",
       "\n",
       "    .dataframe thead th {\n",
       "        text-align: right;\n",
       "    }\n",
       "</style>\n",
       "<table border=\"1\" class=\"dataframe\">\n",
       "  <thead>\n",
       "    <tr style=\"text-align: right;\">\n",
       "      <th></th>\n",
       "      <th>yuwen</th>\n",
       "      <th>shuxue</th>\n",
       "      <th>yingyu</th>\n",
       "    </tr>\n",
       "  </thead>\n",
       "  <tbody>\n",
       "    <tr>\n",
       "      <th>songjiang</th>\n",
       "      <td>0</td>\n",
       "      <td>1</td>\n",
       "      <td>NaN</td>\n",
       "    </tr>\n",
       "    <tr>\n",
       "      <th>likui</th>\n",
       "      <td>3</td>\n",
       "      <td>4</td>\n",
       "      <td>5.0</td>\n",
       "    </tr>\n",
       "    <tr>\n",
       "      <th>wusong</th>\n",
       "      <td>6</td>\n",
       "      <td>7</td>\n",
       "      <td>8.0</td>\n",
       "    </tr>\n",
       "  </tbody>\n",
       "</table>\n",
       "</div>"
      ],
      "text/plain": [
       "           yuwen  shuxue  yingyu\n",
       "songjiang      0       1     NaN\n",
       "likui          3       4     5.0\n",
       "wusong         6       7     8.0"
      ]
     },
     "execution_count": 60,
     "metadata": {},
     "output_type": "execute_result"
    }
   ],
   "source": [
    "df1"
   ]
  },
  {
   "cell_type": "code",
   "execution_count": 61,
   "id": "35e171c5",
   "metadata": {},
   "outputs": [
    {
     "data": {
      "text/html": [
       "<div>\n",
       "<style scoped>\n",
       "    .dataframe tbody tr th:only-of-type {\n",
       "        vertical-align: middle;\n",
       "    }\n",
       "\n",
       "    .dataframe tbody tr th {\n",
       "        vertical-align: top;\n",
       "    }\n",
       "\n",
       "    .dataframe thead th {\n",
       "        text-align: right;\n",
       "    }\n",
       "</style>\n",
       "<table border=\"1\" class=\"dataframe\">\n",
       "  <thead>\n",
       "    <tr style=\"text-align: right;\">\n",
       "      <th></th>\n",
       "      <th>yuwen</th>\n",
       "      <th>shuxue</th>\n",
       "      <th>yingyu</th>\n",
       "    </tr>\n",
       "  </thead>\n",
       "  <tbody>\n",
       "    <tr>\n",
       "      <th>songjiang</th>\n",
       "      <td>False</td>\n",
       "      <td>False</td>\n",
       "      <td>True</td>\n",
       "    </tr>\n",
       "    <tr>\n",
       "      <th>likui</th>\n",
       "      <td>False</td>\n",
       "      <td>False</td>\n",
       "      <td>False</td>\n",
       "    </tr>\n",
       "    <tr>\n",
       "      <th>wusong</th>\n",
       "      <td>False</td>\n",
       "      <td>False</td>\n",
       "      <td>False</td>\n",
       "    </tr>\n",
       "  </tbody>\n",
       "</table>\n",
       "</div>"
      ],
      "text/plain": [
       "           yuwen  shuxue  yingyu\n",
       "songjiang  False   False    True\n",
       "likui      False   False   False\n",
       "wusong     False   False   False"
      ]
     },
     "execution_count": 61,
     "metadata": {},
     "output_type": "execute_result"
    }
   ],
   "source": [
    "df1.isnull()"
   ]
  },
  {
   "cell_type": "code",
   "execution_count": 62,
   "id": "7b2e0a53",
   "metadata": {},
   "outputs": [
    {
     "data": {
      "text/html": [
       "<div>\n",
       "<style scoped>\n",
       "    .dataframe tbody tr th:only-of-type {\n",
       "        vertical-align: middle;\n",
       "    }\n",
       "\n",
       "    .dataframe tbody tr th {\n",
       "        vertical-align: top;\n",
       "    }\n",
       "\n",
       "    .dataframe thead th {\n",
       "        text-align: right;\n",
       "    }\n",
       "</style>\n",
       "<table border=\"1\" class=\"dataframe\">\n",
       "  <thead>\n",
       "    <tr style=\"text-align: right;\">\n",
       "      <th></th>\n",
       "      <th>yuwen</th>\n",
       "      <th>shuxue</th>\n",
       "      <th>yingyu</th>\n",
       "    </tr>\n",
       "  </thead>\n",
       "  <tbody>\n",
       "    <tr>\n",
       "      <th>songjiang</th>\n",
       "      <td>True</td>\n",
       "      <td>True</td>\n",
       "      <td>False</td>\n",
       "    </tr>\n",
       "    <tr>\n",
       "      <th>likui</th>\n",
       "      <td>True</td>\n",
       "      <td>True</td>\n",
       "      <td>True</td>\n",
       "    </tr>\n",
       "    <tr>\n",
       "      <th>wusong</th>\n",
       "      <td>True</td>\n",
       "      <td>True</td>\n",
       "      <td>True</td>\n",
       "    </tr>\n",
       "  </tbody>\n",
       "</table>\n",
       "</div>"
      ],
      "text/plain": [
       "           yuwen  shuxue  yingyu\n",
       "songjiang   True    True   False\n",
       "likui       True    True    True\n",
       "wusong      True    True    True"
      ]
     },
     "execution_count": 62,
     "metadata": {},
     "output_type": "execute_result"
    }
   ],
   "source": [
    "df1.notnull()"
   ]
  },
  {
   "cell_type": "code",
   "execution_count": 63,
   "id": "3fd7b404",
   "metadata": {},
   "outputs": [
    {
     "name": "stdout",
     "output_type": "stream",
     "text": [
      "<class 'pandas.core.frame.DataFrame'>\n",
      "Index: 3 entries, songjiang to wusong\n",
      "Data columns (total 3 columns):\n",
      " #   Column  Non-Null Count  Dtype  \n",
      "---  ------  --------------  -----  \n",
      " 0   yuwen   3 non-null      int32  \n",
      " 1   shuxue  3 non-null      int32  \n",
      " 2   yingyu  2 non-null      float64\n",
      "dtypes: float64(1), int32(2)\n",
      "memory usage: 180.0+ bytes\n"
     ]
    }
   ],
   "source": [
    "df1.info()"
   ]
  },
  {
   "cell_type": "code",
   "execution_count": 64,
   "id": "c6dc5516",
   "metadata": {},
   "outputs": [
    {
     "data": {
      "text/html": [
       "<div>\n",
       "<style scoped>\n",
       "    .dataframe tbody tr th:only-of-type {\n",
       "        vertical-align: middle;\n",
       "    }\n",
       "\n",
       "    .dataframe tbody tr th {\n",
       "        vertical-align: top;\n",
       "    }\n",
       "\n",
       "    .dataframe thead th {\n",
       "        text-align: right;\n",
       "    }\n",
       "</style>\n",
       "<table border=\"1\" class=\"dataframe\">\n",
       "  <thead>\n",
       "    <tr style=\"text-align: right;\">\n",
       "      <th></th>\n",
       "      <th>yuwen</th>\n",
       "      <th>shuxue</th>\n",
       "      <th>yingyu</th>\n",
       "    </tr>\n",
       "  </thead>\n",
       "  <tbody>\n",
       "    <tr>\n",
       "      <th>likui</th>\n",
       "      <td>3</td>\n",
       "      <td>4</td>\n",
       "      <td>5.0</td>\n",
       "    </tr>\n",
       "    <tr>\n",
       "      <th>wusong</th>\n",
       "      <td>6</td>\n",
       "      <td>7</td>\n",
       "      <td>8.0</td>\n",
       "    </tr>\n",
       "  </tbody>\n",
       "</table>\n",
       "</div>"
      ],
      "text/plain": [
       "        yuwen  shuxue  yingyu\n",
       "likui       3       4     5.0\n",
       "wusong      6       7     8.0"
      ]
     },
     "execution_count": 64,
     "metadata": {},
     "output_type": "execute_result"
    }
   ],
   "source": [
    "df1.dropna()"
   ]
  },
  {
   "cell_type": "code",
   "execution_count": 65,
   "id": "4cea3a60",
   "metadata": {},
   "outputs": [
    {
     "data": {
      "text/html": [
       "<div>\n",
       "<style scoped>\n",
       "    .dataframe tbody tr th:only-of-type {\n",
       "        vertical-align: middle;\n",
       "    }\n",
       "\n",
       "    .dataframe tbody tr th {\n",
       "        vertical-align: top;\n",
       "    }\n",
       "\n",
       "    .dataframe thead th {\n",
       "        text-align: right;\n",
       "    }\n",
       "</style>\n",
       "<table border=\"1\" class=\"dataframe\">\n",
       "  <thead>\n",
       "    <tr style=\"text-align: right;\">\n",
       "      <th></th>\n",
       "      <th>yuwen</th>\n",
       "      <th>shuxue</th>\n",
       "    </tr>\n",
       "  </thead>\n",
       "  <tbody>\n",
       "    <tr>\n",
       "      <th>songjiang</th>\n",
       "      <td>0</td>\n",
       "      <td>1</td>\n",
       "    </tr>\n",
       "    <tr>\n",
       "      <th>likui</th>\n",
       "      <td>3</td>\n",
       "      <td>4</td>\n",
       "    </tr>\n",
       "    <tr>\n",
       "      <th>wusong</th>\n",
       "      <td>6</td>\n",
       "      <td>7</td>\n",
       "    </tr>\n",
       "  </tbody>\n",
       "</table>\n",
       "</div>"
      ],
      "text/plain": [
       "           yuwen  shuxue\n",
       "songjiang      0       1\n",
       "likui          3       4\n",
       "wusong         6       7"
      ]
     },
     "execution_count": 65,
     "metadata": {},
     "output_type": "execute_result"
    }
   ],
   "source": [
    "df1.dropna(axis = 1)"
   ]
  },
  {
   "cell_type": "code",
   "execution_count": 66,
   "id": "9053c0f8",
   "metadata": {},
   "outputs": [
    {
     "data": {
      "text/html": [
       "<div>\n",
       "<style scoped>\n",
       "    .dataframe tbody tr th:only-of-type {\n",
       "        vertical-align: middle;\n",
       "    }\n",
       "\n",
       "    .dataframe tbody tr th {\n",
       "        vertical-align: top;\n",
       "    }\n",
       "\n",
       "    .dataframe thead th {\n",
       "        text-align: right;\n",
       "    }\n",
       "</style>\n",
       "<table border=\"1\" class=\"dataframe\">\n",
       "  <thead>\n",
       "    <tr style=\"text-align: right;\">\n",
       "      <th></th>\n",
       "      <th>yuwen</th>\n",
       "      <th>shuxue</th>\n",
       "      <th>yingyu</th>\n",
       "    </tr>\n",
       "  </thead>\n",
       "  <tbody>\n",
       "    <tr>\n",
       "      <th>songjiang</th>\n",
       "      <td>0</td>\n",
       "      <td>1</td>\n",
       "      <td>NaN</td>\n",
       "    </tr>\n",
       "    <tr>\n",
       "      <th>likui</th>\n",
       "      <td>3</td>\n",
       "      <td>4</td>\n",
       "      <td>5.0</td>\n",
       "    </tr>\n",
       "    <tr>\n",
       "      <th>wusong</th>\n",
       "      <td>6</td>\n",
       "      <td>7</td>\n",
       "      <td>8.0</td>\n",
       "    </tr>\n",
       "  </tbody>\n",
       "</table>\n",
       "</div>"
      ],
      "text/plain": [
       "           yuwen  shuxue  yingyu\n",
       "songjiang      0       1     NaN\n",
       "likui          3       4     5.0\n",
       "wusong         6       7     8.0"
      ]
     },
     "execution_count": 66,
     "metadata": {},
     "output_type": "execute_result"
    }
   ],
   "source": [
    "df1"
   ]
  },
  {
   "cell_type": "code",
   "execution_count": 67,
   "id": "49a2bf9b",
   "metadata": {},
   "outputs": [
    {
     "data": {
      "text/html": [
       "<div>\n",
       "<style scoped>\n",
       "    .dataframe tbody tr th:only-of-type {\n",
       "        vertical-align: middle;\n",
       "    }\n",
       "\n",
       "    .dataframe tbody tr th {\n",
       "        vertical-align: top;\n",
       "    }\n",
       "\n",
       "    .dataframe thead th {\n",
       "        text-align: right;\n",
       "    }\n",
       "</style>\n",
       "<table border=\"1\" class=\"dataframe\">\n",
       "  <thead>\n",
       "    <tr style=\"text-align: right;\">\n",
       "      <th></th>\n",
       "      <th>yuwen</th>\n",
       "      <th>shuxue</th>\n",
       "      <th>yingyu</th>\n",
       "    </tr>\n",
       "  </thead>\n",
       "  <tbody>\n",
       "    <tr>\n",
       "      <th>songjiang</th>\n",
       "      <td>0.0</td>\n",
       "      <td>1.0</td>\n",
       "      <td>NaN</td>\n",
       "    </tr>\n",
       "    <tr>\n",
       "      <th>likui</th>\n",
       "      <td>3.0</td>\n",
       "      <td>4.0</td>\n",
       "      <td>5.0</td>\n",
       "    </tr>\n",
       "    <tr>\n",
       "      <th>wusong</th>\n",
       "      <td>6.0</td>\n",
       "      <td>7.0</td>\n",
       "      <td>8.0</td>\n",
       "    </tr>\n",
       "    <tr>\n",
       "      <th>wuyong</th>\n",
       "      <td>NaN</td>\n",
       "      <td>NaN</td>\n",
       "      <td>NaN</td>\n",
       "    </tr>\n",
       "  </tbody>\n",
       "</table>\n",
       "</div>"
      ],
      "text/plain": [
       "           yuwen  shuxue  yingyu\n",
       "songjiang    0.0     1.0     NaN\n",
       "likui        3.0     4.0     5.0\n",
       "wusong       6.0     7.0     8.0\n",
       "wuyong       NaN     NaN     NaN"
      ]
     },
     "execution_count": 67,
     "metadata": {},
     "output_type": "execute_result"
    }
   ],
   "source": [
    "df1.loc['wuyong']=[np.nan,np.nan,np.nan]\n",
    "df1"
   ]
  },
  {
   "cell_type": "code",
   "execution_count": 70,
   "id": "6bad2ea7",
   "metadata": {},
   "outputs": [
    {
     "data": {
      "text/html": [
       "<div>\n",
       "<style scoped>\n",
       "    .dataframe tbody tr th:only-of-type {\n",
       "        vertical-align: middle;\n",
       "    }\n",
       "\n",
       "    .dataframe tbody tr th {\n",
       "        vertical-align: top;\n",
       "    }\n",
       "\n",
       "    .dataframe thead th {\n",
       "        text-align: right;\n",
       "    }\n",
       "</style>\n",
       "<table border=\"1\" class=\"dataframe\">\n",
       "  <thead>\n",
       "    <tr style=\"text-align: right;\">\n",
       "      <th></th>\n",
       "      <th>yuwen</th>\n",
       "      <th>shuxue</th>\n",
       "      <th>yingyu</th>\n",
       "    </tr>\n",
       "  </thead>\n",
       "  <tbody>\n",
       "    <tr>\n",
       "      <th>songjiang</th>\n",
       "      <td>0.0</td>\n",
       "      <td>1.0</td>\n",
       "      <td>NaN</td>\n",
       "    </tr>\n",
       "    <tr>\n",
       "      <th>likui</th>\n",
       "      <td>3.0</td>\n",
       "      <td>4.0</td>\n",
       "      <td>5.0</td>\n",
       "    </tr>\n",
       "    <tr>\n",
       "      <th>wusong</th>\n",
       "      <td>6.0</td>\n",
       "      <td>7.0</td>\n",
       "      <td>8.0</td>\n",
       "    </tr>\n",
       "  </tbody>\n",
       "</table>\n",
       "</div>"
      ],
      "text/plain": [
       "           yuwen  shuxue  yingyu\n",
       "songjiang    0.0     1.0     NaN\n",
       "likui        3.0     4.0     5.0\n",
       "wusong       6.0     7.0     8.0"
      ]
     },
     "execution_count": 70,
     "metadata": {},
     "output_type": "execute_result"
    }
   ],
   "source": [
    "df1.dropna(how='all',inplace=True)\n",
    "df1"
   ]
  },
  {
   "cell_type": "code",
   "execution_count": 71,
   "id": "36fa92e8",
   "metadata": {},
   "outputs": [
    {
     "data": {
      "text/html": [
       "<div>\n",
       "<style scoped>\n",
       "    .dataframe tbody tr th:only-of-type {\n",
       "        vertical-align: middle;\n",
       "    }\n",
       "\n",
       "    .dataframe tbody tr th {\n",
       "        vertical-align: top;\n",
       "    }\n",
       "\n",
       "    .dataframe thead th {\n",
       "        text-align: right;\n",
       "    }\n",
       "</style>\n",
       "<table border=\"1\" class=\"dataframe\">\n",
       "  <thead>\n",
       "    <tr style=\"text-align: right;\">\n",
       "      <th></th>\n",
       "      <th>yuwen</th>\n",
       "      <th>shuxue</th>\n",
       "      <th>yingyu</th>\n",
       "    </tr>\n",
       "  </thead>\n",
       "  <tbody>\n",
       "    <tr>\n",
       "      <th>songjiang</th>\n",
       "      <td>0.0</td>\n",
       "      <td>1.0</td>\n",
       "      <td>0.0</td>\n",
       "    </tr>\n",
       "    <tr>\n",
       "      <th>likui</th>\n",
       "      <td>3.0</td>\n",
       "      <td>4.0</td>\n",
       "      <td>5.0</td>\n",
       "    </tr>\n",
       "    <tr>\n",
       "      <th>wusong</th>\n",
       "      <td>6.0</td>\n",
       "      <td>7.0</td>\n",
       "      <td>8.0</td>\n",
       "    </tr>\n",
       "  </tbody>\n",
       "</table>\n",
       "</div>"
      ],
      "text/plain": [
       "           yuwen  shuxue  yingyu\n",
       "songjiang    0.0     1.0     0.0\n",
       "likui        3.0     4.0     5.0\n",
       "wusong       6.0     7.0     8.0"
      ]
     },
     "execution_count": 71,
     "metadata": {},
     "output_type": "execute_result"
    }
   ],
   "source": [
    "df1.fillna(0) #填充0的误差太大"
   ]
  },
  {
   "cell_type": "code",
   "execution_count": 72,
   "id": "618da88e",
   "metadata": {},
   "outputs": [
    {
     "data": {
      "text/html": [
       "<div>\n",
       "<style scoped>\n",
       "    .dataframe tbody tr th:only-of-type {\n",
       "        vertical-align: middle;\n",
       "    }\n",
       "\n",
       "    .dataframe tbody tr th {\n",
       "        vertical-align: top;\n",
       "    }\n",
       "\n",
       "    .dataframe thead th {\n",
       "        text-align: right;\n",
       "    }\n",
       "</style>\n",
       "<table border=\"1\" class=\"dataframe\">\n",
       "  <thead>\n",
       "    <tr style=\"text-align: right;\">\n",
       "      <th></th>\n",
       "      <th>yuwen</th>\n",
       "      <th>shuxue</th>\n",
       "      <th>yingyu</th>\n",
       "    </tr>\n",
       "  </thead>\n",
       "  <tbody>\n",
       "    <tr>\n",
       "      <th>songjiang</th>\n",
       "      <td>0.0</td>\n",
       "      <td>1.0</td>\n",
       "      <td>6.5</td>\n",
       "    </tr>\n",
       "    <tr>\n",
       "      <th>likui</th>\n",
       "      <td>3.0</td>\n",
       "      <td>4.0</td>\n",
       "      <td>5.0</td>\n",
       "    </tr>\n",
       "    <tr>\n",
       "      <th>wusong</th>\n",
       "      <td>6.0</td>\n",
       "      <td>7.0</td>\n",
       "      <td>8.0</td>\n",
       "    </tr>\n",
       "  </tbody>\n",
       "</table>\n",
       "</div>"
      ],
      "text/plain": [
       "           yuwen  shuxue  yingyu\n",
       "songjiang    0.0     1.0     6.5\n",
       "likui        3.0     4.0     5.0\n",
       "wusong       6.0     7.0     8.0"
      ]
     },
     "execution_count": 72,
     "metadata": {},
     "output_type": "execute_result"
    }
   ],
   "source": [
    "df1.fillna(df1.mean())#平均值"
   ]
  },
  {
   "cell_type": "code",
   "execution_count": 75,
   "id": "9d390f49",
   "metadata": {},
   "outputs": [
    {
     "data": {
      "text/html": [
       "<div>\n",
       "<style scoped>\n",
       "    .dataframe tbody tr th:only-of-type {\n",
       "        vertical-align: middle;\n",
       "    }\n",
       "\n",
       "    .dataframe tbody tr th {\n",
       "        vertical-align: top;\n",
       "    }\n",
       "\n",
       "    .dataframe thead th {\n",
       "        text-align: right;\n",
       "    }\n",
       "</style>\n",
       "<table border=\"1\" class=\"dataframe\">\n",
       "  <thead>\n",
       "    <tr style=\"text-align: right;\">\n",
       "      <th></th>\n",
       "      <th>肖申克的救赎 The Shawshank Redemption|9.6|(1005725人评价)</th>\n",
       "    </tr>\n",
       "  </thead>\n",
       "  <tbody>\n",
       "    <tr>\n",
       "      <th>0</th>\n",
       "      <td>这个杀手不太冷 Léon|9.4|(945608人评价)</td>\n",
       "    </tr>\n",
       "    <tr>\n",
       "      <th>1</th>\n",
       "      <td>阿甘正传 Forrest Gump|9.4|(804207人评价)</td>\n",
       "    </tr>\n",
       "    <tr>\n",
       "      <th>2</th>\n",
       "      <td>霸王别姬|9.5|(731356人评价)</td>\n",
       "    </tr>\n",
       "    <tr>\n",
       "      <th>3</th>\n",
       "      <td>美丽人生 La vita è bella|9.5|(469717人评价)</td>\n",
       "    </tr>\n",
       "    <tr>\n",
       "      <th>4</th>\n",
       "      <td>海上钢琴师 La leggenda del pianista sull'oceano|9.2...</td>\n",
       "    </tr>\n",
       "    <tr>\n",
       "      <th>...</th>\n",
       "      <td>...</td>\n",
       "    </tr>\n",
       "    <tr>\n",
       "      <th>244</th>\n",
       "      <td>你看起来好像很好吃 おまえうまそうだな|8.8|(166414人评价)</td>\n",
       "    </tr>\n",
       "    <tr>\n",
       "      <th>245</th>\n",
       "      <td>那些年，我们一起追的女孩 那些年，我們一起追的女孩|8.1|(522910人评价)</td>\n",
       "    </tr>\n",
       "    <tr>\n",
       "      <th>246</th>\n",
       "      <td>再见我们的幼儿园 さよならぼくたちのようちえん|8.7|(94329人评价)</td>\n",
       "    </tr>\n",
       "    <tr>\n",
       "      <th>247</th>\n",
       "      <td>就是这样 This Is It|8.7|(77153人评价)</td>\n",
       "    </tr>\n",
       "    <tr>\n",
       "      <th>248</th>\n",
       "      <td>被解救的姜戈 Django Unchained|8.5|(268718人评价)</td>\n",
       "    </tr>\n",
       "  </tbody>\n",
       "</table>\n",
       "<p>249 rows × 1 columns</p>\n",
       "</div>"
      ],
      "text/plain": [
       "      肖申克的救赎 The Shawshank Redemption|9.6|(1005725人评价)\n",
       "0                         这个杀手不太冷 Léon|9.4|(945608人评价)\n",
       "1                    阿甘正传 Forrest Gump|9.4|(804207人评价)\n",
       "2                                 霸王别姬|9.5|(731356人评价)\n",
       "3                 美丽人生 La vita è bella|9.5|(469717人评价)\n",
       "4    海上钢琴师 La leggenda del pianista sull'oceano|9.2...\n",
       "..                                                 ...\n",
       "244                你看起来好像很好吃 おまえうまそうだな|8.8|(166414人评价)\n",
       "245          那些年，我们一起追的女孩 那些年，我們一起追的女孩|8.1|(522910人评价)\n",
       "246             再见我们的幼儿园 さよならぼくたちのようちえん|8.7|(94329人评价)\n",
       "247                     就是这样 This Is It|8.7|(77153人评价)\n",
       "248            被解救的姜戈 Django Unchained|8.5|(268718人评价)\n",
       "\n",
       "[249 rows x 1 columns]"
      ]
     },
     "execution_count": 75,
     "metadata": {},
     "output_type": "execute_result"
    }
   ],
   "source": [
    "movies = pd.read_csv(\"D:/Python/课堂/14次/14-pandas（2）/data/豆瓣TOP250.txt\")\n",
    "movies"
   ]
  },
  {
   "cell_type": "code",
   "execution_count": 76,
   "id": "15adfbd2",
   "metadata": {},
   "outputs": [
    {
     "name": "stdout",
     "output_type": "stream",
     "text": [
      "Index(['肖申克的救赎 The Shawshank Redemption|9.6|(1005725人评价)'], dtype='object')\n"
     ]
    }
   ],
   "source": [
    "print(movies.columns)"
   ]
  },
  {
   "cell_type": "code",
   "execution_count": 77,
   "id": "8b9491b6",
   "metadata": {},
   "outputs": [
    {
     "data": {
      "text/html": [
       "<div>\n",
       "<style scoped>\n",
       "    .dataframe tbody tr th:only-of-type {\n",
       "        vertical-align: middle;\n",
       "    }\n",
       "\n",
       "    .dataframe tbody tr th {\n",
       "        vertical-align: top;\n",
       "    }\n",
       "\n",
       "    .dataframe thead th {\n",
       "        text-align: right;\n",
       "    }\n",
       "</style>\n",
       "<table border=\"1\" class=\"dataframe\">\n",
       "  <thead>\n",
       "    <tr style=\"text-align: right;\">\n",
       "      <th></th>\n",
       "      <th>肖申克的救赎 The Shawshank Redemption</th>\n",
       "      <th>9.6</th>\n",
       "      <th>(1005725人评价)</th>\n",
       "    </tr>\n",
       "  </thead>\n",
       "  <tbody>\n",
       "    <tr>\n",
       "      <th>0</th>\n",
       "      <td>这个杀手不太冷 Léon</td>\n",
       "      <td>9.4</td>\n",
       "      <td>(945608人评价)</td>\n",
       "    </tr>\n",
       "    <tr>\n",
       "      <th>1</th>\n",
       "      <td>阿甘正传 Forrest Gump</td>\n",
       "      <td>9.4</td>\n",
       "      <td>(804207人评价)</td>\n",
       "    </tr>\n",
       "    <tr>\n",
       "      <th>2</th>\n",
       "      <td>霸王别姬</td>\n",
       "      <td>9.5</td>\n",
       "      <td>(731356人评价)</td>\n",
       "    </tr>\n",
       "    <tr>\n",
       "      <th>3</th>\n",
       "      <td>美丽人生 La vita è bella</td>\n",
       "      <td>9.5</td>\n",
       "      <td>(469717人评价)</td>\n",
       "    </tr>\n",
       "    <tr>\n",
       "      <th>4</th>\n",
       "      <td>海上钢琴师 La leggenda del pianista sull'oceano</td>\n",
       "      <td>9.2</td>\n",
       "      <td>(651756人评价)</td>\n",
       "    </tr>\n",
       "    <tr>\n",
       "      <th>...</th>\n",
       "      <td>...</td>\n",
       "      <td>...</td>\n",
       "      <td>...</td>\n",
       "    </tr>\n",
       "    <tr>\n",
       "      <th>244</th>\n",
       "      <td>你看起来好像很好吃 おまえうまそうだな</td>\n",
       "      <td>8.8</td>\n",
       "      <td>(166414人评价)</td>\n",
       "    </tr>\n",
       "    <tr>\n",
       "      <th>245</th>\n",
       "      <td>那些年，我们一起追的女孩 那些年，我們一起追的女孩</td>\n",
       "      <td>8.1</td>\n",
       "      <td>(522910人评价)</td>\n",
       "    </tr>\n",
       "    <tr>\n",
       "      <th>246</th>\n",
       "      <td>再见我们的幼儿园 さよならぼくたちのようちえん</td>\n",
       "      <td>8.7</td>\n",
       "      <td>(94329人评价)</td>\n",
       "    </tr>\n",
       "    <tr>\n",
       "      <th>247</th>\n",
       "      <td>就是这样 This Is It</td>\n",
       "      <td>8.7</td>\n",
       "      <td>(77153人评价)</td>\n",
       "    </tr>\n",
       "    <tr>\n",
       "      <th>248</th>\n",
       "      <td>被解救的姜戈 Django Unchained</td>\n",
       "      <td>8.5</td>\n",
       "      <td>(268718人评价)</td>\n",
       "    </tr>\n",
       "  </tbody>\n",
       "</table>\n",
       "<p>249 rows × 3 columns</p>\n",
       "</div>"
      ],
      "text/plain": [
       "                肖申克的救赎 The Shawshank Redemption  9.6 (1005725人评价)\n",
       "0                                  这个杀手不太冷 Léon  9.4  (945608人评价)\n",
       "1                             阿甘正传 Forrest Gump  9.4  (804207人评价)\n",
       "2                                          霸王别姬  9.5  (731356人评价)\n",
       "3                          美丽人生 La vita è bella  9.5  (469717人评价)\n",
       "4    海上钢琴师 La leggenda del pianista sull'oceano  9.2  (651756人评价)\n",
       "..                                          ...  ...          ...\n",
       "244                         你看起来好像很好吃 おまえうまそうだな  8.8  (166414人评价)\n",
       "245                   那些年，我们一起追的女孩 那些年，我們一起追的女孩  8.1  (522910人评价)\n",
       "246                     再见我们的幼儿园 さよならぼくたちのようちえん  8.7   (94329人评价)\n",
       "247                             就是这样 This Is It  8.7   (77153人评价)\n",
       "248                     被解救的姜戈 Django Unchained  8.5  (268718人评价)\n",
       "\n",
       "[249 rows x 3 columns]"
      ]
     },
     "execution_count": 77,
     "metadata": {},
     "output_type": "execute_result"
    }
   ],
   "source": [
    "movies = pd.read_csv(\"D:/Python/课堂/14次/14-pandas（2）/data/豆瓣TOP250.txt\",sep='|')\n",
    "movies"
   ]
  },
  {
   "cell_type": "code",
   "execution_count": 79,
   "id": "e9304b88",
   "metadata": {},
   "outputs": [
    {
     "data": {
      "text/html": [
       "<div>\n",
       "<style scoped>\n",
       "    .dataframe tbody tr th:only-of-type {\n",
       "        vertical-align: middle;\n",
       "    }\n",
       "\n",
       "    .dataframe tbody tr th {\n",
       "        vertical-align: top;\n",
       "    }\n",
       "\n",
       "    .dataframe thead th {\n",
       "        text-align: right;\n",
       "    }\n",
       "</style>\n",
       "<table border=\"1\" class=\"dataframe\">\n",
       "  <thead>\n",
       "    <tr style=\"text-align: right;\">\n",
       "      <th></th>\n",
       "      <th>0</th>\n",
       "      <th>1</th>\n",
       "      <th>2</th>\n",
       "    </tr>\n",
       "  </thead>\n",
       "  <tbody>\n",
       "    <tr>\n",
       "      <th>0</th>\n",
       "      <td>肖申克的救赎 The Shawshank Redemption</td>\n",
       "      <td>9.6</td>\n",
       "      <td>(1005725人评价)</td>\n",
       "    </tr>\n",
       "    <tr>\n",
       "      <th>1</th>\n",
       "      <td>这个杀手不太冷 Léon</td>\n",
       "      <td>9.4</td>\n",
       "      <td>(945608人评价)</td>\n",
       "    </tr>\n",
       "    <tr>\n",
       "      <th>2</th>\n",
       "      <td>阿甘正传 Forrest Gump</td>\n",
       "      <td>9.4</td>\n",
       "      <td>(804207人评价)</td>\n",
       "    </tr>\n",
       "    <tr>\n",
       "      <th>3</th>\n",
       "      <td>霸王别姬</td>\n",
       "      <td>9.5</td>\n",
       "      <td>(731356人评价)</td>\n",
       "    </tr>\n",
       "    <tr>\n",
       "      <th>4</th>\n",
       "      <td>美丽人生 La vita è bella</td>\n",
       "      <td>9.5</td>\n",
       "      <td>(469717人评价)</td>\n",
       "    </tr>\n",
       "    <tr>\n",
       "      <th>...</th>\n",
       "      <td>...</td>\n",
       "      <td>...</td>\n",
       "      <td>...</td>\n",
       "    </tr>\n",
       "    <tr>\n",
       "      <th>245</th>\n",
       "      <td>你看起来好像很好吃 おまえうまそうだな</td>\n",
       "      <td>8.8</td>\n",
       "      <td>(166414人评价)</td>\n",
       "    </tr>\n",
       "    <tr>\n",
       "      <th>246</th>\n",
       "      <td>那些年，我们一起追的女孩 那些年，我們一起追的女孩</td>\n",
       "      <td>8.1</td>\n",
       "      <td>(522910人评价)</td>\n",
       "    </tr>\n",
       "    <tr>\n",
       "      <th>247</th>\n",
       "      <td>再见我们的幼儿园 さよならぼくたちのようちえん</td>\n",
       "      <td>8.7</td>\n",
       "      <td>(94329人评价)</td>\n",
       "    </tr>\n",
       "    <tr>\n",
       "      <th>248</th>\n",
       "      <td>就是这样 This Is It</td>\n",
       "      <td>8.7</td>\n",
       "      <td>(77153人评价)</td>\n",
       "    </tr>\n",
       "    <tr>\n",
       "      <th>249</th>\n",
       "      <td>被解救的姜戈 Django Unchained</td>\n",
       "      <td>8.5</td>\n",
       "      <td>(268718人评价)</td>\n",
       "    </tr>\n",
       "  </tbody>\n",
       "</table>\n",
       "<p>250 rows × 3 columns</p>\n",
       "</div>"
      ],
      "text/plain": [
       "                                   0    1             2\n",
       "0    肖申克的救赎 The Shawshank Redemption  9.6  (1005725人评价)\n",
       "1                       这个杀手不太冷 Léon  9.4   (945608人评价)\n",
       "2                  阿甘正传 Forrest Gump  9.4   (804207人评价)\n",
       "3                               霸王别姬  9.5   (731356人评价)\n",
       "4               美丽人生 La vita è bella  9.5   (469717人评价)\n",
       "..                               ...  ...           ...\n",
       "245              你看起来好像很好吃 おまえうまそうだな  8.8   (166414人评价)\n",
       "246        那些年，我们一起追的女孩 那些年，我們一起追的女孩  8.1   (522910人评价)\n",
       "247          再见我们的幼儿园 さよならぼくたちのようちえん  8.7    (94329人评价)\n",
       "248                  就是这样 This Is It  8.7    (77153人评价)\n",
       "249          被解救的姜戈 Django Unchained  8.5   (268718人评价)\n",
       "\n",
       "[250 rows x 3 columns]"
      ]
     },
     "execution_count": 79,
     "metadata": {},
     "output_type": "execute_result"
    }
   ],
   "source": [
    "movies = pd.read_csv(\"D:/Python/课堂/14次/14-pandas（2）/data/豆瓣TOP250.txt\",sep='|',header=None)\n",
    "movies"
   ]
  },
  {
   "cell_type": "code",
   "execution_count": 80,
   "id": "af41048c",
   "metadata": {},
   "outputs": [
    {
     "data": {
      "text/html": [
       "<div>\n",
       "<style scoped>\n",
       "    .dataframe tbody tr th:only-of-type {\n",
       "        vertical-align: middle;\n",
       "    }\n",
       "\n",
       "    .dataframe tbody tr th {\n",
       "        vertical-align: top;\n",
       "    }\n",
       "\n",
       "    .dataframe thead th {\n",
       "        text-align: right;\n",
       "    }\n",
       "</style>\n",
       "<table border=\"1\" class=\"dataframe\">\n",
       "  <thead>\n",
       "    <tr style=\"text-align: right;\">\n",
       "      <th></th>\n",
       "      <th>电影名</th>\n",
       "      <th>评分</th>\n",
       "      <th>评论数</th>\n",
       "    </tr>\n",
       "  </thead>\n",
       "  <tbody>\n",
       "    <tr>\n",
       "      <th>0</th>\n",
       "      <td>肖申克的救赎 The Shawshank Redemption</td>\n",
       "      <td>9.6</td>\n",
       "      <td>(1005725人评价)</td>\n",
       "    </tr>\n",
       "    <tr>\n",
       "      <th>1</th>\n",
       "      <td>这个杀手不太冷 Léon</td>\n",
       "      <td>9.4</td>\n",
       "      <td>(945608人评价)</td>\n",
       "    </tr>\n",
       "    <tr>\n",
       "      <th>2</th>\n",
       "      <td>阿甘正传 Forrest Gump</td>\n",
       "      <td>9.4</td>\n",
       "      <td>(804207人评价)</td>\n",
       "    </tr>\n",
       "    <tr>\n",
       "      <th>3</th>\n",
       "      <td>霸王别姬</td>\n",
       "      <td>9.5</td>\n",
       "      <td>(731356人评价)</td>\n",
       "    </tr>\n",
       "    <tr>\n",
       "      <th>4</th>\n",
       "      <td>美丽人生 La vita è bella</td>\n",
       "      <td>9.5</td>\n",
       "      <td>(469717人评价)</td>\n",
       "    </tr>\n",
       "    <tr>\n",
       "      <th>...</th>\n",
       "      <td>...</td>\n",
       "      <td>...</td>\n",
       "      <td>...</td>\n",
       "    </tr>\n",
       "    <tr>\n",
       "      <th>245</th>\n",
       "      <td>你看起来好像很好吃 おまえうまそうだな</td>\n",
       "      <td>8.8</td>\n",
       "      <td>(166414人评价)</td>\n",
       "    </tr>\n",
       "    <tr>\n",
       "      <th>246</th>\n",
       "      <td>那些年，我们一起追的女孩 那些年，我們一起追的女孩</td>\n",
       "      <td>8.1</td>\n",
       "      <td>(522910人评价)</td>\n",
       "    </tr>\n",
       "    <tr>\n",
       "      <th>247</th>\n",
       "      <td>再见我们的幼儿园 さよならぼくたちのようちえん</td>\n",
       "      <td>8.7</td>\n",
       "      <td>(94329人评价)</td>\n",
       "    </tr>\n",
       "    <tr>\n",
       "      <th>248</th>\n",
       "      <td>就是这样 This Is It</td>\n",
       "      <td>8.7</td>\n",
       "      <td>(77153人评价)</td>\n",
       "    </tr>\n",
       "    <tr>\n",
       "      <th>249</th>\n",
       "      <td>被解救的姜戈 Django Unchained</td>\n",
       "      <td>8.5</td>\n",
       "      <td>(268718人评价)</td>\n",
       "    </tr>\n",
       "  </tbody>\n",
       "</table>\n",
       "<p>250 rows × 3 columns</p>\n",
       "</div>"
      ],
      "text/plain": [
       "                                 电影名   评分           评论数\n",
       "0    肖申克的救赎 The Shawshank Redemption  9.6  (1005725人评价)\n",
       "1                       这个杀手不太冷 Léon  9.4   (945608人评价)\n",
       "2                  阿甘正传 Forrest Gump  9.4   (804207人评价)\n",
       "3                               霸王别姬  9.5   (731356人评价)\n",
       "4               美丽人生 La vita è bella  9.5   (469717人评价)\n",
       "..                               ...  ...           ...\n",
       "245              你看起来好像很好吃 おまえうまそうだな  8.8   (166414人评价)\n",
       "246        那些年，我们一起追的女孩 那些年，我們一起追的女孩  8.1   (522910人评价)\n",
       "247          再见我们的幼儿园 さよならぼくたちのようちえん  8.7    (94329人评价)\n",
       "248                  就是这样 This Is It  8.7    (77153人评价)\n",
       "249          被解救的姜戈 Django Unchained  8.5   (268718人评价)\n",
       "\n",
       "[250 rows x 3 columns]"
      ]
     },
     "execution_count": 80,
     "metadata": {},
     "output_type": "execute_result"
    }
   ],
   "source": [
    "movies = pd.read_csv(\"D:/Python/课堂/14次/14-pandas（2）/data/豆瓣TOP250.txt\",sep='|',header=None)\n",
    "movies.columns=['电影名','评分','评论数']\n",
    "movies"
   ]
  },
  {
   "cell_type": "code",
   "execution_count": 82,
   "id": "e6e7b861",
   "metadata": {},
   "outputs": [
    {
     "data": {
      "text/html": [
       "<div>\n",
       "<style scoped>\n",
       "    .dataframe tbody tr th:only-of-type {\n",
       "        vertical-align: middle;\n",
       "    }\n",
       "\n",
       "    .dataframe tbody tr th {\n",
       "        vertical-align: top;\n",
       "    }\n",
       "\n",
       "    .dataframe thead th {\n",
       "        text-align: right;\n",
       "    }\n",
       "</style>\n",
       "<table border=\"1\" class=\"dataframe\">\n",
       "  <thead>\n",
       "    <tr style=\"text-align: right;\">\n",
       "      <th></th>\n",
       "      <th>电影名</th>\n",
       "      <th>评分</th>\n",
       "      <th>评论数</th>\n",
       "    </tr>\n",
       "  </thead>\n",
       "  <tbody>\n",
       "    <tr>\n",
       "      <th>0</th>\n",
       "      <td>肖申克的救赎 The Shawshank Redemption</td>\n",
       "      <td>9.6</td>\n",
       "      <td>(1005725人评价)</td>\n",
       "    </tr>\n",
       "    <tr>\n",
       "      <th>1</th>\n",
       "      <td>这个杀手不太冷 Léon</td>\n",
       "      <td>9.4</td>\n",
       "      <td>(945608人评价)</td>\n",
       "    </tr>\n",
       "    <tr>\n",
       "      <th>2</th>\n",
       "      <td>阿甘正传 Forrest Gump</td>\n",
       "      <td>9.4</td>\n",
       "      <td>(804207人评价)</td>\n",
       "    </tr>\n",
       "    <tr>\n",
       "      <th>3</th>\n",
       "      <td>霸王别姬</td>\n",
       "      <td>9.5</td>\n",
       "      <td>(731356人评价)</td>\n",
       "    </tr>\n",
       "    <tr>\n",
       "      <th>4</th>\n",
       "      <td>美丽人生 La vita è bella</td>\n",
       "      <td>9.5</td>\n",
       "      <td>(469717人评价)</td>\n",
       "    </tr>\n",
       "    <tr>\n",
       "      <th>...</th>\n",
       "      <td>...</td>\n",
       "      <td>...</td>\n",
       "      <td>...</td>\n",
       "    </tr>\n",
       "    <tr>\n",
       "      <th>245</th>\n",
       "      <td>你看起来好像很好吃 おまえうまそうだな</td>\n",
       "      <td>8.8</td>\n",
       "      <td>(166414人评价)</td>\n",
       "    </tr>\n",
       "    <tr>\n",
       "      <th>246</th>\n",
       "      <td>那些年，我们一起追的女孩 那些年，我們一起追的女孩</td>\n",
       "      <td>8.1</td>\n",
       "      <td>(522910人评价)</td>\n",
       "    </tr>\n",
       "    <tr>\n",
       "      <th>247</th>\n",
       "      <td>再见我们的幼儿园 さよならぼくたちのようちえん</td>\n",
       "      <td>8.7</td>\n",
       "      <td>(94329人评价)</td>\n",
       "    </tr>\n",
       "    <tr>\n",
       "      <th>248</th>\n",
       "      <td>就是这样 This Is It</td>\n",
       "      <td>8.7</td>\n",
       "      <td>(77153人评价)</td>\n",
       "    </tr>\n",
       "    <tr>\n",
       "      <th>249</th>\n",
       "      <td>被解救的姜戈 Django Unchained</td>\n",
       "      <td>8.5</td>\n",
       "      <td>(268718人评价)</td>\n",
       "    </tr>\n",
       "  </tbody>\n",
       "</table>\n",
       "<p>250 rows × 3 columns</p>\n",
       "</div>"
      ],
      "text/plain": [
       "                                 电影名   评分           评论数\n",
       "0    肖申克的救赎 The Shawshank Redemption  9.6  (1005725人评价)\n",
       "1                       这个杀手不太冷 Léon  9.4   (945608人评价)\n",
       "2                  阿甘正传 Forrest Gump  9.4   (804207人评价)\n",
       "3                               霸王别姬  9.5   (731356人评价)\n",
       "4               美丽人生 La vita è bella  9.5   (469717人评价)\n",
       "..                               ...  ...           ...\n",
       "245              你看起来好像很好吃 おまえうまそうだな  8.8   (166414人评价)\n",
       "246        那些年，我们一起追的女孩 那些年，我們一起追的女孩  8.1   (522910人评价)\n",
       "247          再见我们的幼儿园 さよならぼくたちのようちえん  8.7    (94329人评价)\n",
       "248                  就是这样 This Is It  8.7    (77153人评价)\n",
       "249          被解救的姜戈 Django Unchained  8.5   (268718人评价)\n",
       "\n",
       "[250 rows x 3 columns]"
      ]
     },
     "execution_count": 82,
     "metadata": {},
     "output_type": "execute_result"
    }
   ],
   "source": [
    "movies = pd.read_csv(\"D:/Python/课堂/14次/14-pandas（2）/data/豆瓣TOP250.txt\",sep='|',header=None,names=['电影名','评分','评论数'])\n",
    "movies"
   ]
  },
  {
   "cell_type": "code",
   "execution_count": 83,
   "id": "2bd7bf05",
   "metadata": {},
   "outputs": [],
   "source": [
    "movies.to_csv('250.txt')"
   ]
  },
  {
   "cell_type": "code",
   "execution_count": 84,
   "id": "93602b4e",
   "metadata": {},
   "outputs": [],
   "source": [
    "movies.to_csv('250.txt',header=None,index=False)"
   ]
  },
  {
   "cell_type": "code",
   "execution_count": 85,
   "id": "6e0a0503",
   "metadata": {},
   "outputs": [],
   "source": [
    "movies.to_csv('250.csv',index=False)"
   ]
  },
  {
   "cell_type": "code",
   "execution_count": 87,
   "id": "4d8e7314",
   "metadata": {},
   "outputs": [
    {
     "data": {
      "text/html": [
       "<div>\n",
       "<style scoped>\n",
       "    .dataframe tbody tr th:only-of-type {\n",
       "        vertical-align: middle;\n",
       "    }\n",
       "\n",
       "    .dataframe tbody tr th {\n",
       "        vertical-align: top;\n",
       "    }\n",
       "\n",
       "    .dataframe thead th {\n",
       "        text-align: right;\n",
       "    }\n",
       "</style>\n",
       "<table border=\"1\" class=\"dataframe\">\n",
       "  <thead>\n",
       "    <tr style=\"text-align: right;\">\n",
       "      <th></th>\n",
       "      <th>三傻大闹宝莱坞 3 Idiots</th>\n",
       "      <th>9.2</th>\n",
       "      <th>(758367人评价)</th>\n",
       "    </tr>\n",
       "  </thead>\n",
       "  <tbody>\n",
       "    <tr>\n",
       "      <th>0</th>\n",
       "      <td>泰坦尼克号 Titanic</td>\n",
       "      <td>9.2</td>\n",
       "      <td>(743837人评价)</td>\n",
       "    </tr>\n",
       "    <tr>\n",
       "      <th>1</th>\n",
       "      <td>盗梦空间 Inception</td>\n",
       "      <td>9.3</td>\n",
       "      <td>(844576人评价)</td>\n",
       "    </tr>\n",
       "    <tr>\n",
       "      <th>2</th>\n",
       "      <td>放牛班的春天 Les choristes</td>\n",
       "      <td>9.2</td>\n",
       "      <td>(506961人评价)</td>\n",
       "    </tr>\n",
       "    <tr>\n",
       "      <th>3</th>\n",
       "      <td>龙猫 となりのトトロ</td>\n",
       "      <td>9.1</td>\n",
       "      <td>(467815人评价)</td>\n",
       "    </tr>\n",
       "    <tr>\n",
       "      <th>4</th>\n",
       "      <td>忠犬八公的故事 Hachi: A Dog's Tale</td>\n",
       "      <td>9.2</td>\n",
       "      <td>(522090人评价)</td>\n",
       "    </tr>\n",
       "    <tr>\n",
       "      <th>5</th>\n",
       "      <td>教父 The Godfather</td>\n",
       "      <td>9.2</td>\n",
       "      <td>(381041人评价)</td>\n",
       "    </tr>\n",
       "    <tr>\n",
       "      <th>6</th>\n",
       "      <td>大话西游之大圣娶亲 西遊記大結局之仙履奇緣</td>\n",
       "      <td>9.2</td>\n",
       "      <td>(554001人评价)</td>\n",
       "    </tr>\n",
       "    <tr>\n",
       "      <th>7</th>\n",
       "      <td>乱世佳人 Gone with the Wind</td>\n",
       "      <td>9.2</td>\n",
       "      <td>(296621人评价)</td>\n",
       "    </tr>\n",
       "    <tr>\n",
       "      <th>8</th>\n",
       "      <td>天堂电影院 Nuovo Cinema Paradiso</td>\n",
       "      <td>9.1</td>\n",
       "      <td>(335287人评价)</td>\n",
       "    </tr>\n",
       "    <tr>\n",
       "      <th>9</th>\n",
       "      <td>当幸福来敲门 The Pursuit of Happyness</td>\n",
       "      <td>8.9</td>\n",
       "      <td>(599730人评价)</td>\n",
       "    </tr>\n",
       "  </tbody>\n",
       "</table>\n",
       "</div>"
      ],
      "text/plain": [
       "                  三傻大闹宝莱坞 3 Idiots  9.2  (758367人评价)\n",
       "0                    泰坦尼克号 Titanic  9.2  (743837人评价)\n",
       "1                   盗梦空间 Inception  9.3  (844576人评价)\n",
       "2             放牛班的春天 Les choristes  9.2  (506961人评价)\n",
       "3                       龙猫 となりのトトロ  9.1  (467815人评价)\n",
       "4      忠犬八公的故事 Hachi: A Dog's Tale  9.2  (522090人评价)\n",
       "5                 教父 The Godfather  9.2  (381041人评价)\n",
       "6            大话西游之大圣娶亲 西遊記大結局之仙履奇緣  9.2  (554001人评价)\n",
       "7          乱世佳人 Gone with the Wind  9.2  (296621人评价)\n",
       "8      天堂电影院 Nuovo Cinema Paradiso  9.1  (335287人评价)\n",
       "9  当幸福来敲门 The Pursuit of Happyness  8.9  (599730人评价)"
      ]
     },
     "execution_count": 87,
     "metadata": {},
     "output_type": "execute_result"
    }
   ],
   "source": [
    "data = pd.read_csv('250.csv',nrows=10,na_values=0,skiprows=10)\n",
    "data"
   ]
  },
  {
   "cell_type": "code",
   "execution_count": 89,
   "id": "ff023753",
   "metadata": {},
   "outputs": [
    {
     "data": {
      "text/html": [
       "<div>\n",
       "<style scoped>\n",
       "    .dataframe tbody tr th:only-of-type {\n",
       "        vertical-align: middle;\n",
       "    }\n",
       "\n",
       "    .dataframe tbody tr th {\n",
       "        vertical-align: top;\n",
       "    }\n",
       "\n",
       "    .dataframe thead th {\n",
       "        text-align: right;\n",
       "    }\n",
       "</style>\n",
       "<table border=\"1\" class=\"dataframe\">\n",
       "  <thead>\n",
       "    <tr style=\"text-align: right;\">\n",
       "      <th></th>\n",
       "      <th>电影名</th>\n",
       "      <th>评分</th>\n",
       "      <th>评论数</th>\n",
       "    </tr>\n",
       "  </thead>\n",
       "  <tbody>\n",
       "    <tr>\n",
       "      <th>0</th>\n",
       "      <td>肖申克的救赎 The Shawshank Redemption</td>\n",
       "      <td>9.6</td>\n",
       "      <td>(1005725人评价)</td>\n",
       "    </tr>\n",
       "    <tr>\n",
       "      <th>1</th>\n",
       "      <td>这个杀手不太冷 Léon</td>\n",
       "      <td>9.4</td>\n",
       "      <td>(945608人评价)</td>\n",
       "    </tr>\n",
       "    <tr>\n",
       "      <th>2</th>\n",
       "      <td>阿甘正传 Forrest Gump</td>\n",
       "      <td>9.4</td>\n",
       "      <td>(804207人评价)</td>\n",
       "    </tr>\n",
       "    <tr>\n",
       "      <th>3</th>\n",
       "      <td>霸王别姬</td>\n",
       "      <td>9.5</td>\n",
       "      <td>(731356人评价)</td>\n",
       "    </tr>\n",
       "    <tr>\n",
       "      <th>4</th>\n",
       "      <td>美丽人生 La vita è bella</td>\n",
       "      <td>9.5</td>\n",
       "      <td>(469717人评价)</td>\n",
       "    </tr>\n",
       "    <tr>\n",
       "      <th>...</th>\n",
       "      <td>...</td>\n",
       "      <td>...</td>\n",
       "      <td>...</td>\n",
       "    </tr>\n",
       "    <tr>\n",
       "      <th>245</th>\n",
       "      <td>你看起来好像很好吃 おまえうまそうだな</td>\n",
       "      <td>8.8</td>\n",
       "      <td>(166414人评价)</td>\n",
       "    </tr>\n",
       "    <tr>\n",
       "      <th>246</th>\n",
       "      <td>那些年，我们一起追的女孩 那些年，我們一起追的女孩</td>\n",
       "      <td>8.1</td>\n",
       "      <td>(522910人评价)</td>\n",
       "    </tr>\n",
       "    <tr>\n",
       "      <th>247</th>\n",
       "      <td>再见我们的幼儿园 さよならぼくたちのようちえん</td>\n",
       "      <td>8.7</td>\n",
       "      <td>(94329人评价)</td>\n",
       "    </tr>\n",
       "    <tr>\n",
       "      <th>248</th>\n",
       "      <td>就是这样 This Is It</td>\n",
       "      <td>8.7</td>\n",
       "      <td>(77153人评价)</td>\n",
       "    </tr>\n",
       "    <tr>\n",
       "      <th>249</th>\n",
       "      <td>被解救的姜戈 Django Unchained</td>\n",
       "      <td>8.5</td>\n",
       "      <td>(268718人评价)</td>\n",
       "    </tr>\n",
       "  </tbody>\n",
       "</table>\n",
       "<p>250 rows × 3 columns</p>\n",
       "</div>"
      ],
      "text/plain": [
       "                                 电影名   评分           评论数\n",
       "0    肖申克的救赎 The Shawshank Redemption  9.6  (1005725人评价)\n",
       "1                       这个杀手不太冷 Léon  9.4   (945608人评价)\n",
       "2                  阿甘正传 Forrest Gump  9.4   (804207人评价)\n",
       "3                               霸王别姬  9.5   (731356人评价)\n",
       "4               美丽人生 La vita è bella  9.5   (469717人评价)\n",
       "..                               ...  ...           ...\n",
       "245              你看起来好像很好吃 おまえうまそうだな  8.8   (166414人评价)\n",
       "246        那些年，我们一起追的女孩 那些年，我們一起追的女孩  8.1   (522910人评价)\n",
       "247          再见我们的幼儿园 さよならぼくたちのようちえん  8.7    (94329人评价)\n",
       "248                  就是这样 This Is It  8.7    (77153人评价)\n",
       "249          被解救的姜戈 Django Unchained  8.5   (268718人评价)\n",
       "\n",
       "[250 rows x 3 columns]"
      ]
     },
     "execution_count": 89,
     "metadata": {},
     "output_type": "execute_result"
    }
   ],
   "source": [
    "import pandas as pd\n",
    "\n",
    "movies = pd.read_csv(\"250.csv\")\n",
    "\n",
    "movies"
   ]
  },
  {
   "cell_type": "code",
   "execution_count": null,
   "id": "f2c6d1fb",
   "metadata": {},
   "outputs": [],
   "source": []
  }
 ],
 "metadata": {
  "kernelspec": {
   "display_name": "Python 3 (ipykernel)",
   "language": "python",
   "name": "python3"
  },
  "language_info": {
   "codemirror_mode": {
    "name": "ipython",
    "version": 3
   },
   "file_extension": ".py",
   "mimetype": "text/x-python",
   "name": "python",
   "nbconvert_exporter": "python",
   "pygments_lexer": "ipython3",
   "version": "3.11.4"
  }
 },
 "nbformat": 4,
 "nbformat_minor": 5
}
