{
 "cells": [
  {
   "cell_type": "markdown",
   "metadata": {},
   "source": [
    "# 动态网页的数据爬取（使用api）"
   ]
  },
  {
   "cell_type": "markdown",
   "metadata": {},
   "source": [
    "## 本节课学习目的:\n",
    "\n",
    "学会找api接口\n",
    "\n",
    "学会解析json数据\n",
    "\n",
    "复习函数知识，使用函数编写代码"
   ]
  },
  {
   "cell_type": "markdown",
   "metadata": {},
   "source": [
    "## 什么是动态网页（动态网页的判断标准）"
   ]
  },
  {
   "cell_type": "markdown",
   "metadata": {},
   "source": [
    "https://movie.douban.com/typerank?type_name=%E8%BF%90%E5%8A%A8&type=18&interval_id=100:90&action="
   ]
  },
  {
   "cell_type": "markdown",
   "metadata": {},
   "source": [
    "许多现代网站使用JavaScript来动态加载和渲染内容，这意味着当页面首次加载时，一些数据可能并未直接嵌入HTML中，而是通过后续的Ajax请求获取并添加到页面上。对于这种情况，传统的爬虫方法可能无法直接获取这些数据。\n",
    "\n",
    "简单来说，就是网页新的内容出现，但是网址却没变。"
   ]
  },
  {
   "cell_type": "markdown",
   "metadata": {},
   "source": [
    "Ajax（Asynchronous JavaScript and XML）是一种创建交互式网页应用的网页开发技术。它的主要特点是异步交互和浏览器页面局部刷新。在Ajax中，当客户端（通常是浏览器）需要与服务器进行交互时，可以发送一个请求到服务器，而无需等待服务器的响应就可以继续执行其他操作。一旦服务器响应完成，Ajax可以只更新页面的某一部分，而不是整个页面，这为用户提供了更好的体验。"
   ]
  },
  {
   "cell_type": "markdown",
   "metadata": {},
   "source": [
    "处理Ajax动态加载数据的方法：\n",
    "分析Ajax请求：使用浏览器的开发者工具（如Chrome的Network标签页）来观察页面加载过程中发出的Ajax请求，并找到包含所需数据的请求api。\n",
    "\n",
    "模拟Ajax请求：在爬虫中直接使用requests库来模拟这些Ajax请求，获取数据。\n",
    "\n",
    "使用Selenium或Puppeteer：这些工具可以模拟一个真实的浏览器环境，执行JavaScript代码，从而获取动态加载的内容。"
   ]
  },
  {
   "cell_type": "markdown",
   "metadata": {},
   "source": [
    "## 寻找api接口的方法"
   ]
  },
  {
   "cell_type": "markdown",
   "metadata": {},
   "source": [
    "打开”检查“，切换到”网络“，一般接口藏在XHR或者js里面，大多在XHR里面。刷新页面，下拉一两次页面。查看数据变化情况。使用预览，查看新增的数据在不在预览中出现。"
   ]
  },
  {
   "cell_type": "markdown",
   "metadata": {},
   "source": [
    "## 以豆瓣电影排行榜为例，编写代码\n",
    "\n",
    "### 总体步骤：找到接口，构造urls，解析json数据。写入文件。"
   ]
  },
  {
   "cell_type": "code",
   "execution_count": null,
   "metadata": {},
   "outputs": [],
   "source": [
    "# 找到接口，测试是否需要登录才能拿到数据\n",
    "# https://movie.douban.com/j/chart/top_list?type=18&interval_id=100%3A90&action=&start=20&limit=20\n",
    "#上述网址直接粘贴到浏览器，直接能看到数据，则说明不需要登录。因此，不需要先获取cookie。\n",
    "\n",
    "#然后分析接口规律，发现只有在start的值那里有变化，每翻一页数值+20.因此可以构造接口网址库，然后再做个循环即可。\n",
    "# https://movie.douban.com/j/chart/top_list?type=18&interval_id=100%3A90&action=&start=0&limit=20\n",
    "# https://movie.douban.com/j/chart/top_list?type=18&interval_id=100%3A90&action=&start=20&limit=20\n"
   ]
  },
  {
   "cell_type": "code",
   "execution_count": 2,
   "metadata": {},
   "outputs": [],
   "source": [
    "# 生成豆瓣电影网址列表。\n",
    "\n",
    "def generate_douban_urls(start, end, step):\n",
    "    \"\"\"\n",
    "    :param start: 起始值\n",
    "    :param end: 终止值\n",
    "    :param step: 每次递增的步长\n",
    "    :return: 生成的网址列表\n",
    "    \"\"\"\n",
    "    base_url = \"https://movie.douban.com/j/chart/top_list?type=18&interval_id=100%3A90&action=&start={}&limit=20\"\n",
    "    urls = [base_url.format(i) for i in range(start, end, step)]\n",
    "    return urls\n",
    "\n"
   ]
  },
  {
   "cell_type": "code",
   "execution_count": 5,
   "metadata": {},
   "outputs": [
    {
     "name": "stdout",
     "output_type": "stream",
     "text": [
      "https://movie.douban.com/j/chart/top_list?type=18&interval_id=100%3A90&action=&start=0&limit=20\n",
      "https://movie.douban.com/j/chart/top_list?type=18&interval_id=100%3A90&action=&start=20&limit=20\n",
      "https://movie.douban.com/j/chart/top_list?type=18&interval_id=100%3A90&action=&start=40&limit=20\n"
     ]
    }
   ],
   "source": [
    "# 测试一下生成的网址列表\n",
    "urls = generate_douban_urls(0, 60, 20)\n",
    "\n",
    "# 打印前几个网址查看是否正确\n",
    "for url in urls[:5]:\n",
    "    print(url)"
   ]
  },
  {
   "cell_type": "code",
   "execution_count": 6,
   "metadata": {},
   "outputs": [],
   "source": [
    "#从给定的URL列表中爬取数据。\n",
    "import requests\n",
    "import json\n",
    "\n",
    "def fetch_data_from_urls(urls):\n",
    "    headers = {'User-Agent': 'Mozilla/5.0 (Windows NT 10.0; Win64; x64) AppleWebKit/537.36 (KHTML, like Gecko) Chrome/58.0.3029.110 Safari/537.3'}\n",
    "    \n",
    "    for url in urls:\n",
    "        response = requests.get(url, headers=headers)\n",
    "        if response.status_code == 200:\n",
    "            movies_data = response.json()\n",
    "            print(\"示例电影数据:\", movies_data[0])\n",
    "        else:\n",
    "            print(f\"请求失败，状态码：{response.status_code}\")\n"
   ]
  },
  {
   "cell_type": "code",
   "execution_count": 7,
   "metadata": {},
   "outputs": [
    {
     "name": "stdout",
     "output_type": "stream",
     "text": [
      "示例电影数据: {'rating': ['9.0', '45'], 'rank': 1, 'cover_url': 'https://img1.doubanio.com/view/photo/s_ratio_poster/public/p2401676338.jpg', 'is_playable': True, 'id': '26387939', 'types': ['剧情', '传记', '运动', '家庭'], 'regions': ['印度'], 'title': '摔跤吧！爸爸', 'url': 'https://movie.douban.com/subject/26387939/', 'release_date': '2017-05-05', 'actor_count': 11, 'vote_count': 1616259, 'score': '9.0', 'actors': ['阿米尔·汗', '法缇玛·萨那·纱卡', '桑亚·玛荷塔', '阿帕尔夏克提·库拉那', '沙克希·坦沃', '塞伊拉·沃西', '苏哈妮·巴特纳格尔', '里特维克·萨霍里', '吉里什·库卡尼', '什沙尔·夏尔马', '维万·巴特那'], 'is_watched': False}\n",
      "示例电影数据: {'rating': ['8.3', '45'], 'rank': 21, 'cover_url': 'https://img2.doubanio.com/view/photo/s_ratio_poster/public/p1393286611.jpg', 'is_playable': True, 'id': '3023164', 'types': ['剧情', '传记', '运动'], 'regions': ['美国'], 'title': '点球成金', 'url': 'https://movie.douban.com/subject/3023164/', 'release_date': '2011-09-09', 'actor_count': 26, 'vote_count': 107668, 'score': '8.3', 'actors': ['布拉德·皮特', '乔纳·希尔', '菲利普·塞默·霍夫曼', '罗宾·怀特', '克里斯·帕拉特', '鲍勃·科斯塔斯', '詹姆斯·肖安科林', '塔卡尤·费舍尔', '丽萨·格雷罗', '布兰登·乔纳森·王', '基思·米德尔布鲁克', '萨凡纳·兰瑟姆', '亚历山大·卡内拉科斯', '格雷格·曼斯', '埃迪·弗里森', '艾利斯·霍华德', '格伦·莫肖尔', '尼克·瑟西', '凯瑟琳·莫里斯', '凯瑞斯·多西', '阿德里安·贝拉尼', '杰克·麦吉', '斯派克·琼斯', '里德·戴蒙德', '坦米·布兰查德', '维托·鲁吉尼斯'], 'is_watched': False}\n",
      "示例电影数据: {'rating': ['8.3', '45'], 'rank': 41, 'cover_url': 'https://img1.doubanio.com/view/photo/s_ratio_poster/public/p632331750.jpg', 'is_playable': False, 'id': '1316698', 'types': ['剧情', '传记', '运动'], 'regions': ['韩国'], 'title': '马拉松', 'url': 'https://movie.douban.com/subject/1316698/', 'release_date': '2005-01-27', 'actor_count': 10, 'vote_count': 15282, 'score': '8.3', 'actors': ['曹承佑', '李基英', '金美淑', '安内相', '李星民', '白成铉', '李政成', '金俊元', '朴美淑', '朴素恩'], 'is_watched': False}\n"
     ]
    }
   ],
   "source": [
    "#测试示例数据\n",
    "\n",
    "fetch_data_from_urls(urls)"
   ]
  },
  {
   "cell_type": "markdown",
   "metadata": {},
   "source": [
    "# json格式介绍\n",
    "JSON（JavaScript Object Notation）是一种轻量级的数据交换格式，易于人阅读和编写，同时也易于机器解析和生成。JSON的设计意图是作为一种简单的数据格式来交换数据。其格式是完全独立于语言的文本格式，但是它使用了类似于C语言家族（包括C, C++, C#, Java, JavaScript, Perl, Python等）的习惯，这些特性使JSON成为理想的数据交换语言。\n",
    "\n",
    "JSON结构由以下两种结构类型组成：\n",
    "\n",
    "对象（Object）：对象在JSON中是由键值对（key/value pairs）构成的无序集合。它被包裹在花括号{}中，如{\"name\": \"John\", \"age\": 30}。键名（key）是字符串，每个键值对之间用逗号,分隔。\n",
    "数组（Array）：数组是值（value）的有序集合。数组在JSON中被包裹在方括号[]中，如[\"Apple\", \"Banana\", \"Cherry\"]。数组中的值可以是数字、字符串、布尔值、对象或其他数组等。\n",
    "\n",
    "JSON的基本规则包括：\n",
    "\n",
    "数据在名称/值对中：字段名称（键）被引号（通常是双引号）包围，后面跟着一个冒号，然后是值。\n",
    "数据由逗号分隔：对象中的多个名称/值对由逗号分隔，数组中的多个值也由逗号分隔。\n",
    "大括号{}保存对象，方括号[]保存数组。\n",
    "\n",
    "JSON支持的数据类型包括：数值（整数或浮点数）、字符串（在双引号中）、布尔值（true或false）、数组（在方括号中）、对象（在大括号中）和null。\n",
    "\n",
    "JSON的使用场景\n",
    "\n",
    "JSON广泛用于Web应用程序之间的数据交换。由于它的轻量级和易于解析的特性，JSON非常适合从服务器发送数据到客户端，客户端通过JavaScript（或其他语言）进行解析并显示数据。此外，许多编程语言都提供了将本地数据结构转换为JSON格式字符串的方法，以及将JSON格式字符串解析为本地数据结构的方法，使得JSON成为跨平台和跨语言交换数据的理想格式。"
   ]
  },
  {
   "cell_type": "markdown",
   "metadata": {},
   "source": [
    "在Python中，json模块提供了一套简单的方法来编码和解码JSON数据。它允许将Python对象转换为JSON格式的字符串，以及将JSON格式的字符串解析回Python对象。这个过程通常被称为序列化（将对象转换为字符串）和反序列化（将字符串转换为对象）。"
   ]
  },
  {
   "cell_type": "markdown",
   "metadata": {},
   "source": [
    "### 导入JSON模块"
   ]
  },
  {
   "cell_type": "code",
   "execution_count": null,
   "metadata": {},
   "outputs": [],
   "source": [
    "import json"
   ]
  },
  {
   "cell_type": "markdown",
   "metadata": {},
   "source": [
    "### JSON编码（序列化）\n",
    "将Python对象转换成JSON字符串的过程称为编码（序列化）。主要使用json.dumps()和json.dump()方法。"
   ]
  },
  {
   "cell_type": "code",
   "execution_count": null,
   "metadata": {},
   "outputs": [],
   "source": [
    "#json.dumps(obj): 将Python对象obj转换为JSON格式的字符串。\n",
    "\n",
    "import json\n",
    "\n",
    "data = {\n",
    "    \"name\": \"John Doe\",\n",
    "    \"age\": 30,\n",
    "    \"is_employee\": True\n",
    "}\n",
    "\n",
    "json_string = json.dumps(data)\n",
    "print(json_string)\n"
   ]
  },
  {
   "cell_type": "code",
   "execution_count": null,
   "metadata": {},
   "outputs": [],
   "source": [
    "# json.dump(obj, file): 将Python对象obj转换为JSON格式并写入到file对象中。\n",
    "\n",
    "import json\n",
    "\n",
    "data = {\n",
    "    \"name\": \"John Doe\",\n",
    "    \"age\": 30,\n",
    "    \"is_employee\": True\n",
    "}\n",
    "\n",
    "with open('data.json', 'w') as json_file:\n",
    "    json.dump(data, json_file)\n"
   ]
  },
  {
   "cell_type": "markdown",
   "metadata": {},
   "source": [
    "### JSON解码（反序列化）\n",
    "将JSON格式的字符串解析回Python对象的过程称为解码（反序列化）。主要使用json.loads()和json.load()方法。"
   ]
  },
  {
   "cell_type": "code",
   "execution_count": null,
   "metadata": {},
   "outputs": [],
   "source": [
    "# json.loads(s): 将JSON格式的字符串s解析为Python对象。\n",
    "\n",
    "import json\n",
    "\n",
    "json_string = '{\"name\": \"John Doe\", \"age\": 30, \"is_employee\": true}'\n",
    "\n",
    "data = json.loads(json_string)\n",
    "print(data)\n"
   ]
  },
  {
   "cell_type": "code",
   "execution_count": null,
   "metadata": {},
   "outputs": [],
   "source": [
    "# json.load(file): 从file对象中读取JSON格式的字符串并解析为Python对象。\n",
    "\n",
    "import json\n",
    "\n",
    "with open('data.json', 'r') as json_file:\n",
    "    data = json.load(json_file)\n",
    "    print(data)\n"
   ]
  },
  {
   "cell_type": "markdown",
   "metadata": {},
   "source": [
    "### 注意事项\n",
    "JSON中的true, false, 和 null在Python中分别对应为True, False, 和 None。\n",
    "\n",
    "JSON编码支持的Python数据类型包括dict, list, tuple, str, int, float, True, False, 和 None。尝试将其他类型的对象（如自定义类）序列化为JSON时，需要提供转换方法或使用自定义编码器。\n",
    "\n",
    "对于非标准的数据类型，你可能需要自定义序列化和反序列化的方法，以确保正确地处理这些数据。"
   ]
  },
  {
   "cell_type": "code",
   "execution_count": 8,
   "metadata": {},
   "outputs": [],
   "source": [
    "## 解析获取到的json数据\n",
    "def parse_movie_data(movie_data):\n",
    "    \"\"\"\n",
    "    从电影数据中解析title、url和score。\n",
    "    \n",
    "    :param movie_data: 单部电影的数据\n",
    "    :return: 解析后的数据\n",
    "    \"\"\"\n",
    "    title = movie_data.get('title')\n",
    "    #title = movie_data['title']  # 如果键'title'不存在，这里会引发KeyError。如果是嵌套字典，那么可以使用这个方法，嵌套查询到深层的值。\n",
    "    url = movie_data.get('url')\n",
    "    score = movie_data.get('score')\n",
    "    return title, url, score"
   ]
  },
  {
   "cell_type": "code",
   "execution_count": 11,
   "metadata": {},
   "outputs": [],
   "source": [
    "#更新代码，将parse_movie_data函数并入到fetch_data_from_urls函数中\n",
    "import requests\n",
    "import json\n",
    "\n",
    "def fetch_data_from_urls(urls):\n",
    "    headers = {'User-Agent': 'Mozilla/5.0 (Windows NT 10.0; Win64; x64) AppleWebKit/537.36 (KHTML, like Gecko) Chrome/58.0.3029.110 Safari/537.3'}\n",
    "    \n",
    "    for url in urls:\n",
    "        response = requests.get(url, headers=headers)\n",
    "        if response.status_code == 200:\n",
    "            movies_data = response.json()\n",
    "            for movie in movies_data:\n",
    "                # 使用parse_movie_data函数解析数据\n",
    "                title, url, score = parse_movie_data(movie)\n",
    "                print(f\"{title}, {score}, {url}\")\n",
    "        else:\n",
    "            print(f\"请求失败，状态码：{response.status_code}\")"
   ]
  },
  {
   "cell_type": "code",
   "execution_count": 12,
   "metadata": {},
   "outputs": [
    {
     "name": "stdout",
     "output_type": "stream",
     "text": [
      "摔跤吧！爸爸, 9.0, https://movie.douban.com/subject/26387939/\n",
      "灌篮高手, 8.9, https://movie.douban.com/subject/35315950/\n",
      "勇士, 8.9, https://movie.douban.com/subject/3217169/\n",
      "百万美元宝贝, 8.8, https://movie.douban.com/subject/1309016/\n",
      "弱点, 8.7, https://movie.douban.com/subject/3552028/\n",
      "洛奇, 8.8, https://movie.douban.com/subject/1295742/\n",
      "追梦赤子心, 8.8, https://movie.douban.com/subject/1294753/\n",
      "极速风流, 8.7, https://movie.douban.com/subject/6803494/\n",
      "铁拳男人, 8.8, https://movie.douban.com/subject/1418519/\n",
      "坏孩子的天空, 8.6, https://movie.douban.com/subject/1299062/\n",
      "极速车王, 8.5, https://movie.douban.com/subject/6538866/\n",
      "卡特教练, 8.6, https://movie.douban.com/subject/1309017/\n",
      "光荣之路, 8.6, https://movie.douban.com/subject/1457219/\n",
      "世上最快的印第安摩托, 8.9, https://movie.douban.com/subject/1449711/\n",
      "光辉岁月, 8.6, https://movie.douban.com/subject/1292943/\n",
      "我在雨中等你, 8.4, https://movie.douban.com/subject/3882427/\n",
      "铁甲钢拳, 8.3, https://movie.douban.com/subject/1972729/\n",
      "百元之恋, 8.3, https://movie.douban.com/subject/25761178/\n",
      "愤怒的公牛, 8.4, https://movie.douban.com/subject/1293155/\n",
      "洛奇6：永远的拳王, 8.7, https://movie.douban.com/subject/1578475/\n",
      "点球成金, 8.3, https://movie.douban.com/subject/3023164/\n",
      "奔腾年代, 8.4, https://movie.douban.com/subject/1307535/\n",
      "五个扑水的少年, 8.3, https://movie.douban.com/subject/1301359/\n",
      "摔角王, 8.3, https://movie.douban.com/subject/3007826/\n",
      "麦克法兰, 8.4, https://movie.douban.com/subject/11520649/\n",
      "少林足球, 8.1, https://movie.douban.com/subject/1297747/\n",
      "绝杀慕尼黑, 8.1, https://movie.douban.com/subject/27024959/\n",
      "成事在人, 8.2, https://movie.douban.com/subject/2136824/\n",
      "边缘日记, 8.2, https://movie.douban.com/subject/1292585/\n",
      "洛奇2, 8.4, https://movie.douban.com/subject/1295281/\n",
      "飞鹰艾迪, 8.1, https://movie.douban.com/subject/3072064/\n",
      "少年菀得, 8.2, https://movie.douban.com/subject/5985888/\n",
      "希特勒的男孩, 8.2, https://movie.douban.com/subject/1416942/\n",
      "北壁, 8.5, https://movie.douban.com/subject/3271093/\n",
      "飓风, 8.5, https://movie.douban.com/subject/1294497/\n",
      "激战, 7.9, https://movie.douban.com/subject/20388223/\n",
      "灵魂冲浪人, 8.2, https://movie.douban.com/subject/4301274/\n",
      "洛奇3, 8.3, https://movie.douban.com/subject/1303695/\n",
      "斗士, 8.0, https://movie.douban.com/subject/2056093/\n",
      "我，花样女王, 7.9, https://movie.douban.com/subject/26756049/\n",
      "马拉松, 8.3, https://movie.douban.com/subject/1316698/\n",
      "42号传奇, 8.1, https://movie.douban.com/subject/2133379/\n",
      "和平战士, 8.3, https://movie.douban.com/subject/1772560/\n",
      "飞驰人生2, 7.7, https://movie.douban.com/subject/36369452/\n",
      "惠子，凝视, 7.9, https://movie.douban.com/subject/35727254/\n",
      "奈德, 8.4, https://movie.douban.com/subject/35385225/\n",
      "大李小李和老李, 8.1, https://movie.douban.com/subject/1424631/\n",
      "曼联重生, 8.5, https://movie.douban.com/subject/5383158/\n",
      "天劫余生, 8.1, https://movie.douban.com/subject/1299904/\n",
      "选秀日, 8.1, https://movie.douban.com/subject/20257765/\n",
      "传奇的诞生, 7.7, https://movie.douban.com/subject/3073268/\n",
      "冠军, 7.9, https://movie.douban.com/subject/5250349/\n"
     ]
    }
   ],
   "source": [
    "#验证上述代码\n",
    "fetch_data_from_urls(urls)"
   ]
  },
  {
   "cell_type": "code",
   "execution_count": null,
   "metadata": {},
   "outputs": [],
   "source": [
    "#将收集到的电影信息保存到csv文件中\n",
    "import requests\n",
    "import json\n",
    "import csv\n",
    "\n",
    "#写入csv函数\n",
    "def save_data_to_csv(data, filename='movies_data.csv'):\n",
    "    with open(filename, mode='w', newline='', encoding='utf-8') as file:\n",
    "        writer = csv.writer(file)\n",
    "        writer.writerow(['Title', 'Score', 'URL'])\n",
    "        for movie in data:\n",
    "            writer.writerow([movie['title'], movie['score'], movie['url']])\n",
    "    print(f\"数据已保存到{filename}\")\n",
    "\n",
    "# 生成豆瓣电影网址列表。\n",
    "def generate_douban_urls(start, end, step):\n",
    "    \"\"\"\n",
    "    :param start: 起始值\n",
    "    :param end: 终止值\n",
    "    :param step: 每次递增的步长\n",
    "    :return: 生成的网址列表\n",
    "    \"\"\"\n",
    "    base_url = \"https://movie.douban.com/j/chart/top_list?type=18&interval_id=100%3A90&action=&start={}&limit=20\"\n",
    "    urls = [base_url.format(i) for i in range(start, end, step)]\n",
    "    return urls\n",
    "\n",
    "## 解析获取到的json数据\n",
    "def parse_movie_data(movie_data):\n",
    "    \"\"\"\n",
    "    从电影数据中解析title、url和score。\n",
    "    \n",
    "    :param movie_data: 单部电影的数据\n",
    "    :return: 解析后的数据\n",
    "    \"\"\"\n",
    "    title = movie_data.get('title')\n",
    "    url = movie_data.get('url')\n",
    "    score = movie_data.get('score')\n",
    "    return title, url, score\n",
    "\n",
    "#从给定的URL列表中爬取数据。\n",
    "def fetch_data_from_urls(urls):\n",
    "    all_movies_data = []  # 初始化列表以收集所有电影数据\n",
    "    headers = {'User-Agent': 'Mozilla/5.0 (Windows NT 10.0; Win64; x64) AppleWebKit/537.36 (KHTML, like Gecko) Chrome/58.0.3029.110 Safari/537.3'}\n",
    "    \n",
    "    for url in urls:\n",
    "        response = requests.get(url, headers=headers)\n",
    "        if response.status_code == 200:\n",
    "            movies_data = response.json()\n",
    "            for movie in movies_data:\n",
    "                title, url, score = parse_movie_data(movie)\n",
    "                all_movies_data.append({'title': title, 'url': url, 'score': score})\n",
    "        else:\n",
    "            print(f\"请求失败，状态码：{response.status_code}\")\n",
    "    \n",
    "    # 在完成所有请求后，将数据保存到CSV文件\n",
    "    save_data_to_csv(all_movies_data)\n",
    "\n",
    "#运行程序\n",
    "urls = generate_douban_urls(0, 60, 20)  \n",
    "fetch_data_from_urls(urls)"
   ]
  },
  {
   "cell_type": "code",
   "execution_count": null,
   "metadata": {},
   "outputs": [],
   "source": [
    "#将收集到的电影信息保存到Excel文件中\n",
    "import pandas as pd\n",
    "import requests\n",
    "import json\n",
    "\n",
    "#将爬取的数据保存到Excel文件中\n",
    "def save_data_to_excel(data, filename='movies_data.xlsx'):\n",
    "    \"\"\"\n",
    "    :param data: 要保存的数据列表，每个元素是一个包含电影信息的字典。\n",
    "    :param filename: Excel文件的名称。\n",
    "    \"\"\"\n",
    "    # 将数据转换为DataFrame\n",
    "    df = pd.DataFrame(data)\n",
    "    # 保存DataFrame到Excel，确保安装了openpyxl\n",
    "    df.to_excel(filename, index=False, engine='openpyxl')\n",
    "    print(f\"数据已保存到{filename}\")\n",
    "\n",
    "# 生成豆瓣电影网址列表。\n",
    "def generate_douban_urls(start, end, step):\n",
    "    \"\"\"\n",
    "    :param start: 起始值\n",
    "    :param end: 终止值\n",
    "    :param step: 每次递增的步长\n",
    "    :return: 生成的网址列表\n",
    "    \"\"\"\n",
    "    base_url = \"https://movie.douban.com/j/chart/top_list?type=18&interval_id=100%3A90&action=&start={}&limit=20\"\n",
    "    urls = [base_url.format(i) for i in range(start, end, step)]\n",
    "    return urls\n",
    "\n",
    "## 解析获取到的json数据\n",
    "def parse_movie_data(movie_data):\n",
    "    \"\"\"\n",
    "    从电影数据中解析title、url和score。\n",
    "    \n",
    "    :param movie_data: 单部电影的数据\n",
    "    :return: 解析后的数据\n",
    "    \"\"\"\n",
    "    title = movie_data.get('title')\n",
    "    url = movie_data.get('url')\n",
    "    score = movie_data.get('score')\n",
    "    return title, url, score\n",
    "\n",
    "#从给定的URL列表中爬取数据。\n",
    "def fetch_data_from_urls(urls):\n",
    "    movies_data = []  # 初始化空列表以收集电影数据\n",
    "    headers = {'User-Agent': 'Mozilla/5.0 (Windows NT 10.0; Win64; x64) AppleWebKit/537.36 (KHTML, like Gecko) Chrome/58.0.3029.110 Safari/537.3'}\n",
    "    \n",
    "    for url in urls:\n",
    "        response = requests.get(url, headers=headers)\n",
    "        if response.status_code == 200:\n",
    "            movies_json = response.json()\n",
    "            for movie in movies_json:\n",
    "                # 使用parse_movie_data函数解析数据\n",
    "                title, url, score = parse_movie_data(movie)\n",
    "                movies_data.append({'title': title, 'url': url, 'score': score})\n",
    "        else:\n",
    "            print(f\"请求失败，状态码：{response.status_code}\")\n",
    "            \n",
    "    # 在完成所有请求后保存数据到Excel\n",
    "    save_data_to_excel(movies_data)\n",
    "\n",
    "#运行程序\n",
    "urls = generate_douban_urls(0, 60, 20)  \n",
    "fetch_data_from_urls(urls)"
   ]
  },
  {
   "cell_type": "markdown",
   "metadata": {},
   "source": [
    "# 作业\n",
    "获取该链接下：https://movie.douban.com/chart，右侧分类排行榜某一分类电影的所有结果,包含电影名称、网址、评分、国别、发布时间等内容。\n",
    "\n",
    "每人一个分类：剧情 喜剧 动作 爱情 科幻 动画 悬疑 惊悚 恐怖 纪录片 短片 情色 音乐 歌舞 家庭 儿童 传记 历史 战争 犯罪 西部 奇幻 冒险 灾难 武侠 古装 运动 黑色电影\n",
    "\n",
    "班长进行统计如何分。\n",
    "将代码和获取到的数据提交到超星学习通。"
   ]
  }
 ],
 "metadata": {
  "kernelspec": {
   "display_name": "Python 3",
   "language": "python",
   "name": "python3"
  },
  "language_info": {
   "codemirror_mode": {
    "name": "ipython",
    "version": 3
   },
   "file_extension": ".py",
   "mimetype": "text/x-python",
   "name": "python",
   "nbconvert_exporter": "python",
   "pygments_lexer": "ipython3",
   "version": "3.11.7"
  }
 },
 "nbformat": 4,
 "nbformat_minor": 2
}
